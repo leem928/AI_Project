{
  "nbformat": 4,
  "nbformat_minor": 0,
  "metadata": {
    "colab": {
      "provenance": [],
      "machine_shape": "hm",
      "gpuType": "T4",
      "authorship_tag": "ABX9TyODw7u8mZxPNGLvkCPJjv9A",
      "include_colab_link": true
    },
    "kernelspec": {
      "name": "python3",
      "display_name": "Python 3"
    },
    "language_info": {
      "name": "python"
    },
    "accelerator": "GPU"
  },
  "cells": [
    {
      "cell_type": "markdown",
      "metadata": {
        "id": "view-in-github",
        "colab_type": "text"
      },
      "source": [
        "<a href=\"https://colab.research.google.com/github/leem928/AI_Project/blob/main/easyOCR%EC%A0%84%EC%B2%98%EB%A6%AC%EC%99%80%EB%9D%BD.ipynb\" target=\"_parent\"><img src=\"https://colab.research.google.com/assets/colab-badge.svg\" alt=\"Open In Colab\"/></a>"
      ]
    },
    {
      "cell_type": "code",
      "execution_count": 1,
      "metadata": {
        "id": "nz7yp8wdc2h7",
        "colab": {
          "base_uri": "https://localhost:8080/"
        },
        "outputId": "729155fd-2efb-43dc-ed92-c16755c2480f"
      },
      "outputs": [
        {
          "output_type": "stream",
          "name": "stdout",
          "text": [
            "✅ JSON 압축 해제 완료: /content/json\n",
            "✅ 이미지 압축 해제 완료: /content/images_more\n",
            "\n",
            "📁 JSON 폴더 내 파일 샘플:\n",
            "['json']\n",
            "\n",
            "📁 이미지 폴더 내 파일 샘플:\n",
            "['images_more']\n"
          ]
        }
      ],
      "source": [
        "import zipfile\n",
        "import os\n",
        "\n",
        "# 🔹 경로 설정 (압축파일 경로)\n",
        "json_zip = \"/content/json.zip\"            # JSON 압축파일 경로\n",
        "img_zip = \"/content/images_more.zip\"      # 이미지 압축파일 경로\n",
        "\n",
        "# 🔹 압축 해제 폴더 생성\n",
        "json_dir = \"/content/json\"\n",
        "img_dir = \"/content/images_more\"\n",
        "os.makedirs(json_dir, exist_ok=True)\n",
        "os.makedirs(img_dir, exist_ok=True)\n",
        "\n",
        "# 🔹 JSON 압축 해제\n",
        "with zipfile.ZipFile(json_zip, 'r') as zip_ref:\n",
        "    zip_ref.extractall(json_dir)\n",
        "print(f\"✅ JSON 압축 해제 완료: {json_dir}\")\n",
        "\n",
        "# 🔹 이미지 압축 해제\n",
        "with zipfile.ZipFile(img_zip, 'r') as zip_ref:\n",
        "    zip_ref.extractall(img_dir)\n",
        "print(f\"✅ 이미지 압축 해제 완료: {img_dir}\")\n",
        "\n",
        "# 🔹 결과 확인\n",
        "print(\"\\n📁 JSON 폴더 내 파일 샘플:\")\n",
        "print(os.listdir(json_dir)[:5])\n",
        "\n",
        "print(\"\\n📁 이미지 폴더 내 파일 샘플:\")\n",
        "print(os.listdir(img_dir)[:5])"
      ]
    },
    {
      "cell_type": "code",
      "source": [
        "!pip install easyocr"
      ],
      "metadata": {
        "colab": {
          "base_uri": "https://localhost:8080/"
        },
        "id": "v7FNm_IUHRhs",
        "outputId": "1c444364-d6a4-4437-e31f-7baf21ef88e0"
      },
      "execution_count": 2,
      "outputs": [
        {
          "output_type": "stream",
          "name": "stdout",
          "text": [
            "Collecting easyocr\n",
            "  Downloading easyocr-1.7.2-py3-none-any.whl.metadata (10 kB)\n",
            "Requirement already satisfied: torch in /usr/local/lib/python3.12/dist-packages (from easyocr) (2.8.0+cu126)\n",
            "Requirement already satisfied: torchvision>=0.5 in /usr/local/lib/python3.12/dist-packages (from easyocr) (0.23.0+cu126)\n",
            "Requirement already satisfied: opencv-python-headless in /usr/local/lib/python3.12/dist-packages (from easyocr) (4.12.0.88)\n",
            "Requirement already satisfied: scipy in /usr/local/lib/python3.12/dist-packages (from easyocr) (1.16.2)\n",
            "Requirement already satisfied: numpy in /usr/local/lib/python3.12/dist-packages (from easyocr) (2.0.2)\n",
            "Requirement already satisfied: Pillow in /usr/local/lib/python3.12/dist-packages (from easyocr) (11.3.0)\n",
            "Requirement already satisfied: scikit-image in /usr/local/lib/python3.12/dist-packages (from easyocr) (0.25.2)\n",
            "Collecting python-bidi (from easyocr)\n",
            "  Downloading python_bidi-0.6.6-cp312-cp312-manylinux_2_17_x86_64.manylinux2014_x86_64.whl.metadata (4.9 kB)\n",
            "Requirement already satisfied: PyYAML in /usr/local/lib/python3.12/dist-packages (from easyocr) (6.0.3)\n",
            "Requirement already satisfied: Shapely in /usr/local/lib/python3.12/dist-packages (from easyocr) (2.1.2)\n",
            "Collecting pyclipper (from easyocr)\n",
            "  Downloading pyclipper-1.3.0.post6-cp312-cp312-manylinux_2_17_x86_64.manylinux2014_x86_64.whl.metadata (9.0 kB)\n",
            "Collecting ninja (from easyocr)\n",
            "  Downloading ninja-1.13.0-py3-none-manylinux2014_x86_64.manylinux_2_17_x86_64.whl.metadata (5.1 kB)\n",
            "Requirement already satisfied: filelock in /usr/local/lib/python3.12/dist-packages (from torch->easyocr) (3.20.0)\n",
            "Requirement already satisfied: typing-extensions>=4.10.0 in /usr/local/lib/python3.12/dist-packages (from torch->easyocr) (4.15.0)\n",
            "Requirement already satisfied: setuptools in /usr/local/lib/python3.12/dist-packages (from torch->easyocr) (75.2.0)\n",
            "Requirement already satisfied: sympy>=1.13.3 in /usr/local/lib/python3.12/dist-packages (from torch->easyocr) (1.13.3)\n",
            "Requirement already satisfied: networkx in /usr/local/lib/python3.12/dist-packages (from torch->easyocr) (3.5)\n",
            "Requirement already satisfied: jinja2 in /usr/local/lib/python3.12/dist-packages (from torch->easyocr) (3.1.6)\n",
            "Requirement already satisfied: fsspec in /usr/local/lib/python3.12/dist-packages (from torch->easyocr) (2025.3.0)\n",
            "Requirement already satisfied: nvidia-cuda-nvrtc-cu12==12.6.77 in /usr/local/lib/python3.12/dist-packages (from torch->easyocr) (12.6.77)\n",
            "Requirement already satisfied: nvidia-cuda-runtime-cu12==12.6.77 in /usr/local/lib/python3.12/dist-packages (from torch->easyocr) (12.6.77)\n",
            "Requirement already satisfied: nvidia-cuda-cupti-cu12==12.6.80 in /usr/local/lib/python3.12/dist-packages (from torch->easyocr) (12.6.80)\n",
            "Requirement already satisfied: nvidia-cudnn-cu12==9.10.2.21 in /usr/local/lib/python3.12/dist-packages (from torch->easyocr) (9.10.2.21)\n",
            "Requirement already satisfied: nvidia-cublas-cu12==12.6.4.1 in /usr/local/lib/python3.12/dist-packages (from torch->easyocr) (12.6.4.1)\n",
            "Requirement already satisfied: nvidia-cufft-cu12==11.3.0.4 in /usr/local/lib/python3.12/dist-packages (from torch->easyocr) (11.3.0.4)\n",
            "Requirement already satisfied: nvidia-curand-cu12==10.3.7.77 in /usr/local/lib/python3.12/dist-packages (from torch->easyocr) (10.3.7.77)\n",
            "Requirement already satisfied: nvidia-cusolver-cu12==11.7.1.2 in /usr/local/lib/python3.12/dist-packages (from torch->easyocr) (11.7.1.2)\n",
            "Requirement already satisfied: nvidia-cusparse-cu12==12.5.4.2 in /usr/local/lib/python3.12/dist-packages (from torch->easyocr) (12.5.4.2)\n",
            "Requirement already satisfied: nvidia-cusparselt-cu12==0.7.1 in /usr/local/lib/python3.12/dist-packages (from torch->easyocr) (0.7.1)\n",
            "Requirement already satisfied: nvidia-nccl-cu12==2.27.3 in /usr/local/lib/python3.12/dist-packages (from torch->easyocr) (2.27.3)\n",
            "Requirement already satisfied: nvidia-nvtx-cu12==12.6.77 in /usr/local/lib/python3.12/dist-packages (from torch->easyocr) (12.6.77)\n",
            "Requirement already satisfied: nvidia-nvjitlink-cu12==12.6.85 in /usr/local/lib/python3.12/dist-packages (from torch->easyocr) (12.6.85)\n",
            "Requirement already satisfied: nvidia-cufile-cu12==1.11.1.6 in /usr/local/lib/python3.12/dist-packages (from torch->easyocr) (1.11.1.6)\n",
            "Requirement already satisfied: triton==3.4.0 in /usr/local/lib/python3.12/dist-packages (from torch->easyocr) (3.4.0)\n",
            "Requirement already satisfied: imageio!=2.35.0,>=2.33 in /usr/local/lib/python3.12/dist-packages (from scikit-image->easyocr) (2.37.0)\n",
            "Requirement already satisfied: tifffile>=2022.8.12 in /usr/local/lib/python3.12/dist-packages (from scikit-image->easyocr) (2025.10.4)\n",
            "Requirement already satisfied: packaging>=21 in /usr/local/lib/python3.12/dist-packages (from scikit-image->easyocr) (25.0)\n",
            "Requirement already satisfied: lazy-loader>=0.4 in /usr/local/lib/python3.12/dist-packages (from scikit-image->easyocr) (0.4)\n",
            "Requirement already satisfied: mpmath<1.4,>=1.1.0 in /usr/local/lib/python3.12/dist-packages (from sympy>=1.13.3->torch->easyocr) (1.3.0)\n",
            "Requirement already satisfied: MarkupSafe>=2.0 in /usr/local/lib/python3.12/dist-packages (from jinja2->torch->easyocr) (3.0.3)\n",
            "Downloading easyocr-1.7.2-py3-none-any.whl (2.9 MB)\n",
            "\u001b[2K   \u001b[90m━━━━━━━━━━━━━━━━━━━━━━━━━━━━━━━━━━━━━━━━\u001b[0m \u001b[32m2.9/2.9 MB\u001b[0m \u001b[31m96.9 MB/s\u001b[0m eta \u001b[36m0:00:00\u001b[0m\n",
            "\u001b[?25hDownloading ninja-1.13.0-py3-none-manylinux2014_x86_64.manylinux_2_17_x86_64.whl (180 kB)\n",
            "\u001b[2K   \u001b[90m━━━━━━━━━━━━━━━━━━━━━━━━━━━━━━━━━━━━━━━━\u001b[0m \u001b[32m180.7/180.7 kB\u001b[0m \u001b[31m20.7 MB/s\u001b[0m eta \u001b[36m0:00:00\u001b[0m\n",
            "\u001b[?25hDownloading pyclipper-1.3.0.post6-cp312-cp312-manylinux_2_17_x86_64.manylinux2014_x86_64.whl (963 kB)\n",
            "\u001b[2K   \u001b[90m━━━━━━━━━━━━━━━━━━━━━━━━━━━━━━━━━━━━━━━━\u001b[0m \u001b[32m963.8/963.8 kB\u001b[0m \u001b[31m71.4 MB/s\u001b[0m eta \u001b[36m0:00:00\u001b[0m\n",
            "\u001b[?25hDownloading python_bidi-0.6.6-cp312-cp312-manylinux_2_17_x86_64.manylinux2014_x86_64.whl (292 kB)\n",
            "\u001b[2K   \u001b[90m━━━━━━━━━━━━━━━━━━━━━━━━━━━━━━━━━━━━━━━━\u001b[0m \u001b[32m292.1/292.1 kB\u001b[0m \u001b[31m30.6 MB/s\u001b[0m eta \u001b[36m0:00:00\u001b[0m\n",
            "\u001b[?25hInstalling collected packages: python-bidi, pyclipper, ninja, easyocr\n",
            "Successfully installed easyocr-1.7.2 ninja-1.13.0 pyclipper-1.3.0.post6 python-bidi-0.6.6\n"
          ]
        }
      ]
    },
    {
      "cell_type": "code",
      "source": [
        "import os\n",
        "import re\n",
        "import json\n",
        "import pandas as pd\n",
        "from tqdm import tqdm\n",
        "\n",
        "# ==============================\n",
        "# 📁 경로 설정\n",
        "# ==============================\n",
        "json_dir = \"/content/json/json\"  # JSON 폴더 경로\n",
        "output_csv = \"/content/ground_truth.csv\"  # 출력 CSV 경로\n",
        "\n",
        "# ==============================\n",
        "# 🔢 자연수 정렬 함수\n",
        "# ==============================\n",
        "def natural_key(s: str):\n",
        "    \"\"\"파일 이름의 숫자 기준으로 정렬 (cosmetics_2.json → cosmetics_10.json 순서 맞춤)\"\"\"\n",
        "    return [int(t) if t.isdigit() else t.lower() for t in re.split(r'(\\d+)', s)]\n",
        "\n",
        "# ==============================\n",
        "# 🔍 JSON에서 type=2 텍스트 추출 함수\n",
        "# ==============================\n",
        "def extract_type2_text(json_path):\n",
        "    \"\"\"JSON에서 type=2의 모든 텍스트를 연결해서 반환\"\"\"\n",
        "    with open(json_path, \"r\", encoding=\"utf-8\") as f:\n",
        "        data = json.load(f)\n",
        "\n",
        "    texts = []\n",
        "    for ann in data.get(\"annotations\", []):\n",
        "        for poly in ann.get(\"polygons\", []):\n",
        "            if str(poly.get(\"type\")) == \"2\" and \"text\" in poly:\n",
        "                txt = str(poly[\"text\"]).strip()\n",
        "                if txt:\n",
        "                    texts.append(txt)\n",
        "    return \" \".join(texts).strip()\n",
        "\n",
        "# ==============================\n",
        "# 📄 전체 JSON 파일 불러오기 (정렬 포함)\n",
        "# ==============================\n",
        "json_files = sorted(\n",
        "    [f for f in os.listdir(json_dir) if f.endswith(\".json\")],\n",
        "    key=natural_key  # ✅ 여기서 숫자 순서로 정렬\n",
        ")\n",
        "\n",
        "results = []\n",
        "for file in tqdm(json_files, desc=\"📑 JSON 파일 처리 중\"):\n",
        "    json_path = os.path.join(json_dir, file)\n",
        "    gt_text = extract_type2_text(json_path)\n",
        "    if gt_text:\n",
        "        results.append({\n",
        "            \"filename\": file,\n",
        "            \"GT_text\": gt_text\n",
        "        })\n",
        "\n",
        "# ==============================\n",
        "# 💾 CSV 저장\n",
        "# ==============================\n",
        "df = pd.DataFrame(results)\n",
        "df.to_csv(output_csv, index=False, encoding=\"utf-8-sig\")\n",
        "\n",
        "print(f\"✅ 완료! {len(df)}개 파일의 정답(type=2) 텍스트를 추출했습니다.\")\n",
        "print(f\"📁 저장 경로: {output_csv}\")\n",
        "display(df.head(15))"
      ],
      "metadata": {
        "colab": {
          "base_uri": "https://localhost:8080/",
          "height": 835
        },
        "id": "QeIfJsjuHWyW",
        "outputId": "b071321e-6fd0-4c2e-9abe-a72042260633"
      },
      "execution_count": 3,
      "outputs": [
        {
          "output_type": "stream",
          "name": "stderr",
          "text": [
            "📑 JSON 파일 처리 중: 100%|██████████| 100/100 [00:00<00:00, 354.56it/s]\n"
          ]
        },
        {
          "output_type": "stream",
          "name": "stdout",
          "text": [
            "✅ 완료! 100개 파일의 정답(type=2) 텍스트를 추출했습니다.\n",
            "📁 저장 경로: /content/ground_truth.csv\n"
          ]
        },
        {
          "output_type": "display_data",
          "data": {
            "text/plain": [
              "                filename                                            GT_text\n",
              "0   cosmetics_00007.json  | 전성분 | 정제수, 1,2-헥산다이올, 프로판다이올, 부틸렌글라이콜, 소듐하이알...\n",
              "1   cosmetics_00022.json  전성분 스테아레이트, 씨드, 이알루로네이트, 리놀레닉애씨드, 정제수, 프로판다이올,...\n",
              "2   cosmetics_00025.json  ● 전성분: 소듐팔메이트, 벤질벤조에이트, 리모넨, 비에이치티, 소듐팜커넬레이트, ...\n",
              "3   cosmetics_00026.json  [전성분] 정제수, 병풀추출물(580ppm), 변성알코올, 글루코노락톤, 부틸렌글라...\n",
              "4   cosmetics_00031.json  전성분 정제수, 에탄올, 부틸렌글라이콜, 해수, 만 델릭애씨드, 소듐시트레이트, 가...\n",
              "5   cosmetics_00039.json  전성분 정제수, 석시네이트, 펄라이트, 트, 라우릴글루코사이드, 다이소듐코코암포다이...\n",
              "6   cosmetics_00041.json  전성분 정제수, 다이아세테이트, 레이트코폴리머, 구슬나무잎추출물, 라우릴베타인, 소...\n",
              "7   cosmetics_00045.json  【주요성분】 치오글리콜산 전성분 정제수, 세테아릴알코올, 미네랄오일, 우레아, 칼슘...\n",
              "8   cosmetics_00047.json  【전성분】 에틸헥시팔미테이트, 오일, 스위트아몬드오일, 올리브오일, 토코페릴아세테이...\n",
              "9   cosmetics_00049.json  전성분: 록사이드, 호호바씨오일, 칠이오논, 제라리올 정제수, 세테아레스-20, 카...\n",
              "10  cosmetics_00053.json  전성분 | 코코넛야자오일, 정제수, 해바라기씨오일, 포도씨오일, 알로에베라추출물, ...\n",
              "11  cosmetics_00064.json  [전성분] 정제수, 글리세린, 인도멀구슬나무잎추출물, 인도멀구슬나무꽃추출물, 홀리바...\n",
              "12  cosmetics_00068.json  [전성분] 정제수, 글리세린, 아크릴레이트코폴리머, 다이프로필렌 글라이콜, 코카미도...\n",
              "13  cosmetics_00071.json  [성분명] 버베나 데오 퍼퓸 리모넨, 시트랄, : 정제수, 헥실신남알, 제라니올, ...\n",
              "14  cosmetics_00081.json  성분명 정제수, 소듐라우레스설페이트, 이트, 피이지-45팜커넬글리세라이즈, 이콜, ..."
            ],
            "text/html": [
              "\n",
              "  <div id=\"df-bc1673c9-f2e1-4d72-b248-159ecc6bbf85\" class=\"colab-df-container\">\n",
              "    <div>\n",
              "<style scoped>\n",
              "    .dataframe tbody tr th:only-of-type {\n",
              "        vertical-align: middle;\n",
              "    }\n",
              "\n",
              "    .dataframe tbody tr th {\n",
              "        vertical-align: top;\n",
              "    }\n",
              "\n",
              "    .dataframe thead th {\n",
              "        text-align: right;\n",
              "    }\n",
              "</style>\n",
              "<table border=\"1\" class=\"dataframe\">\n",
              "  <thead>\n",
              "    <tr style=\"text-align: right;\">\n",
              "      <th></th>\n",
              "      <th>filename</th>\n",
              "      <th>GT_text</th>\n",
              "    </tr>\n",
              "  </thead>\n",
              "  <tbody>\n",
              "    <tr>\n",
              "      <th>0</th>\n",
              "      <td>cosmetics_00007.json</td>\n",
              "      <td>| 전성분 | 정제수, 1,2-헥산다이올, 프로판다이올, 부틸렌글라이콜, 소듐하이알...</td>\n",
              "    </tr>\n",
              "    <tr>\n",
              "      <th>1</th>\n",
              "      <td>cosmetics_00022.json</td>\n",
              "      <td>전성분 스테아레이트, 씨드, 이알루로네이트, 리놀레닉애씨드, 정제수, 프로판다이올,...</td>\n",
              "    </tr>\n",
              "    <tr>\n",
              "      <th>2</th>\n",
              "      <td>cosmetics_00025.json</td>\n",
              "      <td>● 전성분: 소듐팔메이트, 벤질벤조에이트, 리모넨, 비에이치티, 소듐팜커넬레이트, ...</td>\n",
              "    </tr>\n",
              "    <tr>\n",
              "      <th>3</th>\n",
              "      <td>cosmetics_00026.json</td>\n",
              "      <td>[전성분] 정제수, 병풀추출물(580ppm), 변성알코올, 글루코노락톤, 부틸렌글라...</td>\n",
              "    </tr>\n",
              "    <tr>\n",
              "      <th>4</th>\n",
              "      <td>cosmetics_00031.json</td>\n",
              "      <td>전성분 정제수, 에탄올, 부틸렌글라이콜, 해수, 만 델릭애씨드, 소듐시트레이트, 가...</td>\n",
              "    </tr>\n",
              "    <tr>\n",
              "      <th>5</th>\n",
              "      <td>cosmetics_00039.json</td>\n",
              "      <td>전성분 정제수, 석시네이트, 펄라이트, 트, 라우릴글루코사이드, 다이소듐코코암포다이...</td>\n",
              "    </tr>\n",
              "    <tr>\n",
              "      <th>6</th>\n",
              "      <td>cosmetics_00041.json</td>\n",
              "      <td>전성분 정제수, 다이아세테이트, 레이트코폴리머, 구슬나무잎추출물, 라우릴베타인, 소...</td>\n",
              "    </tr>\n",
              "    <tr>\n",
              "      <th>7</th>\n",
              "      <td>cosmetics_00045.json</td>\n",
              "      <td>【주요성분】 치오글리콜산 전성분 정제수, 세테아릴알코올, 미네랄오일, 우레아, 칼슘...</td>\n",
              "    </tr>\n",
              "    <tr>\n",
              "      <th>8</th>\n",
              "      <td>cosmetics_00047.json</td>\n",
              "      <td>【전성분】 에틸헥시팔미테이트, 오일, 스위트아몬드오일, 올리브오일, 토코페릴아세테이...</td>\n",
              "    </tr>\n",
              "    <tr>\n",
              "      <th>9</th>\n",
              "      <td>cosmetics_00049.json</td>\n",
              "      <td>전성분: 록사이드, 호호바씨오일, 칠이오논, 제라리올 정제수, 세테아레스-20, 카...</td>\n",
              "    </tr>\n",
              "    <tr>\n",
              "      <th>10</th>\n",
              "      <td>cosmetics_00053.json</td>\n",
              "      <td>전성분 | 코코넛야자오일, 정제수, 해바라기씨오일, 포도씨오일, 알로에베라추출물, ...</td>\n",
              "    </tr>\n",
              "    <tr>\n",
              "      <th>11</th>\n",
              "      <td>cosmetics_00064.json</td>\n",
              "      <td>[전성분] 정제수, 글리세린, 인도멀구슬나무잎추출물, 인도멀구슬나무꽃추출물, 홀리바...</td>\n",
              "    </tr>\n",
              "    <tr>\n",
              "      <th>12</th>\n",
              "      <td>cosmetics_00068.json</td>\n",
              "      <td>[전성분] 정제수, 글리세린, 아크릴레이트코폴리머, 다이프로필렌 글라이콜, 코카미도...</td>\n",
              "    </tr>\n",
              "    <tr>\n",
              "      <th>13</th>\n",
              "      <td>cosmetics_00071.json</td>\n",
              "      <td>[성분명] 버베나 데오 퍼퓸 리모넨, 시트랄, : 정제수, 헥실신남알, 제라니올, ...</td>\n",
              "    </tr>\n",
              "    <tr>\n",
              "      <th>14</th>\n",
              "      <td>cosmetics_00081.json</td>\n",
              "      <td>성분명 정제수, 소듐라우레스설페이트, 이트, 피이지-45팜커넬글리세라이즈, 이콜, ...</td>\n",
              "    </tr>\n",
              "  </tbody>\n",
              "</table>\n",
              "</div>\n",
              "    <div class=\"colab-df-buttons\">\n",
              "\n",
              "  <div class=\"colab-df-container\">\n",
              "    <button class=\"colab-df-convert\" onclick=\"convertToInteractive('df-bc1673c9-f2e1-4d72-b248-159ecc6bbf85')\"\n",
              "            title=\"Convert this dataframe to an interactive table.\"\n",
              "            style=\"display:none;\">\n",
              "\n",
              "  <svg xmlns=\"http://www.w3.org/2000/svg\" height=\"24px\" viewBox=\"0 -960 960 960\">\n",
              "    <path d=\"M120-120v-720h720v720H120Zm60-500h600v-160H180v160Zm220 220h160v-160H400v160Zm0 220h160v-160H400v160ZM180-400h160v-160H180v160Zm440 0h160v-160H620v160ZM180-180h160v-160H180v160Zm440 0h160v-160H620v160Z\"/>\n",
              "  </svg>\n",
              "    </button>\n",
              "\n",
              "  <style>\n",
              "    .colab-df-container {\n",
              "      display:flex;\n",
              "      gap: 12px;\n",
              "    }\n",
              "\n",
              "    .colab-df-convert {\n",
              "      background-color: #E8F0FE;\n",
              "      border: none;\n",
              "      border-radius: 50%;\n",
              "      cursor: pointer;\n",
              "      display: none;\n",
              "      fill: #1967D2;\n",
              "      height: 32px;\n",
              "      padding: 0 0 0 0;\n",
              "      width: 32px;\n",
              "    }\n",
              "\n",
              "    .colab-df-convert:hover {\n",
              "      background-color: #E2EBFA;\n",
              "      box-shadow: 0px 1px 2px rgba(60, 64, 67, 0.3), 0px 1px 3px 1px rgba(60, 64, 67, 0.15);\n",
              "      fill: #174EA6;\n",
              "    }\n",
              "\n",
              "    .colab-df-buttons div {\n",
              "      margin-bottom: 4px;\n",
              "    }\n",
              "\n",
              "    [theme=dark] .colab-df-convert {\n",
              "      background-color: #3B4455;\n",
              "      fill: #D2E3FC;\n",
              "    }\n",
              "\n",
              "    [theme=dark] .colab-df-convert:hover {\n",
              "      background-color: #434B5C;\n",
              "      box-shadow: 0px 1px 3px 1px rgba(0, 0, 0, 0.15);\n",
              "      filter: drop-shadow(0px 1px 2px rgba(0, 0, 0, 0.3));\n",
              "      fill: #FFFFFF;\n",
              "    }\n",
              "  </style>\n",
              "\n",
              "    <script>\n",
              "      const buttonEl =\n",
              "        document.querySelector('#df-bc1673c9-f2e1-4d72-b248-159ecc6bbf85 button.colab-df-convert');\n",
              "      buttonEl.style.display =\n",
              "        google.colab.kernel.accessAllowed ? 'block' : 'none';\n",
              "\n",
              "      async function convertToInteractive(key) {\n",
              "        const element = document.querySelector('#df-bc1673c9-f2e1-4d72-b248-159ecc6bbf85');\n",
              "        const dataTable =\n",
              "          await google.colab.kernel.invokeFunction('convertToInteractive',\n",
              "                                                    [key], {});\n",
              "        if (!dataTable) return;\n",
              "\n",
              "        const docLinkHtml = 'Like what you see? Visit the ' +\n",
              "          '<a target=\"_blank\" href=https://colab.research.google.com/notebooks/data_table.ipynb>data table notebook</a>'\n",
              "          + ' to learn more about interactive tables.';\n",
              "        element.innerHTML = '';\n",
              "        dataTable['output_type'] = 'display_data';\n",
              "        await google.colab.output.renderOutput(dataTable, element);\n",
              "        const docLink = document.createElement('div');\n",
              "        docLink.innerHTML = docLinkHtml;\n",
              "        element.appendChild(docLink);\n",
              "      }\n",
              "    </script>\n",
              "  </div>\n",
              "\n",
              "\n",
              "    <div id=\"df-dd874d11-d44d-4a27-a864-0ffe1234d489\">\n",
              "      <button class=\"colab-df-quickchart\" onclick=\"quickchart('df-dd874d11-d44d-4a27-a864-0ffe1234d489')\"\n",
              "                title=\"Suggest charts\"\n",
              "                style=\"display:none;\">\n",
              "\n",
              "<svg xmlns=\"http://www.w3.org/2000/svg\" height=\"24px\"viewBox=\"0 0 24 24\"\n",
              "     width=\"24px\">\n",
              "    <g>\n",
              "        <path d=\"M19 3H5c-1.1 0-2 .9-2 2v14c0 1.1.9 2 2 2h14c1.1 0 2-.9 2-2V5c0-1.1-.9-2-2-2zM9 17H7v-7h2v7zm4 0h-2V7h2v10zm4 0h-2v-4h2v4z\"/>\n",
              "    </g>\n",
              "</svg>\n",
              "      </button>\n",
              "\n",
              "<style>\n",
              "  .colab-df-quickchart {\n",
              "      --bg-color: #E8F0FE;\n",
              "      --fill-color: #1967D2;\n",
              "      --hover-bg-color: #E2EBFA;\n",
              "      --hover-fill-color: #174EA6;\n",
              "      --disabled-fill-color: #AAA;\n",
              "      --disabled-bg-color: #DDD;\n",
              "  }\n",
              "\n",
              "  [theme=dark] .colab-df-quickchart {\n",
              "      --bg-color: #3B4455;\n",
              "      --fill-color: #D2E3FC;\n",
              "      --hover-bg-color: #434B5C;\n",
              "      --hover-fill-color: #FFFFFF;\n",
              "      --disabled-bg-color: #3B4455;\n",
              "      --disabled-fill-color: #666;\n",
              "  }\n",
              "\n",
              "  .colab-df-quickchart {\n",
              "    background-color: var(--bg-color);\n",
              "    border: none;\n",
              "    border-radius: 50%;\n",
              "    cursor: pointer;\n",
              "    display: none;\n",
              "    fill: var(--fill-color);\n",
              "    height: 32px;\n",
              "    padding: 0;\n",
              "    width: 32px;\n",
              "  }\n",
              "\n",
              "  .colab-df-quickchart:hover {\n",
              "    background-color: var(--hover-bg-color);\n",
              "    box-shadow: 0 1px 2px rgba(60, 64, 67, 0.3), 0 1px 3px 1px rgba(60, 64, 67, 0.15);\n",
              "    fill: var(--button-hover-fill-color);\n",
              "  }\n",
              "\n",
              "  .colab-df-quickchart-complete:disabled,\n",
              "  .colab-df-quickchart-complete:disabled:hover {\n",
              "    background-color: var(--disabled-bg-color);\n",
              "    fill: var(--disabled-fill-color);\n",
              "    box-shadow: none;\n",
              "  }\n",
              "\n",
              "  .colab-df-spinner {\n",
              "    border: 2px solid var(--fill-color);\n",
              "    border-color: transparent;\n",
              "    border-bottom-color: var(--fill-color);\n",
              "    animation:\n",
              "      spin 1s steps(1) infinite;\n",
              "  }\n",
              "\n",
              "  @keyframes spin {\n",
              "    0% {\n",
              "      border-color: transparent;\n",
              "      border-bottom-color: var(--fill-color);\n",
              "      border-left-color: var(--fill-color);\n",
              "    }\n",
              "    20% {\n",
              "      border-color: transparent;\n",
              "      border-left-color: var(--fill-color);\n",
              "      border-top-color: var(--fill-color);\n",
              "    }\n",
              "    30% {\n",
              "      border-color: transparent;\n",
              "      border-left-color: var(--fill-color);\n",
              "      border-top-color: var(--fill-color);\n",
              "      border-right-color: var(--fill-color);\n",
              "    }\n",
              "    40% {\n",
              "      border-color: transparent;\n",
              "      border-right-color: var(--fill-color);\n",
              "      border-top-color: var(--fill-color);\n",
              "    }\n",
              "    60% {\n",
              "      border-color: transparent;\n",
              "      border-right-color: var(--fill-color);\n",
              "    }\n",
              "    80% {\n",
              "      border-color: transparent;\n",
              "      border-right-color: var(--fill-color);\n",
              "      border-bottom-color: var(--fill-color);\n",
              "    }\n",
              "    90% {\n",
              "      border-color: transparent;\n",
              "      border-bottom-color: var(--fill-color);\n",
              "    }\n",
              "  }\n",
              "</style>\n",
              "\n",
              "      <script>\n",
              "        async function quickchart(key) {\n",
              "          const quickchartButtonEl =\n",
              "            document.querySelector('#' + key + ' button');\n",
              "          quickchartButtonEl.disabled = true;  // To prevent multiple clicks.\n",
              "          quickchartButtonEl.classList.add('colab-df-spinner');\n",
              "          try {\n",
              "            const charts = await google.colab.kernel.invokeFunction(\n",
              "                'suggestCharts', [key], {});\n",
              "          } catch (error) {\n",
              "            console.error('Error during call to suggestCharts:', error);\n",
              "          }\n",
              "          quickchartButtonEl.classList.remove('colab-df-spinner');\n",
              "          quickchartButtonEl.classList.add('colab-df-quickchart-complete');\n",
              "        }\n",
              "        (() => {\n",
              "          let quickchartButtonEl =\n",
              "            document.querySelector('#df-dd874d11-d44d-4a27-a864-0ffe1234d489 button');\n",
              "          quickchartButtonEl.style.display =\n",
              "            google.colab.kernel.accessAllowed ? 'block' : 'none';\n",
              "        })();\n",
              "      </script>\n",
              "    </div>\n",
              "\n",
              "    </div>\n",
              "  </div>\n"
            ],
            "application/vnd.google.colaboratory.intrinsic+json": {
              "type": "dataframe",
              "summary": "{\n  \"name\": \"display(df\",\n  \"rows\": 15,\n  \"fields\": [\n    {\n      \"column\": \"filename\",\n      \"properties\": {\n        \"dtype\": \"string\",\n        \"num_unique_values\": 15,\n        \"samples\": [\n          \"cosmetics_00049.json\",\n          \"cosmetics_00064.json\",\n          \"cosmetics_00007.json\"\n        ],\n        \"semantic_type\": \"\",\n        \"description\": \"\"\n      }\n    },\n    {\n      \"column\": \"GT_text\",\n      \"properties\": {\n        \"dtype\": \"string\",\n        \"num_unique_values\": 15,\n        \"samples\": [\n          \"\\uc804\\uc131\\ubd84: \\ub85d\\uc0ac\\uc774\\ub4dc, \\ud638\\ud638\\ubc14\\uc528\\uc624\\uc77c, \\uce60\\uc774\\uc624\\ub17c, \\uc81c\\ub77c\\ub9ac\\uc62c \\uc815\\uc81c\\uc218, \\uc138\\ud14c\\uc544\\ub808\\uc2a4-20, \\uce74\\uce74\\uc624\\uc528\\ub4dc\\ubc84\\ud130, \\ubbf8\\ub124\\ub784\\uc624\\uc77c, \\uc18c\\ub4d0\\ud558\\uc774\\ub4dc\\ub85d\\uc0ac\\uc774\\ub4dc, \\uce7c\\uc298\\uce58\\uc624\\uae00\\ub9ac\\ucf5c\\ub808\\uc774\\ud2b8, \\ud5a5\\ub8cc, \\uc138\\ud14c\\uc544\\ub9b4\\uc54c\\ucf54\\uc62c, \\uc2e4\\ub9ac\\uce74, \\uce7c\\uc298\\ud558\\uc774\\ub4dc \\uc544\\ub974\\uac04\\ud2b8\\ub9ac\\ucee4\\ub12c\\uc624\\uc77c, \\uc54c\\ud30c\\uc774\\uc18c\\uba54 \\ubd80\\ud2f8\\ud398\\ub2d0\\uba54\\uce60\\ud504\\ub85c\\ud53c\\uc624\\ub0a0, \\uc544\\ubc00\\uc2e0\\ub0a8\\uc54c,\",\n          \"[\\uc804\\uc131\\ubd84] \\uc815\\uc81c\\uc218, \\uae00\\ub9ac\\uc138\\ub9b0, \\uc778\\ub3c4\\uba40\\uad6c\\uc2ac\\ub098\\ubb34\\uc78e\\ucd94\\ucd9c\\ubb3c, \\uc778\\ub3c4\\uba40\\uad6c\\uc2ac\\ub098\\ubb34\\uaf43\\ucd94\\ucd9c\\ubb3c, \\ud640\\ub9ac\\ubc14\\uc9c8\\uc78e\\ucd94\\ucd9c\\ubb3c, \\ucc38\\uc0b0\\ud638\\ub9d0\\ucd94\\ucd9c\\ubb3c, \\ub4dc\\ub7fc\\uc2a4\\ud2f1\\uc528\\uc624\\uc77c, \\ubfcc\\ub9ac\\ucd94\\ucd9c\\ubb3c, \\uc81c\\ube44\\uaf43\\uaf43\\ucd94\\ucd9c\\ubb3c, \\ubcd1\\ud480\\ucd94\\ucd9c\\ubb3c, \\uc5d0\\ub09c\\ud2f0\\uc544 \\ud06c\\ub85c\\uc2a4\\ud3f4\\ub9ac\\uba38, 1,2-\\ud5e5\\uc0b0\\ub2e4\\uc774\\uc62c, \\uc0b4\\ub9ac\\uc2e4\\ub9ad\\uc560\\uc528\\ub4dc, \\uce74\\ud504\\ub9b4\\ub85c\\uc77c\\uc0b4\\ub9ac\\uc2e4\\ub9ad\\uc560\\uc528\\ub4dc, \\ud3ec\\ud0c0\\uc298\\ub77c\\uc6b0\\ub808\\uc2a4\\ud3ec\\uc2a4\\ud398\\uc774\\ud2b8, \\ub77c\\uc6b0\\ub9b4\\ud558\\uc774\\ub4dc\\ub85d\\uc2dc\\uc124\\ud14c\\uc778, \\uc544\\uc774\\ube44\\uace0\\ub4dc\\uc5f4\\ub9e4\\ucd94\\ucd9c\\ubb3c, \\uc54c\\ub85c\\uc5d0\\ubca0\\ub77c\\uc78e\\ucd94\\ucd9c\\ubb3c, \\ud074\\ub85c\\ub780\\ud0c0\\uaecd\\uc9c8\\ucd94\\ucd9c\\ubb3c, \\uce74\\ud504\\ub9b4\\ub9b4\\uae00\\ub77c\\uc774\\ucf5c, \\ub098\\uc774\\uc544\\uc2e0\\uc544\\ub9c8\\uc774\\ub4dc, \\ub9c8\\ub370\\uce74\\uc18c\\uc0ac\\uc774\\ub4dc, \\ubd80\\ud2f8\\ub80c\\uae00\\ub77c\\uc774\\ucf5c, \\ud03c\\ub77c\\uc790\\uaecd\\uc9c8\\ucd94\\ucd9c\\ubb3c, \\ud638\\ubc15\\uac00\\ub8e8, \\uac00\\uc9c0\\uc5f4\\ub9e4\\ucd94\\ucd9c\\ubb3c, \\uc6b8\\uae08\\ubfcc\\ub9ac\\ucd94\\ucd9c\\ubb3c, \\ucc38\\ub9c8\\ubfcc\\ub9ac\\ucd94\\ucd9c\\ubb3c, \\ub2e4\\uc2dc\\ub9c8\\ucd94\\ucd9c\\ubb3c, \\ub2f9\\ub290\\ub985\\ub098\\ubb34 \\uc544\\ud06c\\ub9b4\\ub808\\uc774\\ud2b8/C10-30\\uc54c\\ud0ac\\uc544\\ud06c\\ub9b4\\ub808\\uc774\\ud2b8 \\ucf54\\ucf54-\\uae00\\ub8e8\\ucf54\\uc0ac\\uc774\\ub4dc, \\uc18c\\ub4d0\\ucf54\\ucf54\\uc77c\\uc774\\uc138\\ud2f0\\uc624\\ub124\\uc774\\ud2b8, \\uc62c\\ub808\\uc544\\ub180\\ub9ad\\uc560\\uc528\\ub4dc, \\uc544\\uc2dc\\uc544\\ud2f0\\ucf54\\uc0ac\\uc774\\ub4dc, \\uc544\\uc2dc\\uc544\\ud2f1\\uc560\\uc528\\ub4dc, \\ub9c8\\ub370\\uce74\\uc2dd\\uc560\\uc528\\ub4dc, \\ub2e4\\uc774\\uc18c\\ub4d0\\uc774\\ub514\\ud2f0\\uc5d0\\uc774, \\ud5a5\\ub8cc [Ingredients] Water(Aqua/Eau), Hydroxysultaine, Butylene Azadirachta Leaf Extract, Melia Extract, Amber Powder, Solanum Longa (Turmeric) Root Extract, Glycerin, Potassium Laureth Glycol, Quillaja Saponaria Bark Azadirachta Flower Extract, Melongena (Eggplant) Fruit Ocimum Sanctum Leaf Extract, Phosphate, Lauryl Extract, Melia Coccinia Indica Fruit Extract, Curcuma Corallina Officinalis Extract, Moringa Oleifera Seed Oil, Japonica Root Extract, Laminaria Extract, Viola Mandshurica Flower Chlorantha Bark Extract, 1,2-Hexanediol, Salicylic Acid, Isethionate, Capryloyl Salicylic Acid, Aloe Barbadensis Leaf Japonica Extract, Ulmus Extract, Centella Asiatica Acrylates/C10-30 Alkyl Acrylate Caprylyl Glycol, Coco-Glucoside, Niacinamide, Madecassoside, Extract, Dioscorea Davidiana Root Extract, Enantia Crosspolymer, Sodium Cocoyl Oleanolic Acid, Asiaticoside, Asiatic Acid, Madecassic Acid, Disodium EDTA, Fragrance(Parfum)\",\n          \"| \\uc804\\uc131\\ubd84 | \\uc815\\uc81c\\uc218, 1,2-\\ud5e5\\uc0b0\\ub2e4\\uc774\\uc62c, \\ud504\\ub85c\\ud310\\ub2e4\\uc774\\uc62c, \\ubd80\\ud2f8\\ub80c\\uae00\\ub77c\\uc774\\ucf5c, \\uc18c\\ub4d0\\ud558\\uc774\\uc54c\\ub8e8\\ub85c\\ub124\\uc774\\ud2b8, \\ubcf5\\uc0ac\\ub098\\ubb34\\uc78e\\ucd94\\ucd9c\\ubb3c, \\uc0ac\\uacfc\\uc218, \\uc465\\uc78e\\ucd94\\ucd9c\\ubb3c, \\uc300\\ucd94\\ucd9c\\ubb3c, \\ub2e4\\uc774\\ud504\\ub85c\\ud544\\ub80c\\uae00\\ub77c\\uc774\\ucf5c, \\ubf55\\ub098\\ubb34\\uc78e\\ucd94\\ucd9c\\ubb3c, \\ud770\\ubc84\\ub4dc\\ub098\\ubb34 \\ub9e4\\uc2e4\\ucd94\\ucd9c\\ubb3c, \\ud310\\ud14c\\ub180, \\ud2b8\\ub85c\\uba54\\ud0c0\\ubbfc, \\uc544\\ud06c\\ub9b4\\ub808 \\uaecd\\uc9c8\\ucd94\\ucd9c\\ubb3c, \\ud68c\\ud654\\ub098\\ubb34\\ubfcc\\ub9ac\\ucd94\\ucd9c\\ubb3c, \\uc138\\ub77c\\ub9c8\\uc774\\ub4dc\\uc5d4\\ud53c, \\uc774\\uc62c, C12-14\\ud30c\\ub808\\uc2a4-12, \\uc774\\ud2b8/C10-30\\uc54c\\ud0ac\\uc544\\ud06c\\ub9b4\\ub808\\uc774\\ud2b8\\ud06c\\ub85c\\uc2a4\\ud3f4\\ub9ac\\uba38, \\uc5d0\\ud2f8\\ud5e5\\uc2e4\\uae00\\ub9ac\\uc138\\ub9b0, \\ub2e4\\uc774\\uc18c\\ub4d0\\uc774\\ub514\\ud2f0\\uc5d0\\uc774, \\ud5a5\\ub8cc \\uce74\\ubcf4\\uba38, \\uba54\\ud2f8\\ud504\\ub85c\\ud310\\ub2e4\"\n        ],\n        \"semantic_type\": \"\",\n        \"description\": \"\"\n      }\n    }\n  ]\n}"
            }
          },
          "metadata": {}
        }
      ]
    },
    {
      "cell_type": "code",
      "source": [
        "import os\n",
        "import re\n",
        "import json\n",
        "import cv2\n",
        "import numpy as np\n",
        "import easyocr\n",
        "from tqdm import tqdm\n",
        "import matplotlib.pyplot as plt\n",
        "\n",
        "# ==============================\n",
        "# 📁 경로 설정\n",
        "# ==============================\n",
        "json_dir = \"/content/json/json\"\n",
        "image_dir = \"/content/images_more/images_more\"\n",
        "output_dir = \"/content/ocr_visualized\"\n",
        "os.makedirs(output_dir, exist_ok=True)\n",
        "\n",
        "# ==============================\n",
        "# 🚀 EasyOCR 초기화\n",
        "# ==============================\n",
        "reader = easyocr.Reader(['ko'], gpu=True)\n",
        "\n",
        "# ==============================\n",
        "# 🔢 자연수 정렬 함수 정의\n",
        "# ==============================\n",
        "def natural_key(s: str):\n",
        "    # 예: cosmetics_2.json, cosmetics_10.json 순서 정렬\n",
        "    return [int(t) if t.isdigit() else t.lower() for t in re.split(r'(\\d+)', s)]\n",
        "\n",
        "# 🔝 상위 N개만 테스트하고 싶으면 지정 (None이면 전체)\n",
        "top_n = None  # 예: 10 으로 바꾸면 상위 10개만 실행\n",
        "\n",
        "# ==============================\n",
        "# 🔍 JSON 파일 목록 정렬\n",
        "# ==============================\n",
        "json_files = [f for f in os.listdir(json_dir) if f.endswith(\".json\")]\n",
        "json_files = sorted(json_files, key=natural_key)\n",
        "\n",
        "if top_n is not None:\n",
        "    json_files = json_files[:top_n]\n",
        "\n",
        "# ==============================\n",
        "# ✳️ JSON 기반 type=2 OCR + 시각화\n",
        "# ==============================\n",
        "for file in tqdm(json_files):\n",
        "    json_path = os.path.join(json_dir, file)\n",
        "    with open(json_path, \"r\", encoding=\"utf-8\") as f:\n",
        "        data = json.load(f)\n",
        "\n",
        "    img_name = data.get(\"name\") or file.replace(\".json\", \".jpg\")\n",
        "    base_name = os.path.splitext(img_name)[0]\n",
        "\n",
        "    # 원본 이미지 경로 찾기\n",
        "    for ext in [\".jpg\", \".jpeg\", \".png\"]:\n",
        "        img_path = os.path.join(image_dir, base_name + ext)\n",
        "        if os.path.exists(img_path):\n",
        "            break\n",
        "    else:\n",
        "        continue\n",
        "\n",
        "    img = cv2.imread(img_path)\n",
        "    if img is None:\n",
        "        continue\n",
        "\n",
        "    # 시각화용 복사본\n",
        "    vis_img = img.copy()\n",
        "    ocr_texts = []\n",
        "\n",
        "    # ==============================\n",
        "    # 🧠 type=2 polygon OCR 수행\n",
        "    # ==============================\n",
        "    for ann in data.get(\"annotations\", []):\n",
        "        for poly in ann.get(\"polygons\", []):\n",
        "            if str(poly.get(\"type\")) != \"2\" or \"points\" not in poly:\n",
        "                continue\n",
        "\n",
        "            points = np.array(poly[\"points\"], np.int32)\n",
        "            x_min, y_min = np.min(points[:, 0]), np.min(points[:, 1])\n",
        "            x_max, y_max = np.max(points[:, 0]), np.max(points[:, 1])\n",
        "            crop = img[y_min:y_max, x_min:x_max]\n",
        "\n",
        "            # OCR 수행\n",
        "            try:\n",
        "                results = reader.readtext(crop, detail=0, paragraph=True)\n",
        "                text = \" \".join(results)\n",
        "                if text.strip():\n",
        "                    ocr_texts.append(text)\n",
        "            except Exception as e:\n",
        "                tqdm.write(f\"⚠️ OCR 오류: {file} → {e}\")\n",
        "                continue\n",
        "\n",
        "            # 바운딩박스 시각화\n",
        "            cv2.polylines(vis_img, [points], isClosed=True, color=(0, 0, 255), thickness=2)\n",
        "            cv2.putText(\n",
        "                vis_img,\n",
        "                \"type2\",\n",
        "                (x_min, max(0, y_min - 10)),\n",
        "                cv2.FONT_HERSHEY_SIMPLEX,\n",
        "                0.6,\n",
        "                (0, 0, 255),\n",
        "                2,\n",
        "                cv2.LINE_AA,\n",
        "            )\n",
        "\n",
        "    # ==============================\n",
        "    # 💾 시각화 결과 저장\n",
        "    # ==============================\n",
        "    save_path = os.path.join(output_dir, f\"{base_name}_vis.png\")\n",
        "    cv2.imwrite(save_path, vis_img)\n",
        "\n",
        "    # ==============================\n",
        "    # 📄 OCR 결과 출력 (정렬 순서 유지)\n",
        "    # ==============================\n",
        "    tqdm.write(f\"📄 {base_name}.png OCR 결과:\")\n",
        "    tqdm.write(\" \".join(ocr_texts))\n",
        "    tqdm.write(\"=\" * 80)\n",
        "\n",
        "# ==============================\n",
        "# ✅ 처리 완료\n",
        "# ==============================\n",
        "tqdm.write(f\"\\n✅ 완료! 시각화 이미지는 {output_dir} 폴더에 순서대로 저장됨.\")"
      ],
      "metadata": {
        "id": "vewxX7VaeS3Z",
        "colab": {
          "base_uri": "https://localhost:8080/"
        },
        "outputId": "e35e95b6-782a-41be-b2be-b9ff0450bfdb"
      },
      "execution_count": 4,
      "outputs": [
        {
          "output_type": "stream",
          "name": "stderr",
          "text": [
            "WARNING:easyocr.easyocr:Downloading detection model, please wait. This may take several minutes depending upon your network connection.\n"
          ]
        },
        {
          "output_type": "stream",
          "name": "stdout",
          "text": [
            "Progress: |██████████████████████████████████████████████████| 100.0% Complete"
          ]
        },
        {
          "output_type": "stream",
          "name": "stderr",
          "text": [
            "WARNING:easyocr.easyocr:Downloading recognition model, please wait. This may take several minutes depending upon your network connection.\n"
          ]
        },
        {
          "output_type": "stream",
          "name": "stdout",
          "text": [
            "\rProgress: |--------------------------------------------------| 0.0% Complete\rProgress: |--------------------------------------------------| 0.1% Complete\rProgress: |--------------------------------------------------| 0.1% Complete\rProgress: |--------------------------------------------------| 0.2% Complete\rProgress: |--------------------------------------------------| 0.2% Complete\rProgress: |--------------------------------------------------| 0.3% Complete\rProgress: |--------------------------------------------------| 0.3% Complete\rProgress: |--------------------------------------------------| 0.4% Complete\rProgress: |--------------------------------------------------| 0.4% Complete\rProgress: |--------------------------------------------------| 0.5% Complete\rProgress: |--------------------------------------------------| 0.5% Complete\rProgress: |--------------------------------------------------| 0.6% Complete\rProgress: |--------------------------------------------------| 0.7% Complete\rProgress: |--------------------------------------------------| 0.7% Complete\rProgress: |--------------------------------------------------| 0.8% Complete\rProgress: |--------------------------------------------------| 0.8% Complete\rProgress: |--------------------------------------------------| 0.9% Complete\rProgress: |--------------------------------------------------| 0.9% Complete\rProgress: |--------------------------------------------------| 1.0% Complete\rProgress: |--------------------------------------------------| 1.0% Complete\rProgress: |--------------------------------------------------| 1.1% Complete\rProgress: |--------------------------------------------------| 1.2% Complete\rProgress: |--------------------------------------------------| 1.2% Complete\rProgress: |--------------------------------------------------| 1.3% Complete\rProgress: |--------------------------------------------------| 1.3% Complete\rProgress: |--------------------------------------------------| 1.4% Complete\rProgress: |--------------------------------------------------| 1.4% Complete\rProgress: |--------------------------------------------------| 1.5% Complete\rProgress: |--------------------------------------------------| 1.5% Complete\rProgress: |--------------------------------------------------| 1.6% Complete\rProgress: |--------------------------------------------------| 1.6% Complete\rProgress: |--------------------------------------------------| 1.7% Complete\rProgress: |--------------------------------------------------| 1.8% Complete\rProgress: |--------------------------------------------------| 1.8% Complete\rProgress: |--------------------------------------------------| 1.9% Complete\rProgress: |--------------------------------------------------| 1.9% Complete\rProgress: |--------------------------------------------------| 2.0% Complete\rProgress: |█-------------------------------------------------| 2.0% Complete\rProgress: |█-------------------------------------------------| 2.1% Complete\rProgress: |█-------------------------------------------------| 2.1% Complete\rProgress: |█-------------------------------------------------| 2.2% Complete\rProgress: |█-------------------------------------------------| 2.3% Complete\rProgress: |█-------------------------------------------------| 2.3% Complete\rProgress: |█-------------------------------------------------| 2.4% Complete\rProgress: |█-------------------------------------------------| 2.4% Complete\rProgress: |█-------------------------------------------------| 2.5% Complete\rProgress: |█-------------------------------------------------| 2.5% Complete\rProgress: |█-------------------------------------------------| 2.6% Complete\rProgress: |█-------------------------------------------------| 2.6% Complete\rProgress: |█-------------------------------------------------| 2.7% Complete\rProgress: |█-------------------------------------------------| 2.7% Complete\rProgress: |█-------------------------------------------------| 2.8% Complete\rProgress: |█-------------------------------------------------| 2.9% Complete\rProgress: |█-------------------------------------------------| 2.9% Complete\rProgress: |█-------------------------------------------------| 3.0% Complete\rProgress: |█-------------------------------------------------| 3.0% Complete\rProgress: |█-------------------------------------------------| 3.1% Complete\rProgress: |█-------------------------------------------------| 3.1% Complete\rProgress: |█-------------------------------------------------| 3.2% Complete\rProgress: |█-------------------------------------------------| 3.2% Complete\rProgress: |█-------------------------------------------------| 3.3% Complete\rProgress: |█-------------------------------------------------| 3.4% Complete\rProgress: |█-------------------------------------------------| 3.4% Complete\rProgress: |█-------------------------------------------------| 3.5% Complete\rProgress: |█-------------------------------------------------| 3.5% Complete\rProgress: |█-------------------------------------------------| 3.6% Complete\rProgress: |█-------------------------------------------------| 3.6% Complete\rProgress: |█-------------------------------------------------| 3.7% Complete\rProgress: |█-------------------------------------------------| 3.7% Complete\rProgress: |█-------------------------------------------------| 3.8% Complete\rProgress: |█-------------------------------------------------| 3.8% Complete\rProgress: |█-------------------------------------------------| 3.9% Complete\rProgress: |█-------------------------------------------------| 4.0% Complete\rProgress: |██------------------------------------------------| 4.0% Complete\rProgress: |██------------------------------------------------| 4.1% Complete\rProgress: |██------------------------------------------------| 4.1% Complete\rProgress: |██------------------------------------------------| 4.2% Complete\rProgress: |██------------------------------------------------| 4.2% Complete\rProgress: |██------------------------------------------------| 4.3% Complete\rProgress: |██------------------------------------------------| 4.3% Complete\rProgress: |██------------------------------------------------| 4.4% Complete\rProgress: |██------------------------------------------------| 4.5% Complete\rProgress: |██------------------------------------------------| 4.5% Complete\rProgress: |██------------------------------------------------| 4.6% Complete\rProgress: |██------------------------------------------------| 4.6% Complete\rProgress: |██------------------------------------------------| 4.7% Complete\rProgress: |██------------------------------------------------| 4.7% Complete\rProgress: |██------------------------------------------------| 4.8% Complete\rProgress: |██------------------------------------------------| 4.8% Complete\rProgress: |██------------------------------------------------| 4.9% Complete\rProgress: |██------------------------------------------------| 4.9% Complete\rProgress: |██------------------------------------------------| 5.0% Complete\rProgress: |██------------------------------------------------| 5.1% Complete\rProgress: |██------------------------------------------------| 5.1% Complete\rProgress: |██------------------------------------------------| 5.2% Complete\rProgress: |██------------------------------------------------| 5.2% Complete\rProgress: |██------------------------------------------------| 5.3% Complete\rProgress: |██------------------------------------------------| 5.3% Complete\rProgress: |██------------------------------------------------| 5.4% Complete\rProgress: |██------------------------------------------------| 5.4% Complete\rProgress: |██------------------------------------------------| 5.5% Complete\rProgress: |██------------------------------------------------| 5.5% Complete\rProgress: |██------------------------------------------------| 5.6% Complete\rProgress: |██------------------------------------------------| 5.7% Complete\rProgress: |██------------------------------------------------| 5.7% Complete\rProgress: |██------------------------------------------------| 5.8% Complete\rProgress: |██------------------------------------------------| 5.8% Complete\rProgress: |██------------------------------------------------| 5.9% Complete\rProgress: |██------------------------------------------------| 5.9% Complete\rProgress: |██------------------------------------------------| 6.0% Complete\rProgress: |███-----------------------------------------------| 6.0% Complete\rProgress: |███-----------------------------------------------| 6.1% Complete\rProgress: |███-----------------------------------------------| 6.2% Complete\rProgress: |███-----------------------------------------------| 6.2% Complete\rProgress: |███-----------------------------------------------| 6.3% Complete\rProgress: |███-----------------------------------------------| 6.3% Complete\rProgress: |███-----------------------------------------------| 6.4% Complete\rProgress: |███-----------------------------------------------| 6.4% Complete\rProgress: |███-----------------------------------------------| 6.5% Complete\rProgress: |███-----------------------------------------------| 6.5% Complete\rProgress: |███-----------------------------------------------| 6.6% Complete\rProgress: |███-----------------------------------------------| 6.6% Complete\rProgress: |███-----------------------------------------------| 6.7% Complete\rProgress: |███-----------------------------------------------| 6.8% Complete\rProgress: |███-----------------------------------------------| 6.8% Complete\rProgress: |███-----------------------------------------------| 6.9% Complete\rProgress: |███-----------------------------------------------| 6.9% Complete\rProgress: |███-----------------------------------------------| 7.0% Complete\rProgress: |███-----------------------------------------------| 7.0% Complete\rProgress: |███-----------------------------------------------| 7.1% Complete\rProgress: |███-----------------------------------------------| 7.1% Complete\rProgress: |███-----------------------------------------------| 7.2% Complete\rProgress: |███-----------------------------------------------| 7.3% Complete\rProgress: |███-----------------------------------------------| 7.3% Complete\rProgress: |███-----------------------------------------------| 7.4% Complete\rProgress: |███-----------------------------------------------| 7.4% Complete\rProgress: |███-----------------------------------------------| 7.5% Complete\rProgress: |███-----------------------------------------------| 7.5% Complete\rProgress: |███-----------------------------------------------| 7.6% Complete\rProgress: |███-----------------------------------------------| 7.6% Complete\rProgress: |███-----------------------------------------------| 7.7% Complete\rProgress: |███-----------------------------------------------| 7.7% Complete\rProgress: |███-----------------------------------------------| 7.8% Complete\rProgress: |███-----------------------------------------------| 7.9% Complete\rProgress: |███-----------------------------------------------| 7.9% Complete\rProgress: |███-----------------------------------------------| 8.0% Complete\rProgress: |████----------------------------------------------| 8.0% Complete\rProgress: |████----------------------------------------------| 8.1% Complete\rProgress: |████----------------------------------------------| 8.1% Complete\rProgress: |████----------------------------------------------| 8.2% Complete\rProgress: |████----------------------------------------------| 8.2% Complete\rProgress: |████----------------------------------------------| 8.3% Complete\rProgress: |████----------------------------------------------| 8.4% Complete\rProgress: |████----------------------------------------------| 8.4% Complete\rProgress: |████----------------------------------------------| 8.5% Complete\rProgress: |████----------------------------------------------| 8.5% Complete\rProgress: |████----------------------------------------------| 8.6% Complete\rProgress: |████----------------------------------------------| 8.6% Complete\rProgress: |████----------------------------------------------| 8.7% Complete\rProgress: |████----------------------------------------------| 8.7% Complete\rProgress: |████----------------------------------------------| 8.8% Complete\rProgress: |████----------------------------------------------| 8.8% Complete\rProgress: |████----------------------------------------------| 8.9% Complete\rProgress: |████----------------------------------------------| 9.0% Complete\rProgress: |████----------------------------------------------| 9.0% Complete\rProgress: |████----------------------------------------------| 9.1% Complete\rProgress: |████----------------------------------------------| 9.1% Complete\rProgress: |████----------------------------------------------| 9.2% Complete\rProgress: |████----------------------------------------------| 9.2% Complete\rProgress: |████----------------------------------------------| 9.3% Complete\rProgress: |████----------------------------------------------| 9.3% Complete\rProgress: |████----------------------------------------------| 9.4% Complete\rProgress: |████----------------------------------------------| 9.5% Complete\rProgress: |████----------------------------------------------| 9.5% Complete\rProgress: |████----------------------------------------------| 9.6% Complete\rProgress: |████----------------------------------------------| 9.6% Complete\rProgress: |████----------------------------------------------| 9.7% Complete\rProgress: |████----------------------------------------------| 9.7% Complete\rProgress: |████----------------------------------------------| 9.8% Complete\rProgress: |████----------------------------------------------| 9.8% Complete\rProgress: |████----------------------------------------------| 9.9% Complete\rProgress: |████----------------------------------------------| 9.9% Complete\rProgress: |████----------------------------------------------| 10.0% Complete\rProgress: |█████---------------------------------------------| 10.1% Complete\rProgress: |█████---------------------------------------------| 10.1% Complete\rProgress: |█████---------------------------------------------| 10.2% Complete\rProgress: |█████---------------------------------------------| 10.2% Complete\rProgress: |█████---------------------------------------------| 10.3% Complete\rProgress: |█████---------------------------------------------| 10.3% Complete\rProgress: |█████---------------------------------------------| 10.4% Complete\rProgress: |█████---------------------------------------------| 10.4% Complete\rProgress: |█████---------------------------------------------| 10.5% Complete\rProgress: |█████---------------------------------------------| 10.5% Complete\rProgress: |█████---------------------------------------------| 10.6% Complete\rProgress: |█████---------------------------------------------| 10.7% Complete\rProgress: |█████---------------------------------------------| 10.7% Complete\rProgress: |█████---------------------------------------------| 10.8% Complete\rProgress: |█████---------------------------------------------| 10.8% Complete\rProgress: |█████---------------------------------------------| 10.9% Complete\rProgress: |█████---------------------------------------------| 10.9% Complete\rProgress: |█████---------------------------------------------| 11.0% Complete\rProgress: |█████---------------------------------------------| 11.0% Complete\rProgress: |█████---------------------------------------------| 11.1% Complete\rProgress: |█████---------------------------------------------| 11.2% Complete\rProgress: |█████---------------------------------------------| 11.2% Complete\rProgress: |█████---------------------------------------------| 11.3% Complete\rProgress: |█████---------------------------------------------| 11.3% Complete\rProgress: |█████---------------------------------------------| 11.4% Complete\rProgress: |█████---------------------------------------------| 11.4% Complete\rProgress: |█████---------------------------------------------| 11.5% Complete\rProgress: |█████---------------------------------------------| 11.5% Complete\rProgress: |█████---------------------------------------------| 11.6% Complete\rProgress: |█████---------------------------------------------| 11.6% Complete\rProgress: |█████---------------------------------------------| 11.7% Complete\rProgress: |█████---------------------------------------------| 11.8% Complete\rProgress: |█████---------------------------------------------| 11.8% Complete\rProgress: |█████---------------------------------------------| 11.9% Complete\rProgress: |█████---------------------------------------------| 11.9% Complete\rProgress: |█████---------------------------------------------| 12.0% Complete\rProgress: |██████--------------------------------------------| 12.0% Complete\rProgress: |██████--------------------------------------------| 12.1% Complete\rProgress: |██████--------------------------------------------| 12.1% Complete\rProgress: |██████--------------------------------------------| 12.2% Complete\rProgress: |██████--------------------------------------------| 12.3% Complete\rProgress: |██████--------------------------------------------| 12.3% Complete\rProgress: |██████--------------------------------------------| 12.4% Complete\rProgress: |██████--------------------------------------------| 12.4% Complete\rProgress: |██████--------------------------------------------| 12.5% Complete\rProgress: |██████--------------------------------------------| 12.5% Complete\rProgress: |██████--------------------------------------------| 12.6% Complete\rProgress: |██████--------------------------------------------| 12.6% Complete\rProgress: |██████--------------------------------------------| 12.7% Complete\rProgress: |██████--------------------------------------------| 12.7% Complete\rProgress: |██████--------------------------------------------| 12.8% Complete\rProgress: |██████--------------------------------------------| 12.9% Complete\rProgress: |██████--------------------------------------------| 12.9% Complete\rProgress: |██████--------------------------------------------| 13.0% Complete\rProgress: |██████--------------------------------------------| 13.0% Complete\rProgress: |██████--------------------------------------------| 13.1% Complete\rProgress: |██████--------------------------------------------| 13.1% Complete\rProgress: |██████--------------------------------------------| 13.2% Complete\rProgress: |██████--------------------------------------------| 13.2% Complete\rProgress: |██████--------------------------------------------| 13.3% Complete\rProgress: |██████--------------------------------------------| 13.4% Complete\rProgress: |██████--------------------------------------------| 13.4% Complete\rProgress: |██████--------------------------------------------| 13.5% Complete\rProgress: |██████--------------------------------------------| 13.5% Complete\rProgress: |██████--------------------------------------------| 13.6% Complete\rProgress: |██████--------------------------------------------| 13.6% Complete\rProgress: |██████--------------------------------------------| 13.7% Complete\rProgress: |██████--------------------------------------------| 13.7% Complete\rProgress: |██████--------------------------------------------| 13.8% Complete\rProgress: |██████--------------------------------------------| 13.8% Complete\rProgress: |██████--------------------------------------------| 13.9% Complete\rProgress: |██████--------------------------------------------| 14.0% Complete\rProgress: |███████-------------------------------------------| 14.0% Complete\rProgress: |███████-------------------------------------------| 14.1% Complete\rProgress: |███████-------------------------------------------| 14.1% Complete\rProgress: |███████-------------------------------------------| 14.2% Complete\rProgress: |███████-------------------------------------------| 14.2% Complete\rProgress: |███████-------------------------------------------| 14.3% Complete\rProgress: |███████-------------------------------------------| 14.3% Complete\rProgress: |███████-------------------------------------------| 14.4% Complete\rProgress: |███████-------------------------------------------| 14.4% Complete\rProgress: |███████-------------------------------------------| 14.5% Complete\rProgress: |███████-------------------------------------------| 14.6% Complete\rProgress: |███████-------------------------------------------| 14.6% Complete\rProgress: |███████-------------------------------------------| 14.7% Complete\rProgress: |███████-------------------------------------------| 14.7% Complete\rProgress: |███████-------------------------------------------| 14.8% Complete\rProgress: |███████-------------------------------------------| 14.8% Complete\rProgress: |███████-------------------------------------------| 14.9% Complete\rProgress: |███████-------------------------------------------| 14.9% Complete\rProgress: |███████-------------------------------------------| 15.0% Complete\rProgress: |███████-------------------------------------------| 15.1% Complete\rProgress: |███████-------------------------------------------| 15.1% Complete\rProgress: |███████-------------------------------------------| 15.2% Complete\rProgress: |███████-------------------------------------------| 15.2% Complete\rProgress: |███████-------------------------------------------| 15.3% Complete\rProgress: |███████-------------------------------------------| 15.3% Complete\rProgress: |███████-------------------------------------------| 15.4% Complete\rProgress: |███████-------------------------------------------| 15.4% Complete\rProgress: |███████-------------------------------------------| 15.5% Complete\rProgress: |███████-------------------------------------------| 15.5% Complete\rProgress: |███████-------------------------------------------| 15.6% Complete\rProgress: |███████-------------------------------------------| 15.7% Complete\rProgress: |███████-------------------------------------------| 15.7% Complete\rProgress: |███████-------------------------------------------| 15.8% Complete\rProgress: |███████-------------------------------------------| 15.8% Complete\rProgress: |███████-------------------------------------------| 15.9% Complete\rProgress: |███████-------------------------------------------| 15.9% Complete\rProgress: |███████-------------------------------------------| 16.0% Complete\rProgress: |████████------------------------------------------| 16.0% Complete\rProgress: |████████------------------------------------------| 16.1% Complete\rProgress: |████████------------------------------------------| 16.2% Complete\rProgress: |████████------------------------------------------| 16.2% Complete\rProgress: |████████------------------------------------------| 16.3% Complete\rProgress: |████████------------------------------------------| 16.3% Complete\rProgress: |████████------------------------------------------| 16.4% Complete\rProgress: |████████------------------------------------------| 16.4% Complete\rProgress: |████████------------------------------------------| 16.5% Complete\rProgress: |████████------------------------------------------| 16.5% Complete\rProgress: |████████------------------------------------------| 16.6% Complete\rProgress: |████████------------------------------------------| 16.6% Complete\rProgress: |████████------------------------------------------| 16.7% Complete\rProgress: |████████------------------------------------------| 16.8% Complete\rProgress: |████████------------------------------------------| 16.8% Complete\rProgress: |████████------------------------------------------| 16.9% Complete\rProgress: |████████------------------------------------------| 16.9% Complete\rProgress: |████████------------------------------------------| 17.0% Complete\rProgress: |████████------------------------------------------| 17.0% Complete\rProgress: |████████------------------------------------------| 17.1% Complete\rProgress: |████████------------------------------------------| 17.1% Complete\rProgress: |████████------------------------------------------| 17.2% Complete\rProgress: |████████------------------------------------------| 17.3% Complete\rProgress: |████████------------------------------------------| 17.3% Complete\rProgress: |████████------------------------------------------| 17.4% Complete\rProgress: |████████------------------------------------------| 17.4% Complete\rProgress: |████████------------------------------------------| 17.5% Complete\rProgress: |████████------------------------------------------| 17.5% Complete\rProgress: |████████------------------------------------------| 17.6% Complete\rProgress: |████████------------------------------------------| 17.6% Complete\rProgress: |████████------------------------------------------| 17.7% Complete\rProgress: |████████------------------------------------------| 17.7% Complete\rProgress: |████████------------------------------------------| 17.8% Complete\rProgress: |████████------------------------------------------| 17.9% Complete\rProgress: |████████------------------------------------------| 17.9% Complete\rProgress: |████████------------------------------------------| 18.0% Complete\rProgress: |█████████-----------------------------------------| 18.0% Complete\rProgress: |█████████-----------------------------------------| 18.1% Complete\rProgress: |█████████-----------------------------------------| 18.1% Complete\rProgress: |█████████-----------------------------------------| 18.2% Complete\rProgress: |█████████-----------------------------------------| 18.2% Complete\rProgress: |█████████-----------------------------------------| 18.3% Complete\rProgress: |█████████-----------------------------------------| 18.4% Complete\rProgress: |█████████-----------------------------------------| 18.4% Complete\rProgress: |█████████-----------------------------------------| 18.5% Complete\rProgress: |█████████-----------------------------------------| 18.5% Complete\rProgress: |█████████-----------------------------------------| 18.6% Complete\rProgress: |█████████-----------------------------------------| 18.6% Complete\rProgress: |█████████-----------------------------------------| 18.7% Complete\rProgress: |█████████-----------------------------------------| 18.7% Complete\rProgress: |█████████-----------------------------------------| 18.8% Complete\rProgress: |█████████-----------------------------------------| 18.8% Complete\rProgress: |█████████-----------------------------------------| 18.9% Complete\rProgress: |█████████-----------------------------------------| 19.0% Complete\rProgress: |█████████-----------------------------------------| 19.0% Complete\rProgress: |█████████-----------------------------------------| 19.1% Complete\rProgress: |█████████-----------------------------------------| 19.1% Complete\rProgress: |█████████-----------------------------------------| 19.2% Complete\rProgress: |█████████-----------------------------------------| 19.2% Complete\rProgress: |█████████-----------------------------------------| 19.3% Complete\rProgress: |█████████-----------------------------------------| 19.3% Complete\rProgress: |█████████-----------------------------------------| 19.4% Complete\rProgress: |█████████-----------------------------------------| 19.4% Complete\rProgress: |█████████-----------------------------------------| 19.5% Complete\rProgress: |█████████-----------------------------------------| 19.6% Complete\rProgress: |█████████-----------------------------------------| 19.6% Complete\rProgress: |█████████-----------------------------------------| 19.7% Complete\rProgress: |█████████-----------------------------------------| 19.7% Complete\rProgress: |█████████-----------------------------------------| 19.8% Complete\rProgress: |█████████-----------------------------------------| 19.8% Complete\rProgress: |█████████-----------------------------------------| 19.9% Complete\rProgress: |█████████-----------------------------------------| 19.9% Complete\rProgress: |█████████-----------------------------------------| 20.0% Complete\rProgress: |██████████----------------------------------------| 20.1% Complete\rProgress: |██████████----------------------------------------| 20.1% Complete\rProgress: |██████████----------------------------------------| 20.2% Complete\rProgress: |██████████----------------------------------------| 20.2% Complete\rProgress: |██████████----------------------------------------| 20.3% Complete\rProgress: |██████████----------------------------------------| 20.3% Complete\rProgress: |██████████----------------------------------------| 20.4% Complete\rProgress: |██████████----------------------------------------| 20.4% Complete\rProgress: |██████████----------------------------------------| 20.5% Complete\rProgress: |██████████----------------------------------------| 20.5% Complete\rProgress: |██████████----------------------------------------| 20.6% Complete\rProgress: |██████████----------------------------------------| 20.7% Complete\rProgress: |██████████----------------------------------------| 20.7% Complete\rProgress: |██████████----------------------------------------| 20.8% Complete\rProgress: |██████████----------------------------------------| 20.8% Complete\rProgress: |██████████----------------------------------------| 20.9% Complete\rProgress: |██████████----------------------------------------| 20.9% Complete\rProgress: |██████████----------------------------------------| 21.0% Complete\rProgress: |██████████----------------------------------------| 21.0% Complete\rProgress: |██████████----------------------------------------| 21.1% Complete\rProgress: |██████████----------------------------------------| 21.2% Complete\rProgress: |██████████----------------------------------------| 21.2% Complete\rProgress: |██████████----------------------------------------| 21.3% Complete\rProgress: |██████████----------------------------------------| 21.3% Complete\rProgress: |██████████----------------------------------------| 21.4% Complete\rProgress: |██████████----------------------------------------| 21.4% Complete\rProgress: |██████████----------------------------------------| 21.5% Complete\rProgress: |██████████----------------------------------------| 21.5% Complete\rProgress: |██████████----------------------------------------| 21.6% Complete\rProgress: |██████████----------------------------------------| 21.6% Complete\rProgress: |██████████----------------------------------------| 21.7% Complete\rProgress: |██████████----------------------------------------| 21.8% Complete\rProgress: |██████████----------------------------------------| 21.8% Complete\rProgress: |██████████----------------------------------------| 21.9% Complete\rProgress: |██████████----------------------------------------| 21.9% Complete\rProgress: |██████████----------------------------------------| 22.0% Complete\rProgress: |███████████---------------------------------------| 22.0% Complete\rProgress: |███████████---------------------------------------| 22.1% Complete\rProgress: |███████████---------------------------------------| 22.1% Complete\rProgress: |███████████---------------------------------------| 22.2% Complete\rProgress: |███████████---------------------------------------| 22.3% Complete\rProgress: |███████████---------------------------------------| 22.3% Complete\rProgress: |███████████---------------------------------------| 22.4% Complete\rProgress: |███████████---------------------------------------| 22.4% Complete\rProgress: |███████████---------------------------------------| 22.5% Complete\rProgress: |███████████---------------------------------------| 22.5% Complete\rProgress: |███████████---------------------------------------| 22.6% Complete\rProgress: |███████████---------------------------------------| 22.6% Complete\rProgress: |███████████---------------------------------------| 22.7% Complete\rProgress: |███████████---------------------------------------| 22.7% Complete\rProgress: |███████████---------------------------------------| 22.8% Complete\rProgress: |███████████---------------------------------------| 22.9% Complete\rProgress: |███████████---------------------------------------| 22.9% Complete\rProgress: |███████████---------------------------------------| 23.0% Complete\rProgress: |███████████---------------------------------------| 23.0% Complete\rProgress: |███████████---------------------------------------| 23.1% Complete\rProgress: |███████████---------------------------------------| 23.1% Complete\rProgress: |███████████---------------------------------------| 23.2% Complete\rProgress: |███████████---------------------------------------| 23.2% Complete\rProgress: |███████████---------------------------------------| 23.3% Complete\rProgress: |███████████---------------------------------------| 23.4% Complete\rProgress: |███████████---------------------------------------| 23.4% Complete\rProgress: |███████████---------------------------------------| 23.5% Complete\rProgress: |███████████---------------------------------------| 23.5% Complete\rProgress: |███████████---------------------------------------| 23.6% Complete\rProgress: |███████████---------------------------------------| 23.6% Complete\rProgress: |███████████---------------------------------------| 23.7% Complete\rProgress: |███████████---------------------------------------| 23.7% Complete\rProgress: |███████████---------------------------------------| 23.8% Complete\rProgress: |███████████---------------------------------------| 23.8% Complete\rProgress: |███████████---------------------------------------| 23.9% Complete\rProgress: |███████████---------------------------------------| 24.0% Complete\rProgress: |████████████--------------------------------------| 24.0% Complete\rProgress: |████████████--------------------------------------| 24.1% Complete\rProgress: |████████████--------------------------------------| 24.1% Complete\rProgress: |████████████--------------------------------------| 24.2% Complete\rProgress: |████████████--------------------------------------| 24.2% Complete\rProgress: |████████████--------------------------------------| 24.3% Complete\rProgress: |████████████--------------------------------------| 24.3% Complete\rProgress: |████████████--------------------------------------| 24.4% Complete\rProgress: |████████████--------------------------------------| 24.4% Complete\rProgress: |████████████--------------------------------------| 24.5% Complete\rProgress: |████████████--------------------------------------| 24.6% Complete\rProgress: |████████████--------------------------------------| 24.6% Complete\rProgress: |████████████--------------------------------------| 24.7% Complete\rProgress: |████████████--------------------------------------| 24.7% Complete\rProgress: |████████████--------------------------------------| 24.8% Complete\rProgress: |████████████--------------------------------------| 24.8% Complete\rProgress: |████████████--------------------------------------| 24.9% Complete\rProgress: |████████████--------------------------------------| 24.9% Complete\rProgress: |████████████--------------------------------------| 25.0% Complete\rProgress: |████████████--------------------------------------| 25.1% Complete\rProgress: |████████████--------------------------------------| 25.1% Complete\rProgress: |████████████--------------------------------------| 25.2% Complete\rProgress: |████████████--------------------------------------| 25.2% Complete\rProgress: |████████████--------------------------------------| 25.3% Complete\rProgress: |████████████--------------------------------------| 25.3% Complete\rProgress: |████████████--------------------------------------| 25.4% Complete\rProgress: |████████████--------------------------------------| 25.4% Complete\rProgress: |████████████--------------------------------------| 25.5% Complete\rProgress: |████████████--------------------------------------| 25.5% Complete\rProgress: |████████████--------------------------------------| 25.6% Complete\rProgress: |████████████--------------------------------------| 25.7% Complete\rProgress: |████████████--------------------------------------| 25.7% Complete\rProgress: |████████████--------------------------------------| 25.8% Complete\rProgress: |████████████--------------------------------------| 25.8% Complete\rProgress: |████████████--------------------------------------| 25.9% Complete\rProgress: |████████████--------------------------------------| 25.9% Complete\rProgress: |████████████--------------------------------------| 26.0% Complete\rProgress: |█████████████-------------------------------------| 26.0% Complete\rProgress: |█████████████-------------------------------------| 26.1% Complete\rProgress: |█████████████-------------------------------------| 26.2% Complete\rProgress: |█████████████-------------------------------------| 26.2% Complete\rProgress: |█████████████-------------------------------------| 26.3% Complete\rProgress: |█████████████-------------------------------------| 26.3% Complete\rProgress: |█████████████-------------------------------------| 26.4% Complete\rProgress: |█████████████-------------------------------------| 26.4% Complete\rProgress: |█████████████-------------------------------------| 26.5% Complete\rProgress: |█████████████-------------------------------------| 26.5% Complete\rProgress: |█████████████-------------------------------------| 26.6% Complete\rProgress: |█████████████-------------------------------------| 26.6% Complete\rProgress: |█████████████-------------------------------------| 26.7% Complete\rProgress: |█████████████-------------------------------------| 26.8% Complete\rProgress: |█████████████-------------------------------------| 26.8% Complete\rProgress: |█████████████-------------------------------------| 26.9% Complete\rProgress: |█████████████-------------------------------------| 26.9% Complete\rProgress: |█████████████-------------------------------------| 27.0% Complete\rProgress: |█████████████-------------------------------------| 27.0% Complete\rProgress: |█████████████-------------------------------------| 27.1% Complete\rProgress: |█████████████-------------------------------------| 27.1% Complete\rProgress: |█████████████-------------------------------------| 27.2% Complete\rProgress: |█████████████-------------------------------------| 27.3% Complete\rProgress: |█████████████-------------------------------------| 27.3% Complete\rProgress: |█████████████-------------------------------------| 27.4% Complete\rProgress: |█████████████-------------------------------------| 27.4% Complete\rProgress: |█████████████-------------------------------------| 27.5% Complete\rProgress: |█████████████-------------------------------------| 27.5% Complete\rProgress: |█████████████-------------------------------------| 27.6% Complete\rProgress: |█████████████-------------------------------------| 27.6% Complete\rProgress: |█████████████-------------------------------------| 27.7% Complete\rProgress: |█████████████-------------------------------------| 27.7% Complete\rProgress: |█████████████-------------------------------------| 27.8% Complete\rProgress: |█████████████-------------------------------------| 27.9% Complete\rProgress: |█████████████-------------------------------------| 27.9% Complete\rProgress: |█████████████-------------------------------------| 28.0% Complete\rProgress: |██████████████------------------------------------| 28.0% Complete\rProgress: |██████████████------------------------------------| 28.1% Complete\rProgress: |██████████████------------------------------------| 28.1% Complete\rProgress: |██████████████------------------------------------| 28.2% Complete\rProgress: |██████████████------------------------------------| 28.2% Complete\rProgress: |██████████████------------------------------------| 28.3% Complete\rProgress: |██████████████------------------------------------| 28.4% Complete\rProgress: |██████████████------------------------------------| 28.4% Complete\rProgress: |██████████████------------------------------------| 28.5% Complete\rProgress: |██████████████------------------------------------| 28.5% Complete\rProgress: |██████████████------------------------------------| 28.6% Complete\rProgress: |██████████████------------------------------------| 28.6% Complete\rProgress: |██████████████------------------------------------| 28.7% Complete\rProgress: |██████████████------------------------------------| 28.7% Complete\rProgress: |██████████████------------------------------------| 28.8% Complete\rProgress: |██████████████------------------------------------| 28.8% Complete\rProgress: |██████████████------------------------------------| 28.9% Complete\rProgress: |██████████████------------------------------------| 29.0% Complete\rProgress: |██████████████------------------------------------| 29.0% Complete\rProgress: |██████████████------------------------------------| 29.1% Complete\rProgress: |██████████████------------------------------------| 29.1% Complete\rProgress: |██████████████------------------------------------| 29.2% Complete\rProgress: |██████████████------------------------------------| 29.2% Complete\rProgress: |██████████████------------------------------------| 29.3% Complete\rProgress: |██████████████------------------------------------| 29.3% Complete\rProgress: |██████████████------------------------------------| 29.4% Complete\rProgress: |██████████████------------------------------------| 29.4% Complete\rProgress: |██████████████------------------------------------| 29.5% Complete\rProgress: |██████████████------------------------------------| 29.6% Complete\rProgress: |██████████████------------------------------------| 29.6% Complete\rProgress: |██████████████------------------------------------| 29.7% Complete\rProgress: |██████████████------------------------------------| 29.7% Complete\rProgress: |██████████████------------------------------------| 29.8% Complete\rProgress: |██████████████------------------------------------| 29.8% Complete\rProgress: |██████████████------------------------------------| 29.9% Complete\rProgress: |██████████████------------------------------------| 29.9% Complete\rProgress: |██████████████------------------------------------| 30.0% Complete\rProgress: |███████████████-----------------------------------| 30.1% Complete\rProgress: |███████████████-----------------------------------| 30.1% Complete\rProgress: |███████████████-----------------------------------| 30.2% Complete\rProgress: |███████████████-----------------------------------| 30.2% Complete\rProgress: |███████████████-----------------------------------| 30.3% Complete\rProgress: |███████████████-----------------------------------| 30.3% Complete\rProgress: |███████████████-----------------------------------| 30.4% Complete\rProgress: |███████████████-----------------------------------| 30.4% Complete\rProgress: |███████████████-----------------------------------| 30.5% Complete\rProgress: |███████████████-----------------------------------| 30.5% Complete\rProgress: |███████████████-----------------------------------| 30.6% Complete\rProgress: |███████████████-----------------------------------| 30.7% Complete\rProgress: |███████████████-----------------------------------| 30.7% Complete\rProgress: |███████████████-----------------------------------| 30.8% Complete\rProgress: |███████████████-----------------------------------| 30.8% Complete\rProgress: |███████████████-----------------------------------| 30.9% Complete\rProgress: |███████████████-----------------------------------| 30.9% Complete\rProgress: |███████████████-----------------------------------| 31.0% Complete\rProgress: |███████████████-----------------------------------| 31.0% Complete\rProgress: |███████████████-----------------------------------| 31.1% Complete\rProgress: |███████████████-----------------------------------| 31.2% Complete\rProgress: |███████████████-----------------------------------| 31.2% Complete\rProgress: |███████████████-----------------------------------| 31.3% Complete\rProgress: |███████████████-----------------------------------| 31.3% Complete\rProgress: |███████████████-----------------------------------| 31.4% Complete\rProgress: |███████████████-----------------------------------| 31.4% Complete\rProgress: |███████████████-----------------------------------| 31.5% Complete\rProgress: |███████████████-----------------------------------| 31.5% Complete\rProgress: |███████████████-----------------------------------| 31.6% Complete\rProgress: |███████████████-----------------------------------| 31.6% Complete\rProgress: |███████████████-----------------------------------| 31.7% Complete\rProgress: |███████████████-----------------------------------| 31.8% Complete\rProgress: |███████████████-----------------------------------| 31.8% Complete\rProgress: |███████████████-----------------------------------| 31.9% Complete\rProgress: |███████████████-----------------------------------| 31.9% Complete\rProgress: |███████████████-----------------------------------| 32.0% Complete\rProgress: |████████████████----------------------------------| 32.0% Complete\rProgress: |████████████████----------------------------------| 32.1% Complete\rProgress: |████████████████----------------------------------| 32.1% Complete\rProgress: |████████████████----------------------------------| 32.2% Complete\rProgress: |████████████████----------------------------------| 32.3% Complete\rProgress: |████████████████----------------------------------| 32.3% Complete\rProgress: |████████████████----------------------------------| 32.4% Complete\rProgress: |████████████████----------------------------------| 32.4% Complete\rProgress: |████████████████----------------------------------| 32.5% Complete\rProgress: |████████████████----------------------------------| 32.5% Complete\rProgress: |████████████████----------------------------------| 32.6% Complete\rProgress: |████████████████----------------------------------| 32.6% Complete\rProgress: |████████████████----------------------------------| 32.7% Complete\rProgress: |████████████████----------------------------------| 32.7% Complete\rProgress: |████████████████----------------------------------| 32.8% Complete\rProgress: |████████████████----------------------------------| 32.9% Complete\rProgress: |████████████████----------------------------------| 32.9% Complete\rProgress: |████████████████----------------------------------| 33.0% Complete\rProgress: |████████████████----------------------------------| 33.0% Complete\rProgress: |████████████████----------------------------------| 33.1% Complete\rProgress: |████████████████----------------------------------| 33.1% Complete\rProgress: |████████████████----------------------------------| 33.2% Complete\rProgress: |████████████████----------------------------------| 33.2% Complete\rProgress: |████████████████----------------------------------| 33.3% Complete\rProgress: |████████████████----------------------------------| 33.4% Complete\rProgress: |████████████████----------------------------------| 33.4% Complete\rProgress: |████████████████----------------------------------| 33.5% Complete\rProgress: |████████████████----------------------------------| 33.5% Complete\rProgress: |████████████████----------------------------------| 33.6% Complete\rProgress: |████████████████----------------------------------| 33.6% Complete\rProgress: |████████████████----------------------------------| 33.7% Complete\rProgress: |████████████████----------------------------------| 33.7% Complete\rProgress: |████████████████----------------------------------| 33.8% Complete\rProgress: |████████████████----------------------------------| 33.8% Complete\rProgress: |████████████████----------------------------------| 33.9% Complete\rProgress: |████████████████----------------------------------| 34.0% Complete\rProgress: |█████████████████---------------------------------| 34.0% Complete\rProgress: |█████████████████---------------------------------| 34.1% Complete\rProgress: |█████████████████---------------------------------| 34.1% Complete\rProgress: |█████████████████---------------------------------| 34.2% Complete\rProgress: |█████████████████---------------------------------| 34.2% Complete\rProgress: |█████████████████---------------------------------| 34.3% Complete\rProgress: |█████████████████---------------------------------| 34.3% Complete\rProgress: |█████████████████---------------------------------| 34.4% Complete\rProgress: |█████████████████---------------------------------| 34.4% Complete\rProgress: |█████████████████---------------------------------| 34.5% Complete\rProgress: |█████████████████---------------------------------| 34.6% Complete\rProgress: |█████████████████---------------------------------| 34.6% Complete\rProgress: |█████████████████---------------------------------| 34.7% Complete\rProgress: |█████████████████---------------------------------| 34.7% Complete\rProgress: |█████████████████---------------------------------| 34.8% Complete\rProgress: |█████████████████---------------------------------| 34.8% Complete\rProgress: |█████████████████---------------------------------| 34.9% Complete\rProgress: |█████████████████---------------------------------| 34.9% Complete\rProgress: |█████████████████---------------------------------| 35.0% Complete\rProgress: |█████████████████---------------------------------| 35.1% Complete\rProgress: |█████████████████---------------------------------| 35.1% Complete\rProgress: |█████████████████---------------------------------| 35.2% Complete\rProgress: |█████████████████---------------------------------| 35.2% Complete\rProgress: |█████████████████---------------------------------| 35.3% Complete\rProgress: |█████████████████---------------------------------| 35.3% Complete\rProgress: |█████████████████---------------------------------| 35.4% Complete\rProgress: |█████████████████---------------------------------| 35.4% Complete\rProgress: |█████████████████---------------------------------| 35.5% Complete\rProgress: |█████████████████---------------------------------| 35.5% Complete\rProgress: |█████████████████---------------------------------| 35.6% Complete\rProgress: |█████████████████---------------------------------| 35.7% Complete\rProgress: |█████████████████---------------------------------| 35.7% Complete\rProgress: |█████████████████---------------------------------| 35.8% Complete\rProgress: |█████████████████---------------------------------| 35.8% Complete\rProgress: |█████████████████---------------------------------| 35.9% Complete\rProgress: |█████████████████---------------------------------| 35.9% Complete\rProgress: |█████████████████---------------------------------| 36.0% Complete\rProgress: |██████████████████--------------------------------| 36.0% Complete\rProgress: |██████████████████--------------------------------| 36.1% Complete\rProgress: |██████████████████--------------------------------| 36.2% Complete\rProgress: |██████████████████--------------------------------| 36.2% Complete\rProgress: |██████████████████--------------------------------| 36.3% Complete\rProgress: |██████████████████--------------------------------| 36.3% Complete\rProgress: |██████████████████--------------------------------| 36.4% Complete\rProgress: |██████████████████--------------------------------| 36.4% Complete\rProgress: |██████████████████--------------------------------| 36.5% Complete\rProgress: |██████████████████--------------------------------| 36.5% Complete\rProgress: |██████████████████--------------------------------| 36.6% Complete\rProgress: |██████████████████--------------------------------| 36.6% Complete\rProgress: |██████████████████--------------------------------| 36.7% Complete\rProgress: |██████████████████--------------------------------| 36.8% Complete\rProgress: |██████████████████--------------------------------| 36.8% Complete\rProgress: |██████████████████--------------------------------| 36.9% Complete\rProgress: |██████████████████--------------------------------| 36.9% Complete\rProgress: |██████████████████--------------------------------| 37.0% Complete\rProgress: |██████████████████--------------------------------| 37.0% Complete\rProgress: |██████████████████--------------------------------| 37.1% Complete\rProgress: |██████████████████--------------------------------| 37.1% Complete\rProgress: |██████████████████--------------------------------| 37.2% Complete\rProgress: |██████████████████--------------------------------| 37.3% Complete\rProgress: |██████████████████--------------------------------| 37.3% Complete\rProgress: |██████████████████--------------------------------| 37.4% Complete\rProgress: |██████████████████--------------------------------| 37.4% Complete\rProgress: |██████████████████--------------------------------| 37.5% Complete\rProgress: |██████████████████--------------------------------| 37.5% Complete\rProgress: |██████████████████--------------------------------| 37.6% Complete\rProgress: |██████████████████--------------------------------| 37.6% Complete\rProgress: |██████████████████--------------------------------| 37.7% Complete\rProgress: |██████████████████--------------------------------| 37.7% Complete\rProgress: |██████████████████--------------------------------| 37.8% Complete\rProgress: |██████████████████--------------------------------| 37.9% Complete\rProgress: |██████████████████--------------------------------| 37.9% Complete\rProgress: |██████████████████--------------------------------| 38.0% Complete\rProgress: |███████████████████-------------------------------| 38.0% Complete\rProgress: |███████████████████-------------------------------| 38.1% Complete\rProgress: |███████████████████-------------------------------| 38.1% Complete\rProgress: |███████████████████-------------------------------| 38.2% Complete\rProgress: |███████████████████-------------------------------| 38.2% Complete\rProgress: |███████████████████-------------------------------| 38.3% Complete\rProgress: |███████████████████-------------------------------| 38.3% Complete\rProgress: |███████████████████-------------------------------| 38.4% Complete\rProgress: |███████████████████-------------------------------| 38.5% Complete\rProgress: |███████████████████-------------------------------| 38.5% Complete\rProgress: |███████████████████-------------------------------| 38.6% Complete\rProgress: |███████████████████-------------------------------| 38.6% Complete\rProgress: |███████████████████-------------------------------| 38.7% Complete\rProgress: |███████████████████-------------------------------| 38.7% Complete\rProgress: |███████████████████-------------------------------| 38.8% Complete\rProgress: |███████████████████-------------------------------| 38.8% Complete\rProgress: |███████████████████-------------------------------| 38.9% Complete\rProgress: |███████████████████-------------------------------| 39.0% Complete\rProgress: |███████████████████-------------------------------| 39.0% Complete\rProgress: |███████████████████-------------------------------| 39.1% Complete\rProgress: |███████████████████-------------------------------| 39.1% Complete\rProgress: |███████████████████-------------------------------| 39.2% Complete\rProgress: |███████████████████-------------------------------| 39.2% Complete\rProgress: |███████████████████-------------------------------| 39.3% Complete\rProgress: |███████████████████-------------------------------| 39.3% Complete\rProgress: |███████████████████-------------------------------| 39.4% Complete\rProgress: |███████████████████-------------------------------| 39.4% Complete\rProgress: |███████████████████-------------------------------| 39.5% Complete\rProgress: |███████████████████-------------------------------| 39.6% Complete\rProgress: |███████████████████-------------------------------| 39.6% Complete\rProgress: |███████████████████-------------------------------| 39.7% Complete\rProgress: |███████████████████-------------------------------| 39.7% Complete\rProgress: |███████████████████-------------------------------| 39.8% Complete\rProgress: |███████████████████-------------------------------| 39.8% Complete\rProgress: |███████████████████-------------------------------| 39.9% Complete\rProgress: |███████████████████-------------------------------| 39.9% Complete\rProgress: |███████████████████-------------------------------| 40.0% Complete\rProgress: |████████████████████------------------------------| 40.1% Complete\rProgress: |████████████████████------------------------------| 40.1% Complete\rProgress: |████████████████████------------------------------| 40.2% Complete\rProgress: |████████████████████------------------------------| 40.2% Complete\rProgress: |████████████████████------------------------------| 40.3% Complete\rProgress: |████████████████████------------------------------| 40.3% Complete\rProgress: |████████████████████------------------------------| 40.4% Complete\rProgress: |████████████████████------------------------------| 40.4% Complete\rProgress: |████████████████████------------------------------| 40.5% Complete\rProgress: |████████████████████------------------------------| 40.5% Complete\rProgress: |████████████████████------------------------------| 40.6% Complete\rProgress: |████████████████████------------------------------| 40.7% Complete\rProgress: |████████████████████------------------------------| 40.7% Complete\rProgress: |████████████████████------------------------------| 40.8% Complete\rProgress: |████████████████████------------------------------| 40.8% Complete\rProgress: |████████████████████------------------------------| 40.9% Complete\rProgress: |████████████████████------------------------------| 40.9% Complete\rProgress: |████████████████████------------------------------| 41.0% Complete\rProgress: |████████████████████------------------------------| 41.0% Complete\rProgress: |████████████████████------------------------------| 41.1% Complete\rProgress: |████████████████████------------------------------| 41.2% Complete\rProgress: |████████████████████------------------------------| 41.2% Complete\rProgress: |████████████████████------------------------------| 41.3% Complete\rProgress: |████████████████████------------------------------| 41.3% Complete\rProgress: |████████████████████------------------------------| 41.4% Complete\rProgress: |████████████████████------------------------------| 41.4% Complete\rProgress: |████████████████████------------------------------| 41.5% Complete\rProgress: |████████████████████------------------------------| 41.5% Complete\rProgress: |████████████████████------------------------------| 41.6% Complete\rProgress: |████████████████████------------------------------| 41.6% Complete\rProgress: |████████████████████------------------------------| 41.7% Complete\rProgress: |████████████████████------------------------------| 41.8% Complete\rProgress: |████████████████████------------------------------| 41.8% Complete\rProgress: |████████████████████------------------------------| 41.9% Complete\rProgress: |████████████████████------------------------------| 41.9% Complete\rProgress: |████████████████████------------------------------| 42.0% Complete\rProgress: |█████████████████████-----------------------------| 42.0% Complete\rProgress: |█████████████████████-----------------------------| 42.1% Complete\rProgress: |█████████████████████-----------------------------| 42.1% Complete\rProgress: |█████████████████████-----------------------------| 42.2% Complete\rProgress: |█████████████████████-----------------------------| 42.3% Complete\rProgress: |█████████████████████-----------------------------| 42.3% Complete\rProgress: |█████████████████████-----------------------------| 42.4% Complete\rProgress: |█████████████████████-----------------------------| 42.4% Complete\rProgress: |█████████████████████-----------------------------| 42.5% Complete\rProgress: |█████████████████████-----------------------------| 42.5% Complete\rProgress: |█████████████████████-----------------------------| 42.6% Complete\rProgress: |█████████████████████-----------------------------| 42.6% Complete\rProgress: |█████████████████████-----------------------------| 42.7% Complete\rProgress: |█████████████████████-----------------------------| 42.7% Complete\rProgress: |█████████████████████-----------------------------| 42.8% Complete\rProgress: |█████████████████████-----------------------------| 42.9% Complete\rProgress: |█████████████████████-----------------------------| 42.9% Complete\rProgress: |█████████████████████-----------------------------| 43.0% Complete\rProgress: |█████████████████████-----------------------------| 43.0% Complete\rProgress: |█████████████████████-----------------------------| 43.1% Complete\rProgress: |█████████████████████-----------------------------| 43.1% Complete\rProgress: |█████████████████████-----------------------------| 43.2% Complete\rProgress: |█████████████████████-----------------------------| 43.2% Complete\rProgress: |█████████████████████-----------------------------| 43.3% Complete\rProgress: |█████████████████████-----------------------------| 43.3% Complete\rProgress: |█████████████████████-----------------------------| 43.4% Complete\rProgress: |█████████████████████-----------------------------| 43.5% Complete\rProgress: |█████████████████████-----------------------------| 43.5% Complete\rProgress: |█████████████████████-----------------------------| 43.6% Complete\rProgress: |█████████████████████-----------------------------| 43.6% Complete\rProgress: |█████████████████████-----------------------------| 43.7% Complete\rProgress: |█████████████████████-----------------------------| 43.7% Complete\rProgress: |█████████████████████-----------------------------| 43.8% Complete\rProgress: |█████████████████████-----------------------------| 43.8% Complete\rProgress: |█████████████████████-----------------------------| 43.9% Complete\rProgress: |█████████████████████-----------------------------| 44.0% Complete\rProgress: |██████████████████████----------------------------| 44.0% Complete\rProgress: |██████████████████████----------------------------| 44.1% Complete\rProgress: |██████████████████████----------------------------| 44.1% Complete\rProgress: |██████████████████████----------------------------| 44.2% Complete\rProgress: |██████████████████████----------------------------| 44.2% Complete\rProgress: |██████████████████████----------------------------| 44.3% Complete\rProgress: |██████████████████████----------------------------| 44.3% Complete\rProgress: |██████████████████████----------------------------| 44.4% Complete\rProgress: |██████████████████████----------------------------| 44.4% Complete\rProgress: |██████████████████████----------------------------| 44.5% Complete\rProgress: |██████████████████████----------------------------| 44.6% Complete\rProgress: |██████████████████████----------------------------| 44.6% Complete\rProgress: |██████████████████████----------------------------| 44.7% Complete\rProgress: |██████████████████████----------------------------| 44.7% Complete\rProgress: |██████████████████████----------------------------| 44.8% Complete\rProgress: |██████████████████████----------------------------| 44.8% Complete\rProgress: |██████████████████████----------------------------| 44.9% Complete\rProgress: |██████████████████████----------------------------| 44.9% Complete\rProgress: |██████████████████████----------------------------| 45.0% Complete\rProgress: |██████████████████████----------------------------| 45.1% Complete\rProgress: |██████████████████████----------------------------| 45.1% Complete\rProgress: |██████████████████████----------------------------| 45.2% Complete\rProgress: |██████████████████████----------------------------| 45.2% Complete\rProgress: |██████████████████████----------------------------| 45.3% Complete\rProgress: |██████████████████████----------------------------| 45.3% Complete\rProgress: |██████████████████████----------------------------| 45.4% Complete\rProgress: |██████████████████████----------------------------| 45.4% Complete\rProgress: |██████████████████████----------------------------| 45.5% Complete\rProgress: |██████████████████████----------------------------| 45.5% Complete\rProgress: |██████████████████████----------------------------| 45.6% Complete\rProgress: |██████████████████████----------------------------| 45.7% Complete\rProgress: |██████████████████████----------------------------| 45.7% Complete\rProgress: |██████████████████████----------------------------| 45.8% Complete\rProgress: |██████████████████████----------------------------| 45.8% Complete\rProgress: |██████████████████████----------------------------| 45.9% Complete\rProgress: |██████████████████████----------------------------| 45.9% Complete\rProgress: |██████████████████████----------------------------| 46.0% Complete\rProgress: |███████████████████████---------------------------| 46.0% Complete\rProgress: |███████████████████████---------------------------| 46.1% Complete\rProgress: |███████████████████████---------------------------| 46.2% Complete\rProgress: |███████████████████████---------------------------| 46.2% Complete\rProgress: |███████████████████████---------------------------| 46.3% Complete\rProgress: |███████████████████████---------------------------| 46.3% Complete\rProgress: |███████████████████████---------------------------| 46.4% Complete\rProgress: |███████████████████████---------------------------| 46.4% Complete\rProgress: |███████████████████████---------------------------| 46.5% Complete\rProgress: |███████████████████████---------------------------| 46.5% Complete\rProgress: |███████████████████████---------------------------| 46.6% Complete\rProgress: |███████████████████████---------------------------| 46.6% Complete\rProgress: |███████████████████████---------------------------| 46.7% Complete\rProgress: |███████████████████████---------------------------| 46.8% Complete\rProgress: |███████████████████████---------------------------| 46.8% Complete\rProgress: |███████████████████████---------------------------| 46.9% Complete\rProgress: |███████████████████████---------------------------| 46.9% Complete\rProgress: |███████████████████████---------------------------| 47.0% Complete\rProgress: |███████████████████████---------------------------| 47.0% Complete\rProgress: |███████████████████████---------------------------| 47.1% Complete\rProgress: |███████████████████████---------------------------| 47.1% Complete\rProgress: |███████████████████████---------------------------| 47.2% Complete\rProgress: |███████████████████████---------------------------| 47.3% Complete\rProgress: |███████████████████████---------------------------| 47.3% Complete\rProgress: |███████████████████████---------------------------| 47.4% Complete\rProgress: |███████████████████████---------------------------| 47.4% Complete\rProgress: |███████████████████████---------------------------| 47.5% Complete\rProgress: |███████████████████████---------------------------| 47.5% Complete\rProgress: |███████████████████████---------------------------| 47.6% Complete\rProgress: |███████████████████████---------------------------| 47.6% Complete\rProgress: |███████████████████████---------------------------| 47.7% Complete\rProgress: |███████████████████████---------------------------| 47.7% Complete\rProgress: |███████████████████████---------------------------| 47.8% Complete\rProgress: |███████████████████████---------------------------| 47.9% Complete\rProgress: |███████████████████████---------------------------| 47.9% Complete\rProgress: |███████████████████████---------------------------| 48.0% Complete\rProgress: |████████████████████████--------------------------| 48.0% Complete\rProgress: |████████████████████████--------------------------| 48.1% Complete\rProgress: |████████████████████████--------------------------| 48.1% Complete\rProgress: |████████████████████████--------------------------| 48.2% Complete\rProgress: |████████████████████████--------------------------| 48.2% Complete\rProgress: |████████████████████████--------------------------| 48.3% Complete\rProgress: |████████████████████████--------------------------| 48.3% Complete\rProgress: |████████████████████████--------------------------| 48.4% Complete\rProgress: |████████████████████████--------------------------| 48.5% Complete\rProgress: |████████████████████████--------------------------| 48.5% Complete\rProgress: |████████████████████████--------------------------| 48.6% Complete\rProgress: |████████████████████████--------------------------| 48.6% Complete\rProgress: |████████████████████████--------------------------| 48.7% Complete\rProgress: |████████████████████████--------------------------| 48.7% Complete\rProgress: |████████████████████████--------------------------| 48.8% Complete\rProgress: |████████████████████████--------------------------| 48.8% Complete\rProgress: |████████████████████████--------------------------| 48.9% Complete\rProgress: |████████████████████████--------------------------| 49.0% Complete\rProgress: |████████████████████████--------------------------| 49.0% Complete\rProgress: |████████████████████████--------------------------| 49.1% Complete\rProgress: |████████████████████████--------------------------| 49.1% Complete\rProgress: |████████████████████████--------------------------| 49.2% Complete\rProgress: |████████████████████████--------------------------| 49.2% Complete\rProgress: |████████████████████████--------------------------| 49.3% Complete\rProgress: |████████████████████████--------------------------| 49.3% Complete\rProgress: |████████████████████████--------------------------| 49.4% Complete\rProgress: |████████████████████████--------------------------| 49.4% Complete\rProgress: |████████████████████████--------------------------| 49.5% Complete\rProgress: |████████████████████████--------------------------| 49.6% Complete\rProgress: |████████████████████████--------------------------| 49.6% Complete\rProgress: |████████████████████████--------------------------| 49.7% Complete\rProgress: |████████████████████████--------------------------| 49.7% Complete\rProgress: |████████████████████████--------------------------| 49.8% Complete\rProgress: |████████████████████████--------------------------| 49.8% Complete\rProgress: |████████████████████████--------------------------| 49.9% Complete\rProgress: |████████████████████████--------------------------| 49.9% Complete\rProgress: |████████████████████████--------------------------| 50.0% Complete\rProgress: |█████████████████████████-------------------------| 50.1% Complete\rProgress: |█████████████████████████-------------------------| 50.1% Complete\rProgress: |█████████████████████████-------------------------| 50.2% Complete\rProgress: |█████████████████████████-------------------------| 50.2% Complete\rProgress: |█████████████████████████-------------------------| 50.3% Complete\rProgress: |█████████████████████████-------------------------| 50.3% Complete\rProgress: |█████████████████████████-------------------------| 50.4% Complete\rProgress: |█████████████████████████-------------------------| 50.4% Complete\rProgress: |█████████████████████████-------------------------| 50.5% Complete\rProgress: |█████████████████████████-------------------------| 50.5% Complete\rProgress: |█████████████████████████-------------------------| 50.6% Complete\rProgress: |█████████████████████████-------------------------| 50.7% Complete\rProgress: |█████████████████████████-------------------------| 50.7% Complete\rProgress: |█████████████████████████-------------------------| 50.8% Complete\rProgress: |█████████████████████████-------------------------| 50.8% Complete\rProgress: |█████████████████████████-------------------------| 50.9% Complete\rProgress: |█████████████████████████-------------------------| 50.9% Complete\rProgress: |█████████████████████████-------------------------| 51.0% Complete\rProgress: |█████████████████████████-------------------------| 51.0% Complete\rProgress: |█████████████████████████-------------------------| 51.1% Complete\rProgress: |█████████████████████████-------------------------| 51.2% Complete\rProgress: |█████████████████████████-------------------------| 51.2% Complete\rProgress: |█████████████████████████-------------------------| 51.3% Complete\rProgress: |█████████████████████████-------------------------| 51.3% Complete\rProgress: |█████████████████████████-------------------------| 51.4% Complete\rProgress: |█████████████████████████-------------------------| 51.4% Complete\rProgress: |█████████████████████████-------------------------| 51.5% Complete\rProgress: |█████████████████████████-------------------------| 51.5% Complete\rProgress: |█████████████████████████-------------------------| 51.6% Complete\rProgress: |█████████████████████████-------------------------| 51.6% Complete\rProgress: |█████████████████████████-------------------------| 51.7% Complete\rProgress: |█████████████████████████-------------------------| 51.8% Complete\rProgress: |█████████████████████████-------------------------| 51.8% Complete\rProgress: |█████████████████████████-------------------------| 51.9% Complete\rProgress: |█████████████████████████-------------------------| 51.9% Complete\rProgress: |█████████████████████████-------------------------| 52.0% Complete\rProgress: |██████████████████████████------------------------| 52.0% Complete\rProgress: |██████████████████████████------------------------| 52.1% Complete\rProgress: |██████████████████████████------------------------| 52.1% Complete\rProgress: |██████████████████████████------------------------| 52.2% Complete\rProgress: |██████████████████████████------------------------| 52.3% Complete\rProgress: |██████████████████████████------------------------| 52.3% Complete\rProgress: |██████████████████████████------------------------| 52.4% Complete\rProgress: |██████████████████████████------------------------| 52.4% Complete\rProgress: |██████████████████████████------------------------| 52.5% Complete\rProgress: |██████████████████████████------------------------| 52.5% Complete\rProgress: |██████████████████████████------------------------| 52.6% Complete\rProgress: |██████████████████████████------------------------| 52.6% Complete\rProgress: |██████████████████████████------------------------| 52.7% Complete\rProgress: |██████████████████████████------------------------| 52.7% Complete\rProgress: |██████████████████████████------------------------| 52.8% Complete\rProgress: |██████████████████████████------------------------| 52.9% Complete\rProgress: |██████████████████████████------------------------| 52.9% Complete\rProgress: |██████████████████████████------------------------| 53.0% Complete\rProgress: |██████████████████████████------------------------| 53.0% Complete\rProgress: |██████████████████████████------------------------| 53.1% Complete\rProgress: |██████████████████████████------------------------| 53.1% Complete\rProgress: |██████████████████████████------------------------| 53.2% Complete\rProgress: |██████████████████████████------------------------| 53.2% Complete\rProgress: |██████████████████████████------------------------| 53.3% Complete\rProgress: |██████████████████████████------------------------| 53.3% Complete\rProgress: |██████████████████████████------------------------| 53.4% Complete\rProgress: |██████████████████████████------------------------| 53.5% Complete\rProgress: |██████████████████████████------------------------| 53.5% Complete\rProgress: |██████████████████████████------------------------| 53.6% Complete\rProgress: |██████████████████████████------------------------| 53.6% Complete\rProgress: |██████████████████████████------------------------| 53.7% Complete\rProgress: |██████████████████████████------------------------| 53.7% Complete\rProgress: |██████████████████████████------------------------| 53.8% Complete\rProgress: |██████████████████████████------------------------| 53.8% Complete\rProgress: |██████████████████████████------------------------| 53.9% Complete\rProgress: |██████████████████████████------------------------| 54.0% Complete\rProgress: |███████████████████████████-----------------------| 54.0% Complete\rProgress: |███████████████████████████-----------------------| 54.1% Complete\rProgress: |███████████████████████████-----------------------| 54.1% Complete\rProgress: |███████████████████████████-----------------------| 54.2% Complete\rProgress: |███████████████████████████-----------------------| 54.2% Complete\rProgress: |███████████████████████████-----------------------| 54.3% Complete\rProgress: |███████████████████████████-----------------------| 54.3% Complete\rProgress: |███████████████████████████-----------------------| 54.4% Complete\rProgress: |███████████████████████████-----------------------| 54.4% Complete\rProgress: |███████████████████████████-----------------------| 54.5% Complete\rProgress: |███████████████████████████-----------------------| 54.6% Complete\rProgress: |███████████████████████████-----------------------| 54.6% Complete\rProgress: |███████████████████████████-----------------------| 54.7% Complete\rProgress: |███████████████████████████-----------------------| 54.7% Complete\rProgress: |███████████████████████████-----------------------| 54.8% Complete\rProgress: |███████████████████████████-----------------------| 54.8% Complete\rProgress: |███████████████████████████-----------------------| 54.9% Complete\rProgress: |███████████████████████████-----------------------| 54.9% Complete\rProgress: |███████████████████████████-----------------------| 55.0% Complete\rProgress: |███████████████████████████-----------------------| 55.1% Complete\rProgress: |███████████████████████████-----------------------| 55.1% Complete\rProgress: |███████████████████████████-----------------------| 55.2% Complete\rProgress: |███████████████████████████-----------------------| 55.2% Complete\rProgress: |███████████████████████████-----------------------| 55.3% Complete\rProgress: |███████████████████████████-----------------------| 55.3% Complete\rProgress: |███████████████████████████-----------------------| 55.4% Complete\rProgress: |███████████████████████████-----------------------| 55.4% Complete\rProgress: |███████████████████████████-----------------------| 55.5% Complete\rProgress: |███████████████████████████-----------------------| 55.5% Complete\rProgress: |███████████████████████████-----------------------| 55.6% Complete\rProgress: |███████████████████████████-----------------------| 55.7% Complete\rProgress: |███████████████████████████-----------------------| 55.7% Complete\rProgress: |███████████████████████████-----------------------| 55.8% Complete\rProgress: |███████████████████████████-----------------------| 55.8% Complete\rProgress: |███████████████████████████-----------------------| 55.9% Complete\rProgress: |███████████████████████████-----------------------| 55.9% Complete\rProgress: |███████████████████████████-----------------------| 56.0% Complete\rProgress: |████████████████████████████----------------------| 56.0% Complete\rProgress: |████████████████████████████----------------------| 56.1% Complete\rProgress: |████████████████████████████----------------------| 56.2% Complete\rProgress: |████████████████████████████----------------------| 56.2% Complete\rProgress: |████████████████████████████----------------------| 56.3% Complete\rProgress: |████████████████████████████----------------------| 56.3% Complete\rProgress: |████████████████████████████----------------------| 56.4% Complete\rProgress: |████████████████████████████----------------------| 56.4% Complete\rProgress: |████████████████████████████----------------------| 56.5% Complete\rProgress: |████████████████████████████----------------------| 56.5% Complete\rProgress: |████████████████████████████----------------------| 56.6% Complete\rProgress: |████████████████████████████----------------------| 56.6% Complete\rProgress: |████████████████████████████----------------------| 56.7% Complete\rProgress: |████████████████████████████----------------------| 56.8% Complete\rProgress: |████████████████████████████----------------------| 56.8% Complete\rProgress: |████████████████████████████----------------------| 56.9% Complete\rProgress: |████████████████████████████----------------------| 56.9% Complete\rProgress: |████████████████████████████----------------------| 57.0% Complete\rProgress: |████████████████████████████----------------------| 57.0% Complete\rProgress: |████████████████████████████----------------------| 57.1% Complete\rProgress: |████████████████████████████----------------------| 57.1% Complete\rProgress: |████████████████████████████----------------------| 57.2% Complete\rProgress: |████████████████████████████----------------------| 57.3% Complete\rProgress: |████████████████████████████----------------------| 57.3% Complete\rProgress: |████████████████████████████----------------------| 57.4% Complete\rProgress: |████████████████████████████----------------------| 57.4% Complete\rProgress: |████████████████████████████----------------------| 57.5% Complete\rProgress: |████████████████████████████----------------------| 57.5% Complete\rProgress: |████████████████████████████----------------------| 57.6% Complete\rProgress: |████████████████████████████----------------------| 57.6% Complete\rProgress: |████████████████████████████----------------------| 57.7% Complete\rProgress: |████████████████████████████----------------------| 57.7% Complete\rProgress: |████████████████████████████----------------------| 57.8% Complete\rProgress: |████████████████████████████----------------------| 57.9% Complete\rProgress: |████████████████████████████----------------------| 57.9% Complete\rProgress: |████████████████████████████----------------------| 58.0% Complete\rProgress: |█████████████████████████████---------------------| 58.0% Complete\rProgress: |█████████████████████████████---------------------| 58.1% Complete\rProgress: |█████████████████████████████---------------------| 58.1% Complete\rProgress: |█████████████████████████████---------------------| 58.2% Complete\rProgress: |█████████████████████████████---------------------| 58.2% Complete\rProgress: |█████████████████████████████---------------------| 58.3% Complete\rProgress: |█████████████████████████████---------------------| 58.3% Complete\rProgress: |█████████████████████████████---------------------| 58.4% Complete\rProgress: |█████████████████████████████---------------------| 58.5% Complete\rProgress: |█████████████████████████████---------------------| 58.5% Complete\rProgress: |█████████████████████████████---------------------| 58.6% Complete\rProgress: |█████████████████████████████---------------------| 58.6% Complete\rProgress: |█████████████████████████████---------------------| 58.7% Complete\rProgress: |█████████████████████████████---------------------| 58.7% Complete\rProgress: |█████████████████████████████---------------------| 58.8% Complete\rProgress: |█████████████████████████████---------------------| 58.8% Complete\rProgress: |█████████████████████████████---------------------| 58.9% Complete\rProgress: |█████████████████████████████---------------------| 59.0% Complete\rProgress: |█████████████████████████████---------------------| 59.0% Complete\rProgress: |█████████████████████████████---------------------| 59.1% Complete\rProgress: |█████████████████████████████---------------------| 59.1% Complete\rProgress: |█████████████████████████████---------------------| 59.2% Complete\rProgress: |█████████████████████████████---------------------| 59.2% Complete\rProgress: |█████████████████████████████---------------------| 59.3% Complete\rProgress: |█████████████████████████████---------------------| 59.3% Complete\rProgress: |█████████████████████████████---------------------| 59.4% Complete\rProgress: |█████████████████████████████---------------------| 59.4% Complete\rProgress: |█████████████████████████████---------------------| 59.5% Complete\rProgress: |█████████████████████████████---------------------| 59.6% Complete\rProgress: |█████████████████████████████---------------------| 59.6% Complete\rProgress: |█████████████████████████████---------------------| 59.7% Complete\rProgress: |█████████████████████████████---------------------| 59.7% Complete\rProgress: |█████████████████████████████---------------------| 59.8% Complete\rProgress: |█████████████████████████████---------------------| 59.8% Complete\rProgress: |█████████████████████████████---------------------| 59.9% Complete\rProgress: |█████████████████████████████---------------------| 59.9% Complete\rProgress: |█████████████████████████████---------------------| 60.0% Complete\rProgress: |██████████████████████████████--------------------| 60.1% Complete\rProgress: |██████████████████████████████--------------------| 60.1% Complete\rProgress: |██████████████████████████████--------------------| 60.2% Complete\rProgress: |██████████████████████████████--------------------| 60.2% Complete\rProgress: |██████████████████████████████--------------------| 60.3% Complete\rProgress: |██████████████████████████████--------------------| 60.3% Complete\rProgress: |██████████████████████████████--------------------| 60.4% Complete\rProgress: |██████████████████████████████--------------------| 60.4% Complete\rProgress: |██████████████████████████████--------------------| 60.5% Complete\rProgress: |██████████████████████████████--------------------| 60.5% Complete\rProgress: |██████████████████████████████--------------------| 60.6% Complete\rProgress: |██████████████████████████████--------------------| 60.7% Complete\rProgress: |██████████████████████████████--------------------| 60.7% Complete\rProgress: |██████████████████████████████--------------------| 60.8% Complete\rProgress: |██████████████████████████████--------------------| 60.8% Complete\rProgress: |██████████████████████████████--------------------| 60.9% Complete\rProgress: |██████████████████████████████--------------------| 60.9% Complete\rProgress: |██████████████████████████████--------------------| 61.0% Complete\rProgress: |██████████████████████████████--------------------| 61.0% Complete\rProgress: |██████████████████████████████--------------------| 61.1% Complete\rProgress: |██████████████████████████████--------------------| 61.2% Complete\rProgress: |██████████████████████████████--------------------| 61.2% Complete\rProgress: |██████████████████████████████--------------------| 61.3% Complete\rProgress: |██████████████████████████████--------------------| 61.3% Complete\rProgress: |██████████████████████████████--------------------| 61.4% Complete\rProgress: |██████████████████████████████--------------------| 61.4% Complete\rProgress: |██████████████████████████████--------------------| 61.5% Complete\rProgress: |██████████████████████████████--------------------| 61.5% Complete\rProgress: |██████████████████████████████--------------------| 61.6% Complete\rProgress: |██████████████████████████████--------------------| 61.6% Complete\rProgress: |██████████████████████████████--------------------| 61.7% Complete\rProgress: |██████████████████████████████--------------------| 61.8% Complete\rProgress: |██████████████████████████████--------------------| 61.8% Complete\rProgress: |██████████████████████████████--------------------| 61.9% Complete\rProgress: |██████████████████████████████--------------------| 61.9% Complete\rProgress: |██████████████████████████████--------------------| 62.0% Complete\rProgress: |███████████████████████████████-------------------| 62.0% Complete\rProgress: |███████████████████████████████-------------------| 62.1% Complete\rProgress: |███████████████████████████████-------------------| 62.1% Complete\rProgress: |███████████████████████████████-------------------| 62.2% Complete\rProgress: |███████████████████████████████-------------------| 62.2% Complete\rProgress: |███████████████████████████████-------------------| 62.3% Complete\rProgress: |███████████████████████████████-------------------| 62.4% Complete\rProgress: |███████████████████████████████-------------------| 62.4% Complete\rProgress: |███████████████████████████████-------------------| 62.5% Complete\rProgress: |███████████████████████████████-------------------| 62.5% Complete\rProgress: |███████████████████████████████-------------------| 62.6% Complete\rProgress: |███████████████████████████████-------------------| 62.6% Complete\rProgress: |███████████████████████████████-------------------| 62.7% Complete\rProgress: |███████████████████████████████-------------------| 62.7% Complete\rProgress: |███████████████████████████████-------------------| 62.8% Complete\rProgress: |███████████████████████████████-------------------| 62.9% Complete\rProgress: |███████████████████████████████-------------------| 62.9% Complete\rProgress: |███████████████████████████████-------------------| 63.0% Complete\rProgress: |███████████████████████████████-------------------| 63.0% Complete\rProgress: |███████████████████████████████-------------------| 63.1% Complete\rProgress: |███████████████████████████████-------------------| 63.1% Complete\rProgress: |███████████████████████████████-------------------| 63.2% Complete\rProgress: |███████████████████████████████-------------------| 63.2% Complete\rProgress: |███████████████████████████████-------------------| 63.3% Complete\rProgress: |███████████████████████████████-------------------| 63.3% Complete\rProgress: |███████████████████████████████-------------------| 63.4% Complete\rProgress: |███████████████████████████████-------------------| 63.5% Complete\rProgress: |███████████████████████████████-------------------| 63.5% Complete\rProgress: |███████████████████████████████-------------------| 63.6% Complete\rProgress: |███████████████████████████████-------------------| 63.6% Complete\rProgress: |███████████████████████████████-------------------| 63.7% Complete\rProgress: |███████████████████████████████-------------------| 63.7% Complete\rProgress: |███████████████████████████████-------------------| 63.8% Complete\rProgress: |███████████████████████████████-------------------| 63.8% Complete\rProgress: |███████████████████████████████-------------------| 63.9% Complete\rProgress: |███████████████████████████████-------------------| 64.0% Complete\rProgress: |████████████████████████████████------------------| 64.0% Complete\rProgress: |████████████████████████████████------------------| 64.1% Complete\rProgress: |████████████████████████████████------------------| 64.1% Complete\rProgress: |████████████████████████████████------------------| 64.2% Complete\rProgress: |████████████████████████████████------------------| 64.2% Complete\rProgress: |████████████████████████████████------------------| 64.3% Complete\rProgress: |████████████████████████████████------------------| 64.3% Complete\rProgress: |████████████████████████████████------------------| 64.4% Complete\rProgress: |████████████████████████████████------------------| 64.4% Complete\rProgress: |████████████████████████████████------------------| 64.5% Complete\rProgress: |████████████████████████████████------------------| 64.6% Complete\rProgress: |████████████████████████████████------------------| 64.6% Complete\rProgress: |████████████████████████████████------------------| 64.7% Complete\rProgress: |████████████████████████████████------------------| 64.7% Complete\rProgress: |████████████████████████████████------------------| 64.8% Complete\rProgress: |████████████████████████████████------------------| 64.8% Complete\rProgress: |████████████████████████████████------------------| 64.9% Complete\rProgress: |████████████████████████████████------------------| 64.9% Complete\rProgress: |████████████████████████████████------------------| 65.0% Complete\rProgress: |████████████████████████████████------------------| 65.1% Complete\rProgress: |████████████████████████████████------------------| 65.1% Complete\rProgress: |████████████████████████████████------------------| 65.2% Complete\rProgress: |████████████████████████████████------------------| 65.2% Complete\rProgress: |████████████████████████████████------------------| 65.3% Complete\rProgress: |████████████████████████████████------------------| 65.3% Complete\rProgress: |████████████████████████████████------------------| 65.4% Complete\rProgress: |████████████████████████████████------------------| 65.4% Complete\rProgress: |████████████████████████████████------------------| 65.5% Complete\rProgress: |████████████████████████████████------------------| 65.5% Complete\rProgress: |████████████████████████████████------------------| 65.6% Complete\rProgress: |████████████████████████████████------------------| 65.7% Complete\rProgress: |████████████████████████████████------------------| 65.7% Complete\rProgress: |████████████████████████████████------------------| 65.8% Complete\rProgress: |████████████████████████████████------------------| 65.8% Complete\rProgress: |████████████████████████████████------------------| 65.9% Complete\rProgress: |████████████████████████████████------------------| 65.9% Complete\rProgress: |████████████████████████████████------------------| 66.0% Complete\rProgress: |█████████████████████████████████-----------------| 66.0% Complete\rProgress: |█████████████████████████████████-----------------| 66.1% Complete\rProgress: |█████████████████████████████████-----------------| 66.2% Complete\rProgress: |█████████████████████████████████-----------------| 66.2% Complete\rProgress: |█████████████████████████████████-----------------| 66.3% Complete\rProgress: |█████████████████████████████████-----------------| 66.3% Complete\rProgress: |█████████████████████████████████-----------------| 66.4% Complete\rProgress: |█████████████████████████████████-----------------| 66.4% Complete\rProgress: |█████████████████████████████████-----------------| 66.5% Complete\rProgress: |█████████████████████████████████-----------------| 66.5% Complete\rProgress: |█████████████████████████████████-----------------| 66.6% Complete\rProgress: |█████████████████████████████████-----------------| 66.6% Complete\rProgress: |█████████████████████████████████-----------------| 66.7% Complete\rProgress: |█████████████████████████████████-----------------| 66.8% Complete\rProgress: |█████████████████████████████████-----------------| 66.8% Complete\rProgress: |█████████████████████████████████-----------------| 66.9% Complete\rProgress: |█████████████████████████████████-----------------| 66.9% Complete\rProgress: |█████████████████████████████████-----------------| 67.0% Complete\rProgress: |█████████████████████████████████-----------------| 67.0% Complete\rProgress: |█████████████████████████████████-----------------| 67.1% Complete\rProgress: |█████████████████████████████████-----------------| 67.1% Complete\rProgress: |█████████████████████████████████-----------------| 67.2% Complete\rProgress: |█████████████████████████████████-----------------| 67.2% Complete\rProgress: |█████████████████████████████████-----------------| 67.3% Complete\rProgress: |█████████████████████████████████-----------------| 67.4% Complete\rProgress: |█████████████████████████████████-----------------| 67.4% Complete\rProgress: |█████████████████████████████████-----------------| 67.5% Complete\rProgress: |█████████████████████████████████-----------------| 67.5% Complete\rProgress: |█████████████████████████████████-----------------| 67.6% Complete\rProgress: |█████████████████████████████████-----------------| 67.6% Complete\rProgress: |█████████████████████████████████-----------------| 67.7% Complete\rProgress: |█████████████████████████████████-----------------| 67.7% Complete\rProgress: |█████████████████████████████████-----------------| 67.8% Complete\rProgress: |█████████████████████████████████-----------------| 67.9% Complete\rProgress: |█████████████████████████████████-----------------| 67.9% Complete\rProgress: |█████████████████████████████████-----------------| 68.0% Complete\rProgress: |██████████████████████████████████----------------| 68.0% Complete\rProgress: |██████████████████████████████████----------------| 68.1% Complete\rProgress: |██████████████████████████████████----------------| 68.1% Complete\rProgress: |██████████████████████████████████----------------| 68.2% Complete\rProgress: |██████████████████████████████████----------------| 68.2% Complete\rProgress: |██████████████████████████████████----------------| 68.3% Complete\rProgress: |██████████████████████████████████----------------| 68.3% Complete\rProgress: |██████████████████████████████████----------------| 68.4% Complete\rProgress: |██████████████████████████████████----------------| 68.5% Complete\rProgress: |██████████████████████████████████----------------| 68.5% Complete\rProgress: |██████████████████████████████████----------------| 68.6% Complete\rProgress: |██████████████████████████████████----------------| 68.6% Complete\rProgress: |██████████████████████████████████----------------| 68.7% Complete\rProgress: |██████████████████████████████████----------------| 68.7% Complete\rProgress: |██████████████████████████████████----------------| 68.8% Complete\rProgress: |██████████████████████████████████----------------| 68.8% Complete\rProgress: |██████████████████████████████████----------------| 68.9% Complete\rProgress: |██████████████████████████████████----------------| 69.0% Complete\rProgress: |██████████████████████████████████----------------| 69.0% Complete\rProgress: |██████████████████████████████████----------------| 69.1% Complete\rProgress: |██████████████████████████████████----------------| 69.1% Complete\rProgress: |██████████████████████████████████----------------| 69.2% Complete\rProgress: |██████████████████████████████████----------------| 69.2% Complete\rProgress: |██████████████████████████████████----------------| 69.3% Complete\rProgress: |██████████████████████████████████----------------| 69.3% Complete\rProgress: |██████████████████████████████████----------------| 69.4% Complete\rProgress: |██████████████████████████████████----------------| 69.4% Complete\rProgress: |██████████████████████████████████----------------| 69.5% Complete\rProgress: |██████████████████████████████████----------------| 69.6% Complete\rProgress: |██████████████████████████████████----------------| 69.6% Complete\rProgress: |██████████████████████████████████----------------| 69.7% Complete\rProgress: |██████████████████████████████████----------------| 69.7% Complete\rProgress: |██████████████████████████████████----------------| 69.8% Complete\rProgress: |██████████████████████████████████----------------| 69.8% Complete\rProgress: |██████████████████████████████████----------------| 69.9% Complete\rProgress: |██████████████████████████████████----------------| 69.9% Complete\rProgress: |██████████████████████████████████----------------| 70.0% Complete\rProgress: |███████████████████████████████████---------------| 70.1% Complete\rProgress: |███████████████████████████████████---------------| 70.1% Complete\rProgress: |███████████████████████████████████---------------| 70.2% Complete\rProgress: |███████████████████████████████████---------------| 70.2% Complete\rProgress: |███████████████████████████████████---------------| 70.3% Complete\rProgress: |███████████████████████████████████---------------| 70.3% Complete\rProgress: |███████████████████████████████████---------------| 70.4% Complete\rProgress: |███████████████████████████████████---------------| 70.4% Complete\rProgress: |███████████████████████████████████---------------| 70.5% Complete\rProgress: |███████████████████████████████████---------------| 70.5% Complete\rProgress: |███████████████████████████████████---------------| 70.6% Complete\rProgress: |███████████████████████████████████---------------| 70.7% Complete\rProgress: |███████████████████████████████████---------------| 70.7% Complete\rProgress: |███████████████████████████████████---------------| 70.8% Complete\rProgress: |███████████████████████████████████---------------| 70.8% Complete\rProgress: |███████████████████████████████████---------------| 70.9% Complete\rProgress: |███████████████████████████████████---------------| 70.9% Complete\rProgress: |███████████████████████████████████---------------| 71.0% Complete\rProgress: |███████████████████████████████████---------------| 71.0% Complete\rProgress: |███████████████████████████████████---------------| 71.1% Complete\rProgress: |███████████████████████████████████---------------| 71.2% Complete\rProgress: |███████████████████████████████████---------------| 71.2% Complete\rProgress: |███████████████████████████████████---------------| 71.3% Complete\rProgress: |███████████████████████████████████---------------| 71.3% Complete\rProgress: |███████████████████████████████████---------------| 71.4% Complete\rProgress: |███████████████████████████████████---------------| 71.4% Complete\rProgress: |███████████████████████████████████---------------| 71.5% Complete\rProgress: |███████████████████████████████████---------------| 71.5% Complete\rProgress: |███████████████████████████████████---------------| 71.6% Complete\rProgress: |███████████████████████████████████---------------| 71.6% Complete\rProgress: |███████████████████████████████████---------------| 71.7% Complete\rProgress: |███████████████████████████████████---------------| 71.8% Complete\rProgress: |███████████████████████████████████---------------| 71.8% Complete\rProgress: |███████████████████████████████████---------------| 71.9% Complete\rProgress: |███████████████████████████████████---------------| 71.9% Complete\rProgress: |███████████████████████████████████---------------| 72.0% Complete\rProgress: |████████████████████████████████████--------------| 72.0% Complete\rProgress: |████████████████████████████████████--------------| 72.1% Complete\rProgress: |████████████████████████████████████--------------| 72.1% Complete\rProgress: |████████████████████████████████████--------------| 72.2% Complete\rProgress: |████████████████████████████████████--------------| 72.2% Complete\rProgress: |████████████████████████████████████--------------| 72.3% Complete\rProgress: |████████████████████████████████████--------------| 72.4% Complete\rProgress: |████████████████████████████████████--------------| 72.4% Complete\rProgress: |████████████████████████████████████--------------| 72.5% Complete\rProgress: |████████████████████████████████████--------------| 72.5% Complete\rProgress: |████████████████████████████████████--------------| 72.6% Complete\rProgress: |████████████████████████████████████--------------| 72.6% Complete\rProgress: |████████████████████████████████████--------------| 72.7% Complete\rProgress: |████████████████████████████████████--------------| 72.7% Complete\rProgress: |████████████████████████████████████--------------| 72.8% Complete\rProgress: |████████████████████████████████████--------------| 72.9% Complete\rProgress: |████████████████████████████████████--------------| 72.9% Complete\rProgress: |████████████████████████████████████--------------| 73.0% Complete\rProgress: |████████████████████████████████████--------------| 73.0% Complete\rProgress: |████████████████████████████████████--------------| 73.1% Complete\rProgress: |████████████████████████████████████--------------| 73.1% Complete\rProgress: |████████████████████████████████████--------------| 73.2% Complete\rProgress: |████████████████████████████████████--------------| 73.2% Complete\rProgress: |████████████████████████████████████--------------| 73.3% Complete\rProgress: |████████████████████████████████████--------------| 73.3% Complete\rProgress: |████████████████████████████████████--------------| 73.4% Complete\rProgress: |████████████████████████████████████--------------| 73.5% Complete\rProgress: |████████████████████████████████████--------------| 73.5% Complete\rProgress: |████████████████████████████████████--------------| 73.6% Complete\rProgress: |████████████████████████████████████--------------| 73.6% Complete\rProgress: |████████████████████████████████████--------------| 73.7% Complete\rProgress: |████████████████████████████████████--------------| 73.7% Complete\rProgress: |████████████████████████████████████--------------| 73.8% Complete\rProgress: |████████████████████████████████████--------------| 73.8% Complete\rProgress: |████████████████████████████████████--------------| 73.9% Complete\rProgress: |████████████████████████████████████--------------| 74.0% Complete\rProgress: |█████████████████████████████████████-------------| 74.0% Complete\rProgress: |█████████████████████████████████████-------------| 74.1% Complete\rProgress: |█████████████████████████████████████-------------| 74.1% Complete\rProgress: |█████████████████████████████████████-------------| 74.2% Complete\rProgress: |█████████████████████████████████████-------------| 74.2% Complete\rProgress: |█████████████████████████████████████-------------| 74.3% Complete\rProgress: |█████████████████████████████████████-------------| 74.3% Complete\rProgress: |█████████████████████████████████████-------------| 74.4% Complete\rProgress: |█████████████████████████████████████-------------| 74.4% Complete\rProgress: |█████████████████████████████████████-------------| 74.5% Complete\rProgress: |█████████████████████████████████████-------------| 74.6% Complete\rProgress: |█████████████████████████████████████-------------| 74.6% Complete\rProgress: |█████████████████████████████████████-------------| 74.7% Complete\rProgress: |█████████████████████████████████████-------------| 74.7% Complete\rProgress: |█████████████████████████████████████-------------| 74.8% Complete\rProgress: |█████████████████████████████████████-------------| 74.8% Complete\rProgress: |█████████████████████████████████████-------------| 74.9% Complete\rProgress: |█████████████████████████████████████-------------| 74.9% Complete\rProgress: |█████████████████████████████████████-------------| 75.0% Complete\rProgress: |█████████████████████████████████████-------------| 75.1% Complete\rProgress: |█████████████████████████████████████-------------| 75.1% Complete\rProgress: |█████████████████████████████████████-------------| 75.2% Complete\rProgress: |█████████████████████████████████████-------------| 75.2% Complete\rProgress: |█████████████████████████████████████-------------| 75.3% Complete\rProgress: |█████████████████████████████████████-------------| 75.3% Complete\rProgress: |█████████████████████████████████████-------------| 75.4% Complete\rProgress: |█████████████████████████████████████-------------| 75.4% Complete\rProgress: |█████████████████████████████████████-------------| 75.5% Complete\rProgress: |█████████████████████████████████████-------------| 75.5% Complete\rProgress: |█████████████████████████████████████-------------| 75.6% Complete\rProgress: |█████████████████████████████████████-------------| 75.7% Complete\rProgress: |█████████████████████████████████████-------------| 75.7% Complete\rProgress: |█████████████████████████████████████-------------| 75.8% Complete\rProgress: |█████████████████████████████████████-------------| 75.8% Complete\rProgress: |█████████████████████████████████████-------------| 75.9% Complete\rProgress: |█████████████████████████████████████-------------| 75.9% Complete\rProgress: |█████████████████████████████████████-------------| 76.0% Complete\rProgress: |██████████████████████████████████████------------| 76.0% Complete\rProgress: |██████████████████████████████████████------------| 76.1% Complete\rProgress: |██████████████████████████████████████------------| 76.2% Complete\rProgress: |██████████████████████████████████████------------| 76.2% Complete\rProgress: |██████████████████████████████████████------------| 76.3% Complete\rProgress: |██████████████████████████████████████------------| 76.3% Complete\rProgress: |██████████████████████████████████████------------| 76.4% Complete\rProgress: |██████████████████████████████████████------------| 76.4% Complete\rProgress: |██████████████████████████████████████------------| 76.5% Complete\rProgress: |██████████████████████████████████████------------| 76.5% Complete\rProgress: |██████████████████████████████████████------------| 76.6% Complete\rProgress: |██████████████████████████████████████------------| 76.6% Complete\rProgress: |██████████████████████████████████████------------| 76.7% Complete\rProgress: |██████████████████████████████████████------------| 76.8% Complete\rProgress: |██████████████████████████████████████------------| 76.8% Complete\rProgress: |██████████████████████████████████████------------| 76.9% Complete\rProgress: |██████████████████████████████████████------------| 76.9% Complete\rProgress: |██████████████████████████████████████------------| 77.0% Complete\rProgress: |██████████████████████████████████████------------| 77.0% Complete\rProgress: |██████████████████████████████████████------------| 77.1% Complete\rProgress: |██████████████████████████████████████------------| 77.1% Complete\rProgress: |██████████████████████████████████████------------| 77.2% Complete\rProgress: |██████████████████████████████████████------------| 77.2% Complete\rProgress: |██████████████████████████████████████------------| 77.3% Complete\rProgress: |██████████████████████████████████████------------| 77.4% Complete\rProgress: |██████████████████████████████████████------------| 77.4% Complete\rProgress: |██████████████████████████████████████------------| 77.5% Complete\rProgress: |██████████████████████████████████████------------| 77.5% Complete\rProgress: |██████████████████████████████████████------------| 77.6% Complete\rProgress: |██████████████████████████████████████------------| 77.6% Complete\rProgress: |██████████████████████████████████████------------| 77.7% Complete\rProgress: |██████████████████████████████████████------------| 77.7% Complete\rProgress: |██████████████████████████████████████------------| 77.8% Complete\rProgress: |██████████████████████████████████████------------| 77.9% Complete\rProgress: |██████████████████████████████████████------------| 77.9% Complete\rProgress: |██████████████████████████████████████------------| 78.0% Complete\rProgress: |███████████████████████████████████████-----------| 78.0% Complete\rProgress: |███████████████████████████████████████-----------| 78.1% Complete\rProgress: |███████████████████████████████████████-----------| 78.1% Complete\rProgress: |███████████████████████████████████████-----------| 78.2% Complete\rProgress: |███████████████████████████████████████-----------| 78.2% Complete\rProgress: |███████████████████████████████████████-----------| 78.3% Complete\rProgress: |███████████████████████████████████████-----------| 78.3% Complete\rProgress: |███████████████████████████████████████-----------| 78.4% Complete\rProgress: |███████████████████████████████████████-----------| 78.5% Complete\rProgress: |███████████████████████████████████████-----------| 78.5% Complete\rProgress: |███████████████████████████████████████-----------| 78.6% Complete\rProgress: |███████████████████████████████████████-----------| 78.6% Complete\rProgress: |███████████████████████████████████████-----------| 78.7% Complete\rProgress: |███████████████████████████████████████-----------| 78.7% Complete\rProgress: |███████████████████████████████████████-----------| 78.8% Complete\rProgress: |███████████████████████████████████████-----------| 78.8% Complete\rProgress: |███████████████████████████████████████-----------| 78.9% Complete\rProgress: |███████████████████████████████████████-----------| 79.0% Complete\rProgress: |███████████████████████████████████████-----------| 79.0% Complete\rProgress: |███████████████████████████████████████-----------| 79.1% Complete\rProgress: |███████████████████████████████████████-----------| 79.1% Complete\rProgress: |███████████████████████████████████████-----------| 79.2% Complete\rProgress: |███████████████████████████████████████-----------| 79.2% Complete\rProgress: |███████████████████████████████████████-----------| 79.3% Complete\rProgress: |███████████████████████████████████████-----------| 79.3% Complete\rProgress: |███████████████████████████████████████-----------| 79.4% Complete\rProgress: |███████████████████████████████████████-----------| 79.4% Complete\rProgress: |███████████████████████████████████████-----------| 79.5% Complete\rProgress: |███████████████████████████████████████-----------| 79.6% Complete\rProgress: |███████████████████████████████████████-----------| 79.6% Complete\rProgress: |███████████████████████████████████████-----------| 79.7% Complete\rProgress: |███████████████████████████████████████-----------| 79.7% Complete\rProgress: |███████████████████████████████████████-----------| 79.8% Complete\rProgress: |███████████████████████████████████████-----------| 79.8% Complete\rProgress: |███████████████████████████████████████-----------| 79.9% Complete\rProgress: |███████████████████████████████████████-----------| 79.9% Complete\rProgress: |███████████████████████████████████████-----------| 80.0% Complete\rProgress: |████████████████████████████████████████----------| 80.1% Complete\rProgress: |████████████████████████████████████████----------| 80.1% Complete\rProgress: |████████████████████████████████████████----------| 80.2% Complete\rProgress: |████████████████████████████████████████----------| 80.2% Complete\rProgress: |████████████████████████████████████████----------| 80.3% Complete\rProgress: |████████████████████████████████████████----------| 80.3% Complete\rProgress: |████████████████████████████████████████----------| 80.4% Complete\rProgress: |████████████████████████████████████████----------| 80.4% Complete\rProgress: |████████████████████████████████████████----------| 80.5% Complete\rProgress: |████████████████████████████████████████----------| 80.5% Complete\rProgress: |████████████████████████████████████████----------| 80.6% Complete\rProgress: |████████████████████████████████████████----------| 80.7% Complete\rProgress: |████████████████████████████████████████----------| 80.7% Complete\rProgress: |████████████████████████████████████████----------| 80.8% Complete\rProgress: |████████████████████████████████████████----------| 80.8% Complete\rProgress: |████████████████████████████████████████----------| 80.9% Complete\rProgress: |████████████████████████████████████████----------| 80.9% Complete\rProgress: |████████████████████████████████████████----------| 81.0% Complete\rProgress: |████████████████████████████████████████----------| 81.0% Complete\rProgress: |████████████████████████████████████████----------| 81.1% Complete\rProgress: |████████████████████████████████████████----------| 81.1% Complete\rProgress: |████████████████████████████████████████----------| 81.2% Complete\rProgress: |████████████████████████████████████████----------| 81.3% Complete\rProgress: |████████████████████████████████████████----------| 81.3% Complete\rProgress: |████████████████████████████████████████----------| 81.4% Complete\rProgress: |████████████████████████████████████████----------| 81.4% Complete\rProgress: |████████████████████████████████████████----------| 81.5% Complete\rProgress: |████████████████████████████████████████----------| 81.5% Complete\rProgress: |████████████████████████████████████████----------| 81.6% Complete\rProgress: |████████████████████████████████████████----------| 81.6% Complete\rProgress: |████████████████████████████████████████----------| 81.7% Complete\rProgress: |████████████████████████████████████████----------| 81.8% Complete\rProgress: |████████████████████████████████████████----------| 81.8% Complete\rProgress: |████████████████████████████████████████----------| 81.9% Complete\rProgress: |████████████████████████████████████████----------| 81.9% Complete\rProgress: |████████████████████████████████████████----------| 82.0% Complete\rProgress: |█████████████████████████████████████████---------| 82.0% Complete\rProgress: |█████████████████████████████████████████---------| 82.1% Complete\rProgress: |█████████████████████████████████████████---------| 82.1% Complete\rProgress: |█████████████████████████████████████████---------| 82.2% Complete\rProgress: |█████████████████████████████████████████---------| 82.2% Complete\rProgress: |█████████████████████████████████████████---------| 82.3% Complete\rProgress: |█████████████████████████████████████████---------| 82.4% Complete\rProgress: |█████████████████████████████████████████---------| 82.4% Complete\rProgress: |█████████████████████████████████████████---------| 82.5% Complete\rProgress: |█████████████████████████████████████████---------| 82.5% Complete\rProgress: |█████████████████████████████████████████---------| 82.6% Complete\rProgress: |█████████████████████████████████████████---------| 82.6% Complete\rProgress: |█████████████████████████████████████████---------| 82.7% Complete\rProgress: |█████████████████████████████████████████---------| 82.7% Complete\rProgress: |█████████████████████████████████████████---------| 82.8% Complete\rProgress: |█████████████████████████████████████████---------| 82.9% Complete\rProgress: |█████████████████████████████████████████---------| 82.9% Complete\rProgress: |█████████████████████████████████████████---------| 83.0% Complete\rProgress: |█████████████████████████████████████████---------| 83.0% Complete\rProgress: |█████████████████████████████████████████---------| 83.1% Complete\rProgress: |█████████████████████████████████████████---------| 83.1% Complete\rProgress: |█████████████████████████████████████████---------| 83.2% Complete\rProgress: |█████████████████████████████████████████---------| 83.2% Complete\rProgress: |█████████████████████████████████████████---------| 83.3% Complete\rProgress: |█████████████████████████████████████████---------| 83.3% Complete\rProgress: |█████████████████████████████████████████---------| 83.4% Complete\rProgress: |█████████████████████████████████████████---------| 83.5% Complete\rProgress: |█████████████████████████████████████████---------| 83.5% Complete\rProgress: |█████████████████████████████████████████---------| 83.6% Complete\rProgress: |█████████████████████████████████████████---------| 83.6% Complete\rProgress: |█████████████████████████████████████████---------| 83.7% Complete\rProgress: |█████████████████████████████████████████---------| 83.7% Complete\rProgress: |█████████████████████████████████████████---------| 83.8% Complete\rProgress: |█████████████████████████████████████████---------| 83.8% Complete\rProgress: |█████████████████████████████████████████---------| 83.9% Complete\rProgress: |█████████████████████████████████████████---------| 84.0% Complete\rProgress: |██████████████████████████████████████████--------| 84.0% Complete\rProgress: |██████████████████████████████████████████--------| 84.1% Complete\rProgress: |██████████████████████████████████████████--------| 84.1% Complete\rProgress: |██████████████████████████████████████████--------| 84.2% Complete\rProgress: |██████████████████████████████████████████--------| 84.2% Complete\rProgress: |██████████████████████████████████████████--------| 84.3% Complete\rProgress: |██████████████████████████████████████████--------| 84.3% Complete\rProgress: |██████████████████████████████████████████--------| 84.4% Complete\rProgress: |██████████████████████████████████████████--------| 84.4% Complete\rProgress: |██████████████████████████████████████████--------| 84.5% Complete\rProgress: |██████████████████████████████████████████--------| 84.6% Complete\rProgress: |██████████████████████████████████████████--------| 84.6% Complete\rProgress: |██████████████████████████████████████████--------| 84.7% Complete\rProgress: |██████████████████████████████████████████--------| 84.7% Complete\rProgress: |██████████████████████████████████████████--------| 84.8% Complete\rProgress: |██████████████████████████████████████████--------| 84.8% Complete\rProgress: |██████████████████████████████████████████--------| 84.9% Complete\rProgress: |██████████████████████████████████████████--------| 84.9% Complete\rProgress: |██████████████████████████████████████████--------| 85.0% Complete\rProgress: |██████████████████████████████████████████--------| 85.1% Complete\rProgress: |██████████████████████████████████████████--------| 85.1% Complete\rProgress: |██████████████████████████████████████████--------| 85.2% Complete\rProgress: |██████████████████████████████████████████--------| 85.2% Complete\rProgress: |██████████████████████████████████████████--------| 85.3% Complete\rProgress: |██████████████████████████████████████████--------| 85.3% Complete\rProgress: |██████████████████████████████████████████--------| 85.4% Complete\rProgress: |██████████████████████████████████████████--------| 85.4% Complete\rProgress: |██████████████████████████████████████████--------| 85.5% Complete\rProgress: |██████████████████████████████████████████--------| 85.5% Complete\rProgress: |██████████████████████████████████████████--------| 85.6% Complete\rProgress: |██████████████████████████████████████████--------| 85.7% Complete\rProgress: |██████████████████████████████████████████--------| 85.7% Complete\rProgress: |██████████████████████████████████████████--------| 85.8% Complete\rProgress: |██████████████████████████████████████████--------| 85.8% Complete\rProgress: |██████████████████████████████████████████--------| 85.9% Complete\rProgress: |██████████████████████████████████████████--------| 85.9% Complete\rProgress: |██████████████████████████████████████████--------| 86.0% Complete\rProgress: |███████████████████████████████████████████-------| 86.0% Complete\rProgress: |███████████████████████████████████████████-------| 86.1% Complete\rProgress: |███████████████████████████████████████████-------| 86.1% Complete\rProgress: |███████████████████████████████████████████-------| 86.2% Complete\rProgress: |███████████████████████████████████████████-------| 86.3% Complete\rProgress: |███████████████████████████████████████████-------| 86.3% Complete\rProgress: |███████████████████████████████████████████-------| 86.4% Complete\rProgress: |███████████████████████████████████████████-------| 86.4% Complete\rProgress: |███████████████████████████████████████████-------| 86.5% Complete\rProgress: |███████████████████████████████████████████-------| 86.5% Complete\rProgress: |███████████████████████████████████████████-------| 86.6% Complete\rProgress: |███████████████████████████████████████████-------| 86.6% Complete\rProgress: |███████████████████████████████████████████-------| 86.7% Complete\rProgress: |███████████████████████████████████████████-------| 86.8% Complete\rProgress: |███████████████████████████████████████████-------| 86.8% Complete\rProgress: |███████████████████████████████████████████-------| 86.9% Complete\rProgress: |███████████████████████████████████████████-------| 86.9% Complete\rProgress: |███████████████████████████████████████████-------| 87.0% Complete\rProgress: |███████████████████████████████████████████-------| 87.0% Complete\rProgress: |███████████████████████████████████████████-------| 87.1% Complete\rProgress: |███████████████████████████████████████████-------| 87.1% Complete\rProgress: |███████████████████████████████████████████-------| 87.2% Complete\rProgress: |███████████████████████████████████████████-------| 87.2% Complete\rProgress: |███████████████████████████████████████████-------| 87.3% Complete\rProgress: |███████████████████████████████████████████-------| 87.4% Complete\rProgress: |███████████████████████████████████████████-------| 87.4% Complete\rProgress: |███████████████████████████████████████████-------| 87.5% Complete\rProgress: |███████████████████████████████████████████-------| 87.5% Complete\rProgress: |███████████████████████████████████████████-------| 87.6% Complete\rProgress: |███████████████████████████████████████████-------| 87.6% Complete\rProgress: |███████████████████████████████████████████-------| 87.7% Complete\rProgress: |███████████████████████████████████████████-------| 87.7% Complete\rProgress: |███████████████████████████████████████████-------| 87.8% Complete\rProgress: |███████████████████████████████████████████-------| 87.9% Complete\rProgress: |███████████████████████████████████████████-------| 87.9% Complete\rProgress: |███████████████████████████████████████████-------| 88.0% Complete\rProgress: |████████████████████████████████████████████------| 88.0% Complete\rProgress: |████████████████████████████████████████████------| 88.1% Complete\rProgress: |████████████████████████████████████████████------| 88.1% Complete\rProgress: |████████████████████████████████████████████------| 88.2% Complete\rProgress: |████████████████████████████████████████████------| 88.2% Complete\rProgress: |████████████████████████████████████████████------| 88.3% Complete\rProgress: |████████████████████████████████████████████------| 88.3% Complete\rProgress: |████████████████████████████████████████████------| 88.4% Complete\rProgress: |████████████████████████████████████████████------| 88.5% Complete\rProgress: |████████████████████████████████████████████------| 88.5% Complete\rProgress: |████████████████████████████████████████████------| 88.6% Complete\rProgress: |████████████████████████████████████████████------| 88.6% Complete\rProgress: |████████████████████████████████████████████------| 88.7% Complete\rProgress: |████████████████████████████████████████████------| 88.7% Complete\rProgress: |████████████████████████████████████████████------| 88.8% Complete\rProgress: |████████████████████████████████████████████------| 88.8% Complete\rProgress: |████████████████████████████████████████████------| 88.9% Complete\rProgress: |████████████████████████████████████████████------| 89.0% Complete\rProgress: |████████████████████████████████████████████------| 89.0% Complete\rProgress: |████████████████████████████████████████████------| 89.1% Complete\rProgress: |████████████████████████████████████████████------| 89.1% Complete\rProgress: |████████████████████████████████████████████------| 89.2% Complete\rProgress: |████████████████████████████████████████████------| 89.2% Complete\rProgress: |████████████████████████████████████████████------| 89.3% Complete\rProgress: |████████████████████████████████████████████------| 89.3% Complete\rProgress: |████████████████████████████████████████████------| 89.4% Complete\rProgress: |████████████████████████████████████████████------| 89.4% Complete\rProgress: |████████████████████████████████████████████------| 89.5% Complete\rProgress: |████████████████████████████████████████████------| 89.6% Complete\rProgress: |████████████████████████████████████████████------| 89.6% Complete\rProgress: |████████████████████████████████████████████------| 89.7% Complete\rProgress: |████████████████████████████████████████████------| 89.7% Complete\rProgress: |████████████████████████████████████████████------| 89.8% Complete\rProgress: |████████████████████████████████████████████------| 89.8% Complete\rProgress: |████████████████████████████████████████████------| 89.9% Complete\rProgress: |████████████████████████████████████████████------| 89.9% Complete\rProgress: |████████████████████████████████████████████------| 90.0% Complete\rProgress: |█████████████████████████████████████████████-----| 90.1% Complete\rProgress: |█████████████████████████████████████████████-----| 90.1% Complete\rProgress: |█████████████████████████████████████████████-----| 90.2% Complete\rProgress: |█████████████████████████████████████████████-----| 90.2% Complete\rProgress: |█████████████████████████████████████████████-----| 90.3% Complete\rProgress: |█████████████████████████████████████████████-----| 90.3% Complete\rProgress: |█████████████████████████████████████████████-----| 90.4% Complete\rProgress: |█████████████████████████████████████████████-----| 90.4% Complete\rProgress: |█████████████████████████████████████████████-----| 90.5% Complete\rProgress: |█████████████████████████████████████████████-----| 90.5% Complete\rProgress: |█████████████████████████████████████████████-----| 90.6% Complete\rProgress: |█████████████████████████████████████████████-----| 90.7% Complete\rProgress: |█████████████████████████████████████████████-----| 90.7% Complete\rProgress: |█████████████████████████████████████████████-----| 90.8% Complete\rProgress: |█████████████████████████████████████████████-----| 90.8% Complete\rProgress: |█████████████████████████████████████████████-----| 90.9% Complete\rProgress: |█████████████████████████████████████████████-----| 90.9% Complete\rProgress: |█████████████████████████████████████████████-----| 91.0% Complete\rProgress: |█████████████████████████████████████████████-----| 91.0% Complete\rProgress: |█████████████████████████████████████████████-----| 91.1% Complete\rProgress: |█████████████████████████████████████████████-----| 91.1% Complete\rProgress: |█████████████████████████████████████████████-----| 91.2% Complete\rProgress: |█████████████████████████████████████████████-----| 91.3% Complete\rProgress: |█████████████████████████████████████████████-----| 91.3% Complete\rProgress: |█████████████████████████████████████████████-----| 91.4% Complete\rProgress: |█████████████████████████████████████████████-----| 91.4% Complete\rProgress: |█████████████████████████████████████████████-----| 91.5% Complete\rProgress: |█████████████████████████████████████████████-----| 91.5% Complete\rProgress: |█████████████████████████████████████████████-----| 91.6% Complete\rProgress: |█████████████████████████████████████████████-----| 91.6% Complete\rProgress: |█████████████████████████████████████████████-----| 91.7% Complete\rProgress: |█████████████████████████████████████████████-----| 91.8% Complete\rProgress: |█████████████████████████████████████████████-----| 91.8% Complete\rProgress: |█████████████████████████████████████████████-----| 91.9% Complete\rProgress: |█████████████████████████████████████████████-----| 91.9% Complete\rProgress: |█████████████████████████████████████████████-----| 92.0% Complete\rProgress: |██████████████████████████████████████████████----| 92.0% Complete\rProgress: |██████████████████████████████████████████████----| 92.1% Complete\rProgress: |██████████████████████████████████████████████----| 92.1% Complete\rProgress: |██████████████████████████████████████████████----| 92.2% Complete\rProgress: |██████████████████████████████████████████████----| 92.2% Complete\rProgress: |██████████████████████████████████████████████----| 92.3% Complete\rProgress: |██████████████████████████████████████████████----| 92.4% Complete\rProgress: |██████████████████████████████████████████████----| 92.4% Complete\rProgress: |██████████████████████████████████████████████----| 92.5% Complete\rProgress: |██████████████████████████████████████████████----| 92.5% Complete\rProgress: |██████████████████████████████████████████████----| 92.6% Complete\rProgress: |██████████████████████████████████████████████----| 92.6% Complete\rProgress: |██████████████████████████████████████████████----| 92.7% Complete\rProgress: |██████████████████████████████████████████████----| 92.7% Complete\rProgress: |██████████████████████████████████████████████----| 92.8% Complete\rProgress: |██████████████████████████████████████████████----| 92.9% Complete\rProgress: |██████████████████████████████████████████████----| 92.9% Complete\rProgress: |██████████████████████████████████████████████----| 93.0% Complete\rProgress: |██████████████████████████████████████████████----| 93.0% Complete\rProgress: |██████████████████████████████████████████████----| 93.1% Complete\rProgress: |██████████████████████████████████████████████----| 93.1% Complete\rProgress: |██████████████████████████████████████████████----| 93.2% Complete\rProgress: |██████████████████████████████████████████████----| 93.2% Complete\rProgress: |██████████████████████████████████████████████----| 93.3% Complete\rProgress: |██████████████████████████████████████████████----| 93.3% Complete\rProgress: |██████████████████████████████████████████████----| 93.4% Complete\rProgress: |██████████████████████████████████████████████----| 93.5% Complete\rProgress: |██████████████████████████████████████████████----| 93.5% Complete\rProgress: |██████████████████████████████████████████████----| 93.6% Complete\rProgress: |██████████████████████████████████████████████----| 93.6% Complete\rProgress: |██████████████████████████████████████████████----| 93.7% Complete\rProgress: |██████████████████████████████████████████████----| 93.7% Complete\rProgress: |██████████████████████████████████████████████----| 93.8% Complete\rProgress: |██████████████████████████████████████████████----| 93.8% Complete\rProgress: |██████████████████████████████████████████████----| 93.9% Complete\rProgress: |██████████████████████████████████████████████----| 94.0% Complete\rProgress: |███████████████████████████████████████████████---| 94.0% Complete\rProgress: |███████████████████████████████████████████████---| 94.1% Complete\rProgress: |███████████████████████████████████████████████---| 94.1% Complete\rProgress: |███████████████████████████████████████████████---| 94.2% Complete\rProgress: |███████████████████████████████████████████████---| 94.2% Complete\rProgress: |███████████████████████████████████████████████---| 94.3% Complete\rProgress: |███████████████████████████████████████████████---| 94.3% Complete\rProgress: |███████████████████████████████████████████████---| 94.4% Complete\rProgress: |███████████████████████████████████████████████---| 94.4% Complete\rProgress: |███████████████████████████████████████████████---| 94.5% Complete\rProgress: |███████████████████████████████████████████████---| 94.6% Complete\rProgress: |███████████████████████████████████████████████---| 94.6% Complete\rProgress: |███████████████████████████████████████████████---| 94.7% Complete\rProgress: |███████████████████████████████████████████████---| 94.7% Complete\rProgress: |███████████████████████████████████████████████---| 94.8% Complete\rProgress: |███████████████████████████████████████████████---| 94.8% Complete\rProgress: |███████████████████████████████████████████████---| 94.9% Complete\rProgress: |███████████████████████████████████████████████---| 94.9% Complete\rProgress: |███████████████████████████████████████████████---| 95.0% Complete\rProgress: |███████████████████████████████████████████████---| 95.1% Complete\rProgress: |███████████████████████████████████████████████---| 95.1% Complete\rProgress: |███████████████████████████████████████████████---| 95.2% Complete\rProgress: |███████████████████████████████████████████████---| 95.2% Complete\rProgress: |███████████████████████████████████████████████---| 95.3% Complete\rProgress: |███████████████████████████████████████████████---| 95.3% Complete\rProgress: |███████████████████████████████████████████████---| 95.4% Complete\rProgress: |███████████████████████████████████████████████---| 95.4% Complete\rProgress: |███████████████████████████████████████████████---| 95.5% Complete\rProgress: |███████████████████████████████████████████████---| 95.5% Complete\rProgress: |███████████████████████████████████████████████---| 95.6% Complete\rProgress: |███████████████████████████████████████████████---| 95.7% Complete\rProgress: |███████████████████████████████████████████████---| 95.7% Complete\rProgress: |███████████████████████████████████████████████---| 95.8% Complete\rProgress: |███████████████████████████████████████████████---| 95.8% Complete\rProgress: |███████████████████████████████████████████████---| 95.9% Complete\rProgress: |███████████████████████████████████████████████---| 95.9% Complete\rProgress: |███████████████████████████████████████████████---| 96.0% Complete\rProgress: |████████████████████████████████████████████████--| 96.0% Complete\rProgress: |████████████████████████████████████████████████--| 96.1% Complete\rProgress: |████████████████████████████████████████████████--| 96.1% Complete\rProgress: |████████████████████████████████████████████████--| 96.2% Complete\rProgress: |████████████████████████████████████████████████--| 96.3% Complete\rProgress: |████████████████████████████████████████████████--| 96.3% Complete\rProgress: |████████████████████████████████████████████████--| 96.4% Complete\rProgress: |████████████████████████████████████████████████--| 96.4% Complete\rProgress: |████████████████████████████████████████████████--| 96.5% Complete\rProgress: |████████████████████████████████████████████████--| 96.5% Complete\rProgress: |████████████████████████████████████████████████--| 96.6% Complete\rProgress: |████████████████████████████████████████████████--| 96.6% Complete\rProgress: |████████████████████████████████████████████████--| 96.7% Complete\rProgress: |████████████████████████████████████████████████--| 96.8% Complete\rProgress: |████████████████████████████████████████████████--| 96.8% Complete\rProgress: |████████████████████████████████████████████████--| 96.9% Complete\rProgress: |████████████████████████████████████████████████--| 96.9% Complete\rProgress: |████████████████████████████████████████████████--| 97.0% Complete\rProgress: |████████████████████████████████████████████████--| 97.0% Complete\rProgress: |████████████████████████████████████████████████--| 97.1% Complete\rProgress: |████████████████████████████████████████████████--| 97.1% Complete\rProgress: |████████████████████████████████████████████████--| 97.2% Complete\rProgress: |████████████████████████████████████████████████--| 97.2% Complete\rProgress: |████████████████████████████████████████████████--| 97.3% Complete\rProgress: |████████████████████████████████████████████████--| 97.4% Complete\rProgress: |████████████████████████████████████████████████--| 97.4% Complete\rProgress: |████████████████████████████████████████████████--| 97.5% Complete\rProgress: |████████████████████████████████████████████████--| 97.5% Complete\rProgress: |████████████████████████████████████████████████--| 97.6% Complete\rProgress: |████████████████████████████████████████████████--| 97.6% Complete\rProgress: |████████████████████████████████████████████████--| 97.7% Complete\rProgress: |████████████████████████████████████████████████--| 97.7% Complete\rProgress: |████████████████████████████████████████████████--| 97.8% Complete\rProgress: |████████████████████████████████████████████████--| 97.9% Complete\rProgress: |████████████████████████████████████████████████--| 97.9% Complete\rProgress: |████████████████████████████████████████████████--| 98.0% Complete\rProgress: |█████████████████████████████████████████████████-| 98.0% Complete\rProgress: |█████████████████████████████████████████████████-| 98.1% Complete\rProgress: |█████████████████████████████████████████████████-| 98.1% Complete\rProgress: |█████████████████████████████████████████████████-| 98.2% Complete\rProgress: |█████████████████████████████████████████████████-| 98.2% Complete\rProgress: |█████████████████████████████████████████████████-| 98.3% Complete\rProgress: |█████████████████████████████████████████████████-| 98.3% Complete\rProgress: |█████████████████████████████████████████████████-| 98.4% Complete\rProgress: |█████████████████████████████████████████████████-| 98.5% Complete\rProgress: |█████████████████████████████████████████████████-| 98.5% Complete\rProgress: |█████████████████████████████████████████████████-| 98.6% Complete\rProgress: |█████████████████████████████████████████████████-| 98.6% Complete\rProgress: |█████████████████████████████████████████████████-| 98.7% Complete\rProgress: |█████████████████████████████████████████████████-| 98.7% Complete\rProgress: |█████████████████████████████████████████████████-| 98.8% Complete\rProgress: |█████████████████████████████████████████████████-| 98.8% Complete\rProgress: |█████████████████████████████████████████████████-| 98.9% Complete\rProgress: |█████████████████████████████████████████████████-| 99.0% Complete\rProgress: |█████████████████████████████████████████████████-| 99.0% Complete\rProgress: |█████████████████████████████████████████████████-| 99.1% Complete\rProgress: |█████████████████████████████████████████████████-| 99.1% Complete\rProgress: |█████████████████████████████████████████████████-| 99.2% Complete\rProgress: |█████████████████████████████████████████████████-| 99.2% Complete\rProgress: |█████████████████████████████████████████████████-| 99.3% Complete\rProgress: |█████████████████████████████████████████████████-| 99.3% Complete\rProgress: |█████████████████████████████████████████████████-| 99.4% Complete\rProgress: |█████████████████████████████████████████████████-| 99.4% Complete\rProgress: |█████████████████████████████████████████████████-| 99.5% Complete\rProgress: |█████████████████████████████████████████████████-| 99.6% Complete\rProgress: |█████████████████████████████████████████████████-| 99.6% Complete\rProgress: |█████████████████████████████████████████████████-| 99.7% Complete\rProgress: |█████████████████████████████████████████████████-| 99.7% Complete\rProgress: |█████████████████████████████████████████████████-| 99.8% Complete\rProgress: |█████████████████████████████████████████████████-| 99.8% Complete\rProgress: |█████████████████████████████████████████████████-| 99.9% Complete\rProgress: |█████████████████████████████████████████████████-| 99.9% Complete\rProgress: |█████████████████████████████████████████████████-| 100.0% Complete\rProgress: |██████████████████████████████████████████████████| 100.1% Complete"
          ]
        },
        {
          "output_type": "stream",
          "name": "stderr",
          "text": [
            "  1%|          | 1/100 [00:02<03:21,  2.04s/it]"
          ]
        },
        {
          "output_type": "stream",
          "name": "stdout",
          "text": [
            "📄 cosmetics_00007.png OCR 결과:\n",
            "전성분 정제수 1,2-핵산다이올 프로관다이올 부딪렌들라이클 소문하이알루로네이트 복시나무잎추출물 사과수 소임주출물 쌀추출물 다이프로필렌글라이클 병나무잎추출물 힘버드나무 매실주출물 판터늘 트로메타민 아크렇레 껍질추출물 회화나나무뿌리주출물 세라마이드엔피 이올 (12-14피렉스-12 이트010-30알길아크락레이트크로스플리머 예텔핵실긁리세린 다이소둥이디티에이 향료 카보머 메략프로관다\n",
            "================================================================================\n"
          ]
        },
        {
          "output_type": "stream",
          "name": "stderr",
          "text": [
            "  2%|▏         | 2/100 [00:03<02:39,  1.63s/it]"
          ]
        },
        {
          "output_type": "stream",
          "name": "stdout",
          "text": [
            "📄 cosmetics_00022.png OCR 결과:\n",
            "전성뿐 스테아레이트_ 씨드 이알루로데이트 리돌레나애씨드 정제수 프로관다이올 피로스데돌 사이클로젠타실록세인 세립에봉렉사도에이트 땅콩씨겹질추출물 글리세린 카프질렉카프리트라이금리세라이드 세테야필알코올 부근렌글라이골 트리리프습베리열매주출물 다이메티로 스테아리애씨드 토코페돌 쓸비란스테아레이트 스피롭리나 올레의애씨드 시어버터 1,2-핵산다이올 팔미릭애씨드 방하수 포도씨오일 플라렌시스추출물 글리세질 리돌레의야 판계국 소문하 너 밀써주출물 로홀리추출물 귀나무씩추출물 둘벤조에이트 향료 카보머 잔단검 사우수레야인블루크라다주출물 알지난 다이소문이디티에이 감나무잎추출물 밤부사 카프럴플글라이블 불가리스추출물 에텔학실금리세린 귀노아씨주출물 프로필렌글라이블 녹차주출물 생열\n",
            "================================================================================\n"
          ]
        },
        {
          "output_type": "stream",
          "name": "stderr",
          "text": [
            "  3%|▎         | 3/100 [00:04<02:01,  1.25s/it]"
          ]
        },
        {
          "output_type": "stream",
          "name": "stdout",
          "text": [
            "📄 cosmetics_00025.png OCR 결과:\n",
            "전성분 소흉메이트 벤질트조에이트 리모넷 비에이치터 소문팔커엘레이트 정제수 유차나무싸오일 글리세린 팬씨드 데실금루코이드 [아굽) 숲가루9 테트라스흉에되드로네이트 향료 부립렌글라이률 라임추출물  에티드로니애씨드 레온주출물 사과주출물 태트라소둥이디티에이 오렌지주출물 포도주출물 소문글로리이드 팔커빛애씨드 메탤글루세스-2\n",
            "================================================================================\n"
          ]
        },
        {
          "output_type": "stream",
          "name": "stderr",
          "text": [
            "  4%|▍         | 4/100 [00:05<01:54,  1.19s/it]"
          ]
        },
        {
          "output_type": "stream",
          "name": "stdout",
          "text": [
            "📄 cosmetics_00026.png OCR 결과:\n",
            "[선성 청제운 병운출출물숙8이의[) 변성말되올 불문질도락롬: 분플렌스렉이블 매테라소이트의이침미} 1하렉스되예올 @제야르@이트5의히레) 놈예출출물 홍체롭출물 보예켓-출물: 병풀렉:출물 물화출출물 울무증 팀어보쓸로출물 올리하요일 뿌계앞출출물 숨토.렉로]나실발표#출물 우롭세잠출물 세계-예트엔페 해의로로제트이레트 음만세합 레사봉록 쓰로일랜 물로제웨이렉트실-템오일: 콤레실렉블 예플회실몰렉세웬 멘물 폐로소핑고센 폐의제@@하어 붐문시탕 키하렉렉쾌플렉트라이올리 세어블레 _이소문이 데테에이 렌이목 세트렉어싸물 제계이블\n",
            "================================================================================\n"
          ]
        },
        {
          "output_type": "stream",
          "name": "stderr",
          "text": [
            "  5%|▌         | 5/100 [00:06<01:43,  1.09s/it]"
          ]
        },
        {
          "output_type": "stream",
          "name": "stdout",
          "text": [
            "📄 cosmetics_00031.png OCR 결과:\n",
            "딱심문 청체문 에컨올 부립레플라이골 해술 훨릭애지운 소둘시트레이트 카체염매주출움 배 @원리실레이트 달토리극요의애씨목 산히나 무뿌리주출물 복숨야사로출물 베터인 다이포 팀`록리리제이록 뿐-올 12회사다이올 민 물 (2 13파레스중 예텔렉실금리세람 )드린 어씨드 더이소움이리티에이 [0지 유히 성분 무창기: 웬계악코올 벤-폐늄 3//4 이철픽리-웬 예칠-느 라례 이1프로필교뷰렌 편로필짝라맨 이소부템 피라하웬 부리픽라푹 @해의록시멘조의애\n",
            "================================================================================\n"
          ]
        },
        {
          "output_type": "stream",
          "name": "stderr",
          "text": [
            "  6%|▌         | 6/100 [00:07<01:36,  1.02s/it]"
          ]
        },
        {
          "output_type": "stream",
          "name": "stdout",
          "text": [
            "📄 cosmetics_00039.png OCR 결과:\n",
            "전성분 정제수 석시네이트 필라이트 트 라우킬금루코사이드 다이소둡고코앉포다이아세테이트 소문글로라이드 글리세린 다이소문라우렉설포 소문라우킬글루코오스카복실레이 부근렌글라이꼴 사우수레아인블루크 밀써주출물 소문하이 아그립레이트 플라렌시스추출물 몰리취터늄-7 핵실렌글라이오 알지난 라다주출물 판계돌 알루로네이트 스피롭리나 포도씨오일 시어버터 (10 -30알길아크렇레이트크로스돌리머 이소둥이디티에이 실플라이익 폐네털알코올 소톱벤조에이트 향료 소돕아니세이트 12-핵산다이올 시트리애씨드 카프럽\n",
            "================================================================================\n"
          ]
        },
        {
          "output_type": "stream",
          "name": "stderr",
          "text": [
            "  7%|▋         | 7/100 [00:08<01:34,  1.02s/it]"
          ]
        },
        {
          "output_type": "stream",
          "name": "stdout",
          "text": [
            "📄 cosmetics_00041.png OCR 결과:\n",
            "며신- 비심 더_어하세'이터 귀| :::출다다; 음}출국목 라컴플베키없 조육바라로활-최둘세네애든 알선국넘마화매물 태달로로관터이움 {-국 해로말-유구월평 {탤발? 소냐:랑임출호 콤픽세련 @표 입산-하 @룩어비프다월비; {선문 말- 출: 완려움움뉘-쓰개);애엄 컴출?움끌록 뺨선 건수 열매준흙 살리실질해씨트 설리국; 텍어소움위렉회예해; 웬 르위해째목_ 소국벤}소워__이 이야출락보제문실문교네 텍설옆관--권 지라이부훨나-위이블' 오결최월 소거퓨발벤예의 대국\n",
            "================================================================================\n"
          ]
        },
        {
          "output_type": "stream",
          "name": "stderr",
          "text": [
            "  8%|▊         | 8/100 [00:08<01:22,  1.11it/s]"
          ]
        },
        {
          "output_type": "stream",
          "name": "stdout",
          "text": [
            "📄 cosmetics_00045.png OCR 결과:\n",
            "[주요성분) 치오글리록산 전성뷰 정제수 세테야람말코올 미네활오일 우아 갈습하이드록사이드 세립끌코올 치오권라이골리어드 프로필렌글라이혹 포티숨하이 드록사이드 리듬하이드록사이드 세테이레스-2 시어버터 향료 다이소득0 미리스틱말코올 쓰아깥말코올 둘세테아실설메이트 디티에이 레시린 토코페록 해비라-오일 글리세렉스이레이트 녹차주출물 로즈미리임추출물 비사보록 아스발팔미테이트 권 세립올리에이트 시트리어드\n",
            "================================================================================\n"
          ]
        },
        {
          "output_type": "stream",
          "name": "stderr",
          "text": [
            "  9%|▉         | 9/100 [00:09<01:05,  1.40it/s]"
          ]
        },
        {
          "output_type": "stream",
          "name": "stdout",
          "text": [
            "📄 cosmetics_00047.png OCR 결과:\n",
            "[전성뷰) 에달렉실팔미테이트 오일 스위드이모드오일 올리브오일 토`페랗아서테이트 미키다미아오일 에행학실금리세리 호호바씨오일 향료 코코넷야자\n",
            "================================================================================\n"
          ]
        },
        {
          "output_type": "stream",
          "name": "stderr",
          "text": [
            " 10%|█         | 10/100 [00:09<00:57,  1.56it/s]"
          ]
        },
        {
          "output_type": "stream",
          "name": "stdout",
          "text": [
            "📄 cosmetics_00049.png OCR 결과:\n",
            "전성분 록사이드 호호바씨오일 칠이오든: 제라리올 정제수 세테아래스-20 카카오씨드버터 미네닐오일 소문하이드록사이드 칼숨치오글리몰레이트 향료 세테아락알코올 실리카 칼습하이드 아르간트리커널오일 알파이소메 부발페닐메철프로피오날 아밀신남그\n",
            "================================================================================\n"
          ]
        },
        {
          "output_type": "stream",
          "name": "stderr",
          "text": [
            " 11%|█         | 11/100 [00:10<00:57,  1.56it/s]"
          ]
        },
        {
          "output_type": "stream",
          "name": "stdout",
          "text": [
            "📄 cosmetics_00053.png OCR 결과:\n",
            "전성분 코코더야자오일 정제속 해바라기오일 표도씨오일 알로데비라주출물 벤질렌초에이트- 또 토로)올 스웨야락야씨 타집임가루_ 겁은개가루 라요붐애세드 (초중물(3,{00명가하) 미 사드리카리아오일제라니올 리날틀 예실신남일\n",
            "================================================================================\n"
          ]
        },
        {
          "output_type": "stream",
          "name": "stderr",
          "text": [
            " 12%|█▏        | 12/100 [00:14<02:22,  1.62s/it]"
          ]
        },
        {
          "output_type": "stream",
          "name": "stdout",
          "text": [
            "📄 cosmetics_00064.png OCR 결과:\n",
            "[선성볕 최제중 글라세관 위도결-쓸나 무임속울물 임도말 나금품워 출물 똑러]침임:출물- 침산호말주출물 문르쓰틱씨요일 스현리 주출물 제비로주출움 병퓨주출물 에밤티야 3로소올마 1훨신력이올 살리실휘어씨트 카프필로일살리실린애씨력 또티/코 오레걸품스폐이터 라우립하하운록페 설계인르 이하리교으열매주출물 알로에베터@주출물 불로렉터움질주출물 뇌프킬립렉리이올 박이어세아마이모 마데터소서끼이블 부훨레늘되-이블 컬러지껍_질픽출물 요박기지주 라지플매벼출물 울쁨리다출록 취피리주출물 @서미충출물 뒷카들 나무 이크락레이트이(#5이일길이되립데이` #플슬문교초이드' 소문:로일어세리오데이다 올웨이전리애째트 아지하디묘사이닥 아세이봉어씨무 마데카씌해씨다 다이소도이디터에야 곧로 [하쏘형3 형하훈.7맛]리전0) ^요하어$분+]선형' 산+싹[찌@ 7시히3어하손 1형3{ 서씹]해 새리동 [명해( '+등히러드 하그천 나|미|8 @반>리구 문히하+ 습흑쓸어 @하리? 맘어곤하하하## :3하무{; @버찌어] @하]가손 오리))3전8 /3+ '리하어-뿌회;논 탑어라 식밝어 어리-되술리|헌 (표히의하리0) 뉴이}극 @버짓위; 5376+버금; [버-하 &요히어 팎세하하기낫밝주6 뽑히; 요-기|앞 감`손 @어어어찌침 (,하어? 금 실쓰웬어오 @냐니랑터 이아 0냐어>- 흑위#껑 어어.전술6 @하파3스 836 0  진이전| ,6총 [서 방 [.3{7하요든 식요{히어유 히털어익 새리규하러하산훈해영  두에극 @범어5377해 구날 3꾸듯 재서도6도 {-#슬]]미박하하술 8시어비6 딸어히 물아하. @숨덧의거 -세어분 락4:덩히 4어> 제<밝하#최도 |하 -찌))'- [서리어논 [+:? [뵈뱀침(욱 (#9+? 3371처? 여랑엇너긋3--이:3@ 세 ~]라+[ @기청버버 @]향} 6응 @어히@3치타 사:어리물]3 [(어넘-러형5 [서 어 ['형산어이야@7 [/비하3이 지하01 도요서어 장하라하채  @웬어33제어-*입. ~하하.하 @어6어터 기즐없히 :하하 치톤'~@3 43하46 습어히 (3|어3파하6 4어히 느디:,후 [#리@썹]교(.임타;미하\n",
            "================================================================================\n"
          ]
        },
        {
          "output_type": "stream",
          "name": "stderr",
          "text": [
            " 13%|█▎        | 13/100 [00:15<02:08,  1.47s/it]"
          ]
        },
        {
          "output_type": "stream",
          "name": "stdout",
          "text": [
            "📄 cosmetics_00068.png OCR 결과:\n",
            "전성분) 정제수 글리세린 아크림레이트코플리머 다이프로필렌 글라이올 코카미도프로필베타인 소문라우레스설페 트 부석 살구씨가루 향료 우레야 소문하이드록사이드 소둥글로라이드 베타인 하이드컵라이즈드글라이코사 미노글리칸 소문하이알루로네이트: 소문하이알루로네 이트크로스홀리머 하이드록라이즈드하이알루로나애씨 드 하이드록시프로필트라이모눕하이알루로네이트 이알루로늬애씨드 소튜아세릭레이터드하이알루로네이 트 당근추출물 파파야열매추출물; 부딪렌글라이골 1;2 핵산다이올 카프질질플라이골_ 벤질글라이클 에`날 실글리세린 라즈베리켜톤 프로판다이올_ 벤질살리실레 이트 제라니올 리모데\n",
            "================================================================================\n"
          ]
        },
        {
          "output_type": "stream",
          "name": "stderr",
          "text": [
            " 14%|█▍        | 14/100 [00:15<01:43,  1.21s/it]"
          ]
        },
        {
          "output_type": "stream",
          "name": "stdout",
          "text": [
            "📄 cosmetics_00071.png OCR 결과:\n",
            "[성분명듣 버베나 데오 퍼품 리모년; 시트럭 정제수 핵실신남알  제라니올 상담실어 알루미늄홀로로하이드레이트 다이아이소옥티아디페이트, 아렬에터; 0.696) 스테아래스-20 시트로웨올 리날록 스테아레스-2 벤질알코올 아이소프로필팔미테이트 피피지구5스터 향로(버베나향 벤질번조에이트\n",
            "================================================================================\n"
          ]
        },
        {
          "output_type": "stream",
          "name": "stderr",
          "text": [
            " 15%|█▌        | 15/100 [00:16<01:36,  1.14s/it]"
          ]
        },
        {
          "output_type": "stream",
          "name": "stdout",
          "text": [
            "📄 cosmetics_00081.png OCR 결과:\n",
            "성분명 정제수 '소둡라우레스설폐이트- 이트 피이지;45팔커널금리세라이즈 이클 포타숨하이드록사이드 잇꾸포수출물 텍스트린: '골드꽃수출물 동백나무씨오일 글리세린: 1;2-핵산다이올: 핵실렌글라이익 에단올 카카두플럽주출물: 아크렇레이트코돌리머 다이소둘라우레스설로석시데이트 피이지'6카프렉리카프리금리세라이즈: 레온버베나꽃수출물(1 2:5 마 앓) 하이드록라이즈하이알루로늬애씨드 호호바씨오일: 핵실신남알 제라나올- 시트로닐올 리날록- 향료 다이소문고코앉되다이아세테이트 카프럴질글라이클 테트라소둥이디티에이 레온버베나깊수출물(125 마 웬) 스구알란 레이디스맨틀수출물 벤질알코올 벤질베조에이트 피이지-40글리세실코코어 소문코세스설페이트 부립렌글라 삼씨오일 변성알코올 마시밀로뿌리주출물 포드마리 하이드로제네이티드올리 보오일불검화물 리모년: '시트럭\n",
            "================================================================================\n"
          ]
        },
        {
          "output_type": "stream",
          "name": "stderr",
          "text": [
            " 16%|█▌        | 16/100 [00:17<01:22,  1.02it/s]"
          ]
        },
        {
          "output_type": "stream",
          "name": "stdout",
          "text": [
            "📄 cosmetics_00082.png OCR 결과:\n",
            "전성분 정제수 글리세린 카프럽렉 카프리트라이글리세라이드 다이메티곤 세털알코올 아이소프로필팔미테이트 폐트록라툼 글리세질라우레이트 스테아길알코올 라늘린 팔미터애씨드 스테아리애씨드 트라이에단올아민 메팅파라벤; 향료 판계늘 아크림레이트/(10-30 알길아크렇레이트크로스플리어 다이스테아랗다이모눈글로라이드 프로필파라벤 알란토인 부근렌글라이롬 세테야길알코올 피이지 피피지-2이6다이메티곤 벤작코늄글로라이드 비에이치터 병풀추출물 소문세테아락설폐이트 소문설-이트\n",
            "================================================================================\n"
          ]
        },
        {
          "output_type": "stream",
          "name": "stderr",
          "text": [
            " 17%|█▋        | 17/100 [00:18<01:20,  1.03it/s]"
          ]
        },
        {
          "output_type": "stream",
          "name": "stdout",
          "text": [
            "📄 cosmetics_00088.png OCR 결과:\n",
            "전정분 8제허 염성일코올 물_세림 라임씨목 데 또로필센플렉이블 보히이록시페테인= 미때트 애찌목 요현전 글루코시지 멘한 포락숙하이점록이목 소테이락어씨뜨 필미튀이드 미소헤이베터베에이 알치념 일립로입 티플임오일 흉버슴 탤탤렉플리이블 기차 출출닭 이'터어씨@ 문로-되올 의로에남리원 주출물 {요-임심되이올 향료 넓퇴터컨 커덤지언다 동소출물 예텔렉실콤리림 쓸대다출물 씬트렉이씨트 연량물물 매실주출물 락릭어씨트\n",
            "================================================================================\n"
          ]
        },
        {
          "output_type": "stream",
          "name": "stderr",
          "text": [
            " 18%|█▊        | 18/100 [00:18<01:06,  1.24it/s]"
          ]
        },
        {
          "output_type": "stream",
          "name": "stdout",
          "text": [
            "📄 cosmetics_00093.png OCR 결과:\n",
            "전성분 코코없야자오일 (3,600-마하): 애씨드: 리모벤 해바라기씨오일 유갈립투스잎오일 '서트칼: 제라니올 스위트아무드오일 레온그라스잎오일 숲가루 라우리어씨드 대나무목초액 스데아리 중량 1208 건초 전} 100하(건초 후}\n",
            "================================================================================\n"
          ]
        },
        {
          "output_type": "stream",
          "name": "stderr",
          "text": [
            " 19%|█▉        | 19/100 [00:19<01:01,  1.31it/s]"
          ]
        },
        {
          "output_type": "stream",
          "name": "stdout",
          "text": [
            "📄 cosmetics_00094.png OCR 결과:\n",
            "전성분 정제수 에단올 글리세린 피피지-26-부티스-26 이지-40하이드로제네이티드키스터오일 테늘 다이포라숨글리시리제이트 소문하이알루로네이트크로스홀리머 에팅<실글리세린 다이소둥이디티에이 폐녹시에란올 토코페록 리날률 제라니올 오논 벤질살리실레이트 부발페날데탤프로피오날 핵실신남알 베타인 다이프로필런글라이볼 향료 피 카프렉질길글라이름 팬텔런글라이골 판 소둥시트레이트 시트리애씨드 시트로닐올 알파-아이소메달아이 유제늘 쿠마린 리모년\n",
            "================================================================================\n"
          ]
        },
        {
          "output_type": "stream",
          "name": "stderr",
          "text": [
            " 20%|██        | 20/100 [00:19<00:55,  1.43it/s]"
          ]
        },
        {
          "output_type": "stream",
          "name": "stdout",
          "text": [
            "📄 cosmetics_00100.png OCR 결과:\n",
            "[전성분 정제수 다이프로플라글리이블 글리세린 폐립레금라이블 12 핵산다이올 코카미도프로필하이드록시설데인 미리스되민옥사이드 카프 실립플라이볼 예텔레실금리세리 알로어배리임돌리사카라이드 바오: 나무씨오일 드럽스틱씨오일 알로에베라임주출물 카프길락카프럽글루 코사이드 데실글루코시이드 소문시트레이트 시트리애씨드 다이소튜이 디티에이 부딪렌글리이돌 말로렉스트린 토코메록\n",
            "================================================================================\n"
          ]
        },
        {
          "output_type": "stream",
          "name": "stderr",
          "text": [
            " 21%|██        | 21/100 [00:20<00:48,  1.63it/s]"
          ]
        },
        {
          "output_type": "stream",
          "name": "stdout",
          "text": [
            "📄 cosmetics_00109.png OCR 결과:\n",
            "전성분 코코엿야자오일 정제수 해바라기씨오일 포도씨오일 '스테아리해하드 라으리애씨드 노니주출물(3,000명양7) 알로에베라주출물_ 약모밀주출물 바질임가루: 검은깨가루 마르리카 리아오얼 제라니올 리날록 벤질번조에이트 시트로)올 핵실신남일\n",
            "================================================================================\n"
          ]
        },
        {
          "output_type": "stream",
          "name": "stderr",
          "text": [
            " 22%|██▏       | 22/100 [00:21<00:57,  1.35it/s]"
          ]
        },
        {
          "output_type": "stream",
          "name": "stdout",
          "text": [
            "📄 cosmetics_00112.png OCR 결과:\n",
            "성분명_ 정제수수 소`뚱라우레스설페이트 글리세린 아크립레이트고돌리머 향료 이트 피이지-45팔커널금리세라이즈 1 2-핵산다이올 다이소문라우레스설포석시네이트 피이지-6카프럽리카프리글리세라이즈 에란올 이름 포다숨하이드록사이드 흰실레글라이익 잇꽃끗수출물 텍스트린 카카두플렉추출물 골드꽃주출물 동내나무씨오일 하이드록라이주하이알루로늬애씨드 레온버베나꽃주출쌍12.5 다이소등고코사포다이아세테이트 카프질렉글라이을 소톱고세스설폐이트 테트라소둥이디티에이 레모버베나임주출멩12.5 [악옷) [오<) 마시델로뿌리주출물 호호바씨오일 스구알란 레이디스맨틀주출물 베질베조에이트 벤질알코올 리날록 시트로렉올 제라니올 핵실신남알 브오일불검화물 리모년 시트럭 피이지-40글리세킬코코어 부립관금라 삼씨오일 변성알코올 포드미리 하이드로제네이되드올리\n",
            "================================================================================\n"
          ]
        },
        {
          "output_type": "stream",
          "name": "stderr",
          "text": [
            " 23%|██▎       | 23/100 [00:22<01:00,  1.27it/s]"
          ]
        },
        {
          "output_type": "stream",
          "name": "stdout",
          "text": [
            "📄 cosmetics_00115.png OCR 결과:\n",
            "전정\" 올 향료 글리세린 정제수 메단 다이소둥이다티예이 피이지 4하이드로제네이터드키스터오일 폐뉴시에단올 소문시트레이트 에리스리돌 부리레특시디멘조일 시트럭애씨드 방하수 에린 부탤렌글라이흘 주출물 라이름 스패인갑조뿌리주출률 로춧마리엎주품물 병풀추출물 호장근뿌리주출물 가드리카리야꽃수출물 12-핵산다이올 횟금-출물 독차 필립렉글 카프럴킬글라이혹 번 핵실신니물 시트로백올 부`-일데팅프로피오날 질살리실레이트 리모년 리날록\n",
            "================================================================================\n"
          ]
        },
        {
          "output_type": "stream",
          "name": "stderr",
          "text": [
            " 24%|██▍       | 24/100 [00:22<00:55,  1.37it/s]"
          ]
        },
        {
          "output_type": "stream",
          "name": "stdout",
          "text": [
            "📄 cosmetics_00118.png OCR 결과:\n",
            "성분 글리세린 정제수 세테아길알코올 아이소세털알코올 다이메티롬 세털알코올 귀리커넷가루 벤질알코올 에)학실글리세린 소문세테아킬설페이트 다이소문포스페이트 소문포스페이트 팔미터애씨드 카프길픽/ 카프리트라이글리세라이 드 판계늘 [-아니식애씨드 벤조의애씨목 스테아리애씨드 알란토인 커리커빛오일 부딪렌달라이익 소돕하이무록사이유 세라미이쓰엔피 시트리애씨드 병풀추출물 귀리커빌추출물\n",
            "================================================================================\n"
          ]
        },
        {
          "output_type": "stream",
          "name": "stderr",
          "text": [
            " 25%|██▌       | 25/100 [00:23<00:48,  1.56it/s]"
          ]
        },
        {
          "output_type": "stream",
          "name": "stdout",
          "text": [
            "📄 cosmetics_00122.png OCR 결과:\n",
            "전상분 코코찰야자오일 라센더오일 상수수출물(1 정제수 키플라오일 80)마명가) 시금치가루 해바라기씨오일 올리보오일 라우리애씨드 클로렉라 불가리스 동백나무씨오일 가루 시트리어씨드 쫓리날률 (*예센설 오일에 포함된 표기성분)\n",
            "================================================================================\n"
          ]
        },
        {
          "output_type": "stream",
          "name": "stderr",
          "text": [
            " 26%|██▌       | 26/100 [00:23<00:41,  1.77it/s]"
          ]
        },
        {
          "output_type": "stream",
          "name": "stdout",
          "text": [
            "📄 cosmetics_00125.png OCR 결과:\n",
            "꺼생분_ 코코듯야자오일 정제수 키놀라오일 80-마마) 쌀겨오일; #리모년 해바라기씨오일 시트리애씨드 에센설_ 자동껍질오일 라우리애씨도 귀일가루(1 오일에 포함든 살구씨오일 표기성분)\n",
            "================================================================================\n"
          ]
        },
        {
          "output_type": "stream",
          "name": "stderr",
          "text": [
            " 27%|██▋       | 27/100 [00:23<00:34,  2.12it/s]"
          ]
        },
        {
          "output_type": "stream",
          "name": "stdout",
          "text": [
            "📄 cosmetics_00130.png OCR 결과:\n",
            "전성분 코코엇야자오일 콜라건(7,00어마명가) 울드라마린 정제수 라번더오일 해바라기씨오일 리날률 아보카도오일 살구씨오일 바다포도주출물\n",
            "================================================================================\n"
          ]
        },
        {
          "output_type": "stream",
          "name": "stderr",
          "text": [
            " 28%|██▊       | 28/100 [00:24<00:43,  1.64it/s]"
          ]
        },
        {
          "output_type": "stream",
          "name": "stdout",
          "text": [
            "📄 cosmetics_00134.png OCR 결과:\n",
            "[조상받틀 정제수 피의지-4하이드로제네이티드캐스터오일 탄 향료_ 조일대단; 글리세린; 돕이미티에이 패목시에단올 예리스리블 소톱시트레이트 부타메특시디번 시트리애세드 방 항금추출 마르리카리아꽃주출물 호장근뿌리주출물_ 풀주출물 스폐인감소뿌리주출물 부발런글라 물 녹차주출물 팬립린글라-이혹 리 벤질살리실레이트: 로즈마리엎주출물 부탤-날메표프로피오날 1.2-핵산다이올 카프질림글 시트로날올 리날 리모년 드록시시트로벌말 핵실신다올\n",
            "================================================================================\n"
          ]
        },
        {
          "output_type": "stream",
          "name": "stderr",
          "text": [
            " 29%|██▉       | 29/100 [00:25<00:44,  1.58it/s]"
          ]
        },
        {
          "output_type": "stream",
          "name": "stdout",
          "text": [
            "📄 cosmetics_00140.png OCR 결과:\n",
            "정제수 라우킬글루코사이드 다이소둡코코러포다이아세테이트 코 매실주출물 카프럽길글라이골 팔주출물 귀리커널오일 봉나무임주출물 코-베타인 포타숨코코일글루다메이트 혼버드나무껍질추출물 핵실렌글라이클 네이트 앞지년 (10-30알길아크런레이트크로스돌리머 1 2-핵산다이올 실금리세리 향료 다이소둥이디되에이 부딪렌글라이큼 시트리애씨드 메략프로관다이올 에텔레 글리세렉올리에이트 아크락레이트 소톱고코일이세티오 컬라자껍질주출물 소둡고코일글루다메이트 회화나무뿌리주출물 코코-글루코사이드 복사나무잎주출물 소둥클로라이드 전성분\n",
            "================================================================================\n"
          ]
        },
        {
          "output_type": "stream",
          "name": "stderr",
          "text": [
            " 30%|███       | 30/100 [00:25<00:40,  1.74it/s]"
          ]
        },
        {
          "output_type": "stream",
          "name": "stdout",
          "text": [
            "📄 cosmetics_00147.png OCR 결과:\n",
            "[전성분] 정제수 소염리데이트 알코올 향료 미네칼오일 소돼조에이트 카프증리카프리트리극리세라이드 세테이락알코올 데실올레이트 소득세테)리설떼이트 글리세리 벤집알코올 소르비틀 캐모미일주출물 폐몹시에란올 알라토인 아스코빌팔미테이트 디메치코 레시치 소문시트레이트\n",
            "================================================================================\n"
          ]
        },
        {
          "output_type": "stream",
          "name": "stderr",
          "text": [
            " 31%|███       | 31/100 [00:27<00:58,  1.18it/s]"
          ]
        },
        {
          "output_type": "stream",
          "name": "stdout",
          "text": [
            "📄 cosmetics_00150.png OCR 결과:\n",
            "최성품  붐훨레이박 (무보_ 창비향 '8예) 체립트 올리]요일 벤절실리실레이트 11-) 타이초트표보임표되에이세테이로 손톱-렉텔웨이다 손톱등로리이면 깜러월에지노 헌료 회비움(/서이표 올리워터늄 6 탤립페말에야로로임요옥죽 테독리 소붐 예비다 일핏-아의소해 요다 제사 너올 예티무퇴픽애씨 테트회소움이터티에이 웬설 센늙알 부립레 끌리이활 리닐록 벤집벤초에이트 체트로델올 보데이트 털아 이오몸 방스장미꽃주출물다3하히 전성검 '품메이트 789)= 제권튼 올리베오일 벤질살리실레이트 로테이트 털이 이오다 방소장미꽃주출물(전-의의7 제트로델올 리닐률 벤질멘조에이트 장피향 전릿 소문컴국텔리이뜨 꼼숙훨애쨌품 터티늄다@사어지 올려출터워36 소물록로리이뜨 타이소문코로라포다이이세테이트 에티드로-애씨드 부립페월머탤로로지요복 제리이올 센판일 부딪레 올안라이 지\n",
            "================================================================================\n"
          ]
        },
        {
          "output_type": "stream",
          "name": "stderr",
          "text": [
            " 32%|███▏      | 32/100 [00:28<01:02,  1.09it/s]"
          ]
        },
        {
          "output_type": "stream",
          "name": "stdout",
          "text": [
            "📄 cosmetics_00153.png OCR 결과:\n",
            "정제수 프로파다이올 메릭트라이데티솔 뿌리주출물 쌀겨오일* 올리베이트 잔단검; 세라마이도 성분) 팔미릭애씨드 부립레글라이클 암모눕아크킬로일다이메렬타우라이트/브이피코플리머 세라마이드엔피*; 흰버드나무껍질주출물 판데늘 메탤프로관다이올 매실나무,추출물 피로스핑고신* 다이소둥이디티에이 다이카프길길카보네이트 매실주출물 하이드로제네이티드레시린* 토코페록 복사나무.추출물 복사나무잎주출등 세테야랗알코올 (72-76알코올 에립렉실글리세린 글리세린* 1 2-핵산다이올 욕킬도데칸올 병나무위주출물 시어버터 풀 회화나무 회화나무싹추출물 베타-글루칸 연꼴꼴수 세테아럽 슬비단올리베이트 향로 (*표시 쌀격 [전성분 리글리세질-3메들골루코오스다이스테아레이트 하이드로제네이터드돌리((6-74올레편)\n",
            "================================================================================\n"
          ]
        },
        {
          "output_type": "stream",
          "name": "stderr",
          "text": [
            " 33%|███▎      | 33/100 [00:29<00:57,  1.17it/s]"
          ]
        },
        {
          "output_type": "stream",
          "name": "stdout",
          "text": [
            "📄 cosmetics_00157.png OCR 결과:\n",
            "'전생문 쇼 정제 단올 향료 글리세린 피이지-40하이드로제네이터드키스터오일 1.2-핵산다이올 부발렌글라이올 스타아 나스주출물 리세관 왕금주출물 에리스리블 다이소둥이다터에이 부딪메특시다멘조일메란 소문시트레이트 에팅하실글 트럭애씨도 날 시트로벌올 리모년 제라니올 벤질살리실레이트 하이드록시시트로빛일 부딪-닐데털프로피오\n",
            "================================================================================\n"
          ]
        },
        {
          "output_type": "stream",
          "name": "stderr",
          "text": [
            " 34%|███▍      | 34/100 [00:30<00:59,  1.10it/s]"
          ]
        },
        {
          "output_type": "stream",
          "name": "stdout",
          "text": [
            "📄 cosmetics_00160.png OCR 결과:\n",
            "[전성분] 정제수 에단올 향료 피이지 40 하이드로제네이티드 캐스터오일 다이프로필렌글라이블 감나무잎주출물 녹차주출물 시트리애씨드 소문바이카보네이트 에팅학실금리세린: 프리지어 수출물; 참나리주출물; 오레가노꽃수출물 자일리물 멘틀; 레스비 라트록: 베타인 카프렉질글라이클: 부딪렌글라이클: 하이드록시에블 실물로오스 피피지 26 부_스 26 메`파라벤; 에텔파라번; 소톱벤조에이트 폐녹시에단올 소문시트레이트 1 핵산다이올; 포도주출물 밤껍질주출물: 커피콩추출물: 호장근뿌리주출물: 잇꽃꽃추출물: 하이드록시시트로렉알 메탤 욕티노에이트 제라 니올 부발레닐데륙프로피오날 리날률: 시트로닐올 리모년\n",
            "================================================================================\n"
          ]
        },
        {
          "output_type": "stream",
          "name": "stderr",
          "text": [
            " 35%|███▌      | 35/100 [00:31<00:55,  1.17it/s]"
          ]
        },
        {
          "output_type": "stream",
          "name": "stdout",
          "text": [
            "📄 cosmetics_00164.png OCR 결과:\n",
            "전성분 정제수 시어버터 (1096) 글리세린 카프렉리 세테이률 세테이렉올리 (26) 올리브오일 판계놀 카프렉트라이글리세라이드 알코올 베이트 이올 팬텔런글라이클 쓸비단올리베이트 소득하이알루로네이트 시어버터주출물 프로관다 코코딪야지열매주출물 구주소 카 카프질럴글라이익 필리프오렌 센티드제라늄꽃오일 토코퍼지 나무잎주출물 '보머- 지겹질오일 알지난 1,2 핵산다이올 부립렌글라이클 '로즈미리엎오일:\n",
            "================================================================================\n"
          ]
        },
        {
          "output_type": "stream",
          "name": "stderr",
          "text": [
            " 36%|███▌      | 36/100 [00:31<00:53,  1.19it/s]"
          ]
        },
        {
          "output_type": "stream",
          "name": "stdout",
          "text": [
            "📄 cosmetics_00168.png OCR 결과:\n",
            "정제수 글리세리* 에텔학실스테아래이트 1 ,2-핵산다이올 세 테아깥알코올 폐닐트라이메터코 플리글리세질 3다이스테아리이트 머 털드라이메티코 프로관다이올 매실추출물 복사나무잎추출물 병나무잎 주출물: 회화나무뿌리추줄물 흰버드나무껍질추출물 매실나무.주물물 복사나무삭추록물 회화나무싹추출물 연결필수 살겨오일* 세라마이드 엔피* 판계돌 피토스핑고신* 하이드로제네이티드레시린* 베타-글루칸 알라토인 글리세질스테아레이트 소돕스테아로일글루다메이트 카보머 알지다 '글리세질스테아테이트시트레이트 부발렌글라이클 다이소퉁이다 티에이= '토고페로: 에텔렉실금리세리 향료 *표시 살거 세라마이드 성분) 전성부\n",
            "================================================================================\n"
          ]
        },
        {
          "output_type": "stream",
          "name": "stderr",
          "text": [
            " 37%|███▋      | 37/100 [00:32<00:52,  1.21it/s]"
          ]
        },
        {
          "output_type": "stream",
          "name": "stdout",
          "text": [
            "📄 cosmetics_00175.png OCR 결과:\n",
            "전성분 소발팔메이트 소문팔커널레이트 '오렌지주출물: 정제수 리날률 레온주출들 '울무씨가루 '글리세린 비에이치터 판씨드 '사고주출물 부립페엘메킬프로피오날 포도주출물 리모넷: 시트로델올_ 향료 메탤글루세스;20 녹두가루1752 [ 늑)= 에티드로님애씨드 데실금루코사이드 팔가루1752'   ) 실리카 태트라소둥이디티에이 부딪렌글라이올 소문홀로라이드 판커널애씨드 티타늄디옥사이드 라임추출물 (584 마 굽) 적색5이호 흉색호 알루미늄하이드록사이드 태드라소득에티로로네이트 녹색3호 '쌀가루1163 [ 값) '콩가루584 [김)\n",
            "================================================================================\n"
          ]
        },
        {
          "output_type": "stream",
          "name": "stderr",
          "text": [
            " 38%|███▊      | 38/100 [00:35<01:27,  1.41s/it]"
          ]
        },
        {
          "output_type": "stream",
          "name": "stdout",
          "text": [
            "📄 cosmetics_00179.png OCR 결과:\n",
            "전성분 소문팔메이트 소문드커엘레이트 정제수 판커 날애씨드 향료 닦이소문라우킬설포석지데이트 소둥글로라이모 부발페널레텔프로피오날 글리세린 리날물드 시트로빛올 하이드록시치트 '로빛일 테트라소둥이디티에이 테트라소문어 티드로네이트 에티드로넉애씨드 적색산화철 벤질번조에이트 부근렌글라이 라번더로 주출닭다 )가) 코카미도프로필베타인: 아르건 커널오일; 코코듯야자오-일: 해바라기씨오일; 올리브오일 호호바씨오일 폐뜩시에란올 에팅 핵실금리제린트 소톱벤조에이트 중량 90 -주분포함) 76 9(건조시) 전성뷰 '소문팔베이트 '소%커엘레이트 정제수 깜커 농애씨드 향로 되이소문라우킬설포석지네이트 소톱글로라이드- 부딪페벌레텔프로피오날 글리세린 리날물드 시트로닐올- 하이드록시시트 모델일 테트라소둥이디티에이 테트라소문어 티드로네이트로 에티드로나애씨드 적색산회철 벤질번조에이트 부친렌글라이볼 라벤터꽃 추출닭다7397) 코카미토프로필베타인: 아르간 커널오일 '코코봇야자오일트 해바라-씨오일 올리브오일 '호호바씨오일 폐요시에단올 에틀 핵실금리세린트 소문벤조에이트 '중량 90  주분포함)= 76 폐건조시)   전성분 소톱메이트 소움컴커엘레이트; 정제수_ 판커 벌애씨드 향료- 다이소원라으킬설포석시네이트 소톱홀로라이드: 부딪페벌메 털프로피오날 글리세린 리날률 시트로닐올' '하이드록시시트 로빛일 테트라소둥이디티에이 테트라소둥에 티드로네이트 에티드로늬애씨드 점색산회철 벤질번조에이트 부리렌글라이볼 라번터꽃 추출건다7 - ) 코카미도프로질베타인 아르간 커널오일- '코코엇야자오일 '해바라기씨오일; 올리브오일 호호바씨오일트 패요시에단올 에쓰 핵실금리세린; 소동벤조에이트 중량 90 '수분포함) 76:3(건초시) 전성분 소흉팔메이트 소문와커엘레이트 정제수수 판기 텔애씨드 향료 다이소둡라우킬설포석지네이트 소둥글로라이드 부딪페닐메털프로피오날 글리세린 리날물 시트로날올 하이드록시시트 로빛일 테트라소팎이디티에이 테트라소둥어 티드로네이트: 에티드로니늬애씨드 적색산화철 벤질멘조에이트 부리렌글라이큼 라센더국 주출건다7 -) 코카미도프로필베타인 아르간 커널오일 '코코엇야자오일 해바라기씨오일 올리브오일 호호바씨오일 폐독시에린올 에털 회실금리세리 소득예조애이트 중량 90 @(수분포함); 769(건조시)\n",
            "================================================================================\n"
          ]
        },
        {
          "output_type": "stream",
          "name": "stderr",
          "text": [
            " 39%|███▉      | 39/100 [00:38<01:49,  1.79s/it]"
          ]
        },
        {
          "output_type": "stream",
          "name": "stdout",
          "text": [
            "📄 cosmetics_00180.png OCR 결과:\n",
            "[전성분] 정제수 글리세린 글라이클 트 부석 살구씨가루 소둥글로라이드 코카미도프로필베타인 아크락레이트코플리머 향료 우리아 소둡라우레스설폐이 소득하이드록사이드 다이프로필렌 베타인 하이드올라이즈드글라이코사 소문하이알루로네이트 하이드록라이즈드하이알루로늬애싸 하이드록시프로필트라이모눕하이알루로네이트 소득하이알루로네 하 부딪렌글라이클 1,2 에텔핵 벤질글라이볼 소문아세텔레이터드하이알루로네이 벤질살리실레 프로관다이올 파파야열매추출물 카프질질글라이올 라즈베리카톤 리모년 제라니올; 미노글리칸 이트크로스플리머 드 이알루로늬애씨드 트 당근추출물 ~핵산다이올 실글리세린 이트 [흡:.지--동-]  리+~, 찌:덧~.,교물 _#~엘물전어명욕아명거 팎7: 4규~,운~? -형어; 서훨런아*파빚 3@+]. :(거라+~째 (명아:.,; -어어; [라창.교 -여.어 슬아담어~대; (장명욕;]아+ -명규아명거.탁. 찌어(아디 - `고-~ 야-~ :라의라탁-북 [서3 되싹쏘아2._ -형팀;검 되]사 3~+흔물목 :~어 붉다')' -어핸 :응 ((고검아+) 모어아{ 5뒤덧.. 찌(미 파`깥)거} -멋-+흔; 3~,장싹] /이(아지 -어교디 0오아,응리 -형촬; 읽훨튜아-2괴날 활훨하할아7고북 1덧고-7후 읽덧리할미] (고검아교고 -하+근목 악하비_나! 되교그 굵*리. 3~ -거 2아명고미.뭐아] [~+아탁~  임훨(아내 (하명코허라) 활리욕기미+~ (검~3 _요명고깥교 _고명 거나내 닷고-명-서생) 지-탁갚탁. (~,리마아내 8-덧(~,7 12제~*미탁.응;아] 콤제] :~~-싹~전 활덧히할아탁고+빚 (덧()줄3적교교|양훨(교7! 1점_라처 (현`오기-없.대; 명욕긁명젊히물아, \n",
            "================================================================================\n"
          ]
        },
        {
          "output_type": "stream",
          "name": "stderr",
          "text": [
            " 40%|████      | 40/100 [00:38<01:28,  1.48s/it]"
          ]
        },
        {
          "output_type": "stream",
          "name": "stdout",
          "text": [
            "📄 cosmetics_00193.png OCR 결과:\n",
            "전성분 정제수 2-핵산다이올 슬비타올리베이트 글리세린 사이클로메티서 카프럽리 /카프리트라이글리세라이드 세테아림올리베이트 베해닐일코올 시어버 추출물 복사나무잎주출물 출물 세라마이드에피 알코올 글리세렉스테아래이트 별나무임주출물 매실추출물 하이드로제네이티드레시린 힘버드나무껍질추줄물 쌀추출물 병물추출물 베타-글루칸 회화나무뿌리 무화과주 세테아락 스템아로일굴루다메이트 테아래이트 카보머 판태돌 하이드로제네이티드깜글리세라이 메팅프로판다이올 에달렉실금리세리 향료 스크로오스스테아레이트 세립악코올 포타숨세탤포스페이트 소득 수크로오스트라이스 부립레플라이 알지난\n",
            "================================================================================\n"
          ]
        },
        {
          "output_type": "stream",
          "name": "stderr",
          "text": [
            " 41%|████      | 41/100 [00:40<01:23,  1.41s/it]"
          ]
        },
        {
          "output_type": "stream",
          "name": "stdout",
          "text": [
            "📄 cosmetics_00199.png OCR 결과:\n",
            "방하수 글리세질 리돌레의애 팔미터애씨드 소문하 판계국 포도씨오일 1,2-핵산다이올 올레의애씨드 시어버터 토코페돌 쓸비단스테아레이트 스테아리애씨드 다이메티곤 세테아필알코올 부딪렌글라이골 글리세린 카프렉리카프리트라이금리세라이드 세달에블렉사노에이트 사이클로편다실록세인 프로관다이올 정제수 스테아레이트 리돌레넉애씨드 씨드_ {성분 돕벤조에이트 향료 이알루로데이트 로홀리추출물: 귀나무싹추출물: 카보머 피로스템틀 잔단검 알지난 사우수레야인블루크라다주출물 땅콩씨껍질주출물 다이소문이디티에이 감나무잎주출물 트리리프습베리열매주출물 밤부사 카프럴질금라이올 불가리스주출물; 스피풀리나 에)렉실금리세린 귀노아씨주출물 플라렌시스추출물 밀써주출물 녹차주출물 프로필렌글라이꼴 생열 너\n",
            "================================================================================\n"
          ]
        },
        {
          "output_type": "stream",
          "name": "stderr",
          "text": [
            " 42%|████▏     | 42/100 [00:40<01:09,  1.21s/it]"
          ]
        },
        {
          "output_type": "stream",
          "name": "stdout",
          "text": [
            "📄 cosmetics_00200.png OCR 결과:\n",
            "팬씨드 데실금루과이드 글리세린 정제수 유차나무쎄오일 솟가루9 [ ) 태트라소흉에티드로-이트 비에이치터 소듭깜커엘레이트 소%팔메이트 전성분: 리모넷 부딪렌글라이올 벤질벤조에이트 라임추출물 향료 예티드로니애씨드 레온추출물 사과주출물 테트라소둥이디티에이 오렌지주출물_ 소문글로라이드 포도주출물 메탤글루세스-20 팔커씩애씨드\n",
            "================================================================================\n"
          ]
        },
        {
          "output_type": "stream",
          "name": "stderr",
          "text": [
            " 43%|████▎     | 43/100 [00:43<01:34,  1.65s/it]"
          ]
        },
        {
          "output_type": "stream",
          "name": "stdout",
          "text": [
            "📄 cosmetics_00205.png OCR 결과:\n",
            "전성분 소근팔메이트 벌애씨드 향료 소톱홀로라이드: 소%관커엘레이트: 정제수_ 판커 다이소원라으컵설포석시네이트 부딪페벌메 티프로피오날 시트로닐올' '하이드록시시트 태드라소눈어 적색산회철 글리세린 리날록- 로빛일 티드로네이트 테트라소둥이디티에이 에티드로늬애씨드 벤질벤조에이트: 주출건;7 ) ) 커널오일: '코코엇야자오일 올리브오일 호호바씨오일 핵실금리세린 소톱벤조에이트 부리런글라이볼 코카미도프로핑베타인 라베더꽃 아르간 '해바라기씨오일; 폐요시에단올 에텔 전성분 소톱팔메이트 텔애씨드 향료_ 소둥글로라이드= 글리세린 리날물 로델일 티드로네이트: 벤질벤조에이트 주출건다7 -) 커널오일느 올리브오일 해실글리세린 '코코엇야자오-일 '호호바씨오일 소득벤조에이트 해바라기씨오일 폐요시에린올 에털 소문부커엘레이트 정제수 판구 다이소둘라우킬설포석시네이트 부딪페닐메블프로피오날 시토로닐올 하이드록시시트 테트라소둥어 적색산화철 에티드로니애씨드= 부딪렌글라이볼 라볍더국 아르간 코카미도프로필베타인 테트라소둥이디티에이 전성문 소문잠커엘레이트 정제수 향표로 닦이소문라우킬설편석지네이트 깜커 '소문팔베이트 넷애씨드 소톱글로라이드 부딪페벌레`프로피오날 시트로닐올 하이드록시시트 글리세린 리날록등 모델일 테트라소둥이디티에이 에티드로님애씨드 티드로네이트 벤질벤조에이트 물이양7) 커널오일; 올리브오일 핵실금리세런트 코코덧야자오일- '호호바씨오일 '소문에조에이트 해바라-씨오일 폐전시에단올 에틀 부친렌글라이볼 코카미로프로필베타인 아르간 라벤터꽃 적색산회철 테트라소문어 전성분 소문낌커엘레이트: 소흉팔메이트 날애씨드 향료 소둥글로라이므 닦이소문라우킬설포석지네이트 부발페일메탤프로피오날 정저수 판커 시트로날올 하이드록시치트 테트라소문에 적색산화철 라번더국 아르건 해바라기씨오일; 폐뜩시에란올 에팅 로코듯야자오일 호호바씨오일 소듭벤조에이트 커널오일 올리브오일 핵실금리체린 티드로네이트 벤질번조에이트; 주출닭다 ) ) 부딪렌글라이블 코카미도프로필베타인 테트라소둥이디티에이 에티드로늬애씨드 글리세린 리날물드 '로빛일\n",
            "================================================================================\n"
          ]
        },
        {
          "output_type": "stream",
          "name": "stderr",
          "text": [
            " 44%|████▍     | 44/100 [00:44<01:13,  1.31s/it]"
          ]
        },
        {
          "output_type": "stream",
          "name": "stdout",
          "text": [
            "📄 cosmetics_00208.png OCR 결과:\n",
            "전성분 정제수_ 록사이드 호호바씨오일 미네람오일 카카오씨드버터 아밀신남그 세테아렉알코올 칼습하이드 향료 실리카 아르간트리커널오일 알파이소메 부딪페닐메칠프로피오날 소문하이드록사이드 칼숨치오글리몰레이트 칠이오논 제라리올\n",
            "================================================================================\n"
          ]
        },
        {
          "output_type": "stream",
          "name": "stderr",
          "text": [
            " 45%|████▌     | 45/100 [00:44<01:04,  1.16s/it]"
          ]
        },
        {
          "output_type": "stream",
          "name": "stdout",
          "text": [
            "📄 cosmetics_00212.png OCR 결과:\n",
            "전성정뿐 정제수 다이소둡코코임되다이아세테이트 다이소문라우렇설포 석시네이트 펼라이트 소톱글로라이드 소문라우킬금루코오스카복실레이 트 라우빗글루코사이드 글리세린 부근렌글라이올 사우수레야인블루크 소둡하이 밀써주출물 플라렌시스추출물 스피풀리나 판계뜰 라타주출물 알루로네이트 포도오일 시어버터 알지난 플리릭터늄-7 아크립레이트/ 어0 30알길아크렇레이트크로스돌리머 핵실렌글라이볼 시트리어씨드 카프럽 1,2-핵산다이올 소돕아니세이트 폐네털알코올 이소문이디티에이 실플라이블 소톱벤조에이트 향료\n",
            "================================================================================\n"
          ]
        },
        {
          "output_type": "stream",
          "name": "stderr",
          "text": [
            " 46%|████▌     | 46/100 [00:45<00:59,  1.11s/it]"
          ]
        },
        {
          "output_type": "stream",
          "name": "stdout",
          "text": [
            "📄 cosmetics_00222.png OCR 결과:\n",
            "'천다집분 정체 폐월교물쪽요트입 녀운소못 :균#렉  전기피하예움 { @;어손름-터로의접 -돌 올렉올 최근름록훌닭 형퓨뭄출안 탤#회픽들 교*지하다어든 부걷 소순화 껴스량되뜻없품소물; _?물탕 곁- 훌출국 짓목다 허집화물-계어되플렉{: (국빚-_퍼넷 :-국 콤탤플레예 주) 6_ 똑 레스 처자노해뻐품 [플예소들이 내리스예 때릇 발기어회 @_뵙국필픽증패앞매) 어뜰 질은 썰록] _기 확증스이 제사 @|숨어롭예-력국 월렉콤품이돌 형료- 형어로롭세@제 플주-운 예릭렉 활콤수-저편\n",
            "================================================================================\n"
          ]
        },
        {
          "output_type": "stream",
          "name": "stderr",
          "text": [
            " 47%|████▋     | 47/100 [00:46<00:57,  1.09s/it]"
          ]
        },
        {
          "output_type": "stream",
          "name": "stdout",
          "text": [
            "📄 cosmetics_00226.png OCR 결과:\n",
            "제성튿 침체속_ 예란올 부립런플렉이활 해; '끝 텔리해씨로 소소동제로-예로 커영매부출 베 @회실레실레이트 탁로비-이오덕해째트_ '신명회는 뛰리주출물 복숨이싸 출물 예흑엔 떼이 스4' 터%3리제리제이트 후페올 {끝핵대이올 벤 틀 6끼공13피렉속9 예플렉실긁렉체린 제트리스 이트- 준이소튜이)테예 [3예등 유해 성분 무_화 웬질알코옥 엔조-폐 입4 메)파라웬 예집페 라꽤 이소프로필교번렉 꽂국-페리웬_ 에소탤 `화회 불리따픽수 [@'이 동록_렉초의해째품\n",
            "================================================================================\n"
          ]
        },
        {
          "output_type": "stream",
          "name": "stderr",
          "text": [
            " 48%|████▊     | 48/100 [00:47<00:50,  1.04it/s]"
          ]
        },
        {
          "output_type": "stream",
          "name": "stdout",
          "text": [
            "📄 cosmetics_00229.png OCR 결과:\n",
            "[전성분] 정제수 이마이드 트로메타민 에단올 만델리애씨드 메륙프로관다이올 나이이신 1 2 핵산다이올 메륙다이어이소프 폐립레플라이큼 살리실리애씨드 로필프로피오이마이드 글루코노락톤 부딪렌금라이블 구주호랑가시나무 약모델주출물 다이소둥이디티에이 임주출물 판계늘 씨홀리주출물 글리세린 스피어민트주출물 에달렉실금리세린 병물주출물 서양톤물꽃 마데카식 아시야리코사이드 미데카소사이드 아시이락애씨드 추출물 애씨드\n",
            "================================================================================\n"
          ]
        },
        {
          "output_type": "stream",
          "name": "stderr",
          "text": [
            " 49%|████▉     | 49/100 [00:48<00:43,  1.16it/s]"
          ]
        },
        {
          "output_type": "stream",
          "name": "stdout",
          "text": [
            "📄 cosmetics_00231.png OCR 결과:\n",
            "전성분 정제수 미네활오일 디177491 (1 77492 알파이소메칠이오든 소득하이드록사이드; 리모넷 벤질벤조에이트 일랑일랑끌추출물 메팅파라번 사이드 세테아레스-20 프로필렌글라이볼 칼숨치오글리몰레이트 세테아락알코올 실리카 부럽데표프로피오날 이소프로필파라벤 : 토코페물 한성비즈악스 리날률 시트로렉올 동백오일 향료 칼숙하이드록\n",
            "================================================================================\n"
          ]
        },
        {
          "output_type": "stream",
          "name": "stderr",
          "text": [
            " 50%|█████     | 50/100 [00:48<00:41,  1.21it/s]"
          ]
        },
        {
          "output_type": "stream",
          "name": "stdout",
          "text": [
            "📄 cosmetics_00235.png OCR 결과:\n",
            "전성분 정제수 글리세린 카프럽렉카프리트라이글리세라이드 다이메티곤 세달알코올 아이소프로필팔미테이트 폐트몰라툼 글리세길라우레이트 스테아필알코올 라늘린 팔미릭애씨드 트라이에단올아민 판계국 스테아리애씨드 데팅파라벤 향료 아크립레이트(10-30 알길아크런레이트크로스플리머 다이스테아락다이모\"글로라이드 프로필파라번 부근렌글라이굴 알란토인 세테야필알코올 피이지|피피지-2이6다이메티롬 벤작코늄글로라이드 병풀추출물 소문설페이트 비에이치터 소둘세테야)설페이트,\n",
            "================================================================================\n"
          ]
        },
        {
          "output_type": "stream",
          "name": "stderr",
          "text": [
            " 51%|█████     | 51/100 [00:51<01:08,  1.41s/it]"
          ]
        },
        {
          "output_type": "stream",
          "name": "stdout",
          "text": [
            "📄 cosmetics_00248.png OCR 결과:\n",
            "[전성분] 정제수 글리세린 글라이블 트 부석 코카미도프로필베타인 살구씨가루 향료 우레아 베타인 소문라우레스설폐이 소득하이드록사이드 하이드홀라이즈드글라이코사 다이프로필렌 아크락레이트코플리머 소둥글로라이드 미노글리칸 이트크로스홀리머 소득하이알루로네이트 소문하이알루로네 하이드록라이즈드하이알루로늬애씨 하이드록시프로필트라이모충하이알루로네이트 하 1,2 에텔학 벤질벤조에이 리날률 제라니올 라즈베리켜톤 프로관다이올 소문아세텔레이터드하이알루로네0 부딪렌글라이클 벤질글라이클 파파야열매추출물 카프질질글라이클 드 이알루로늬애씨드 트 당근추출물 ~핵산다이올 실글리세린 트 벤질살리실레이트 시트로닐올 [[흡:.지창동)  리~, 찌초덧~~,;7 :~할리서! _아~엘적핸아명 어명거 3~+라목 (아명아-훨차  [명 긁명거.탁. -어핸교< 1?끄*~+} -나{하-. -~.어 목아담어~, :하응여리탁. 철~리 []3 (+(아] 그7: :.~7미-? (스명 ~아원 -어치;7 찌이덧()히적7어8금(교7째 악0미라잊 (껴컨안오아-없. 되훨기*대. -어어; 0마어검핸. -어팀;옷 장덧라>할아탁+. 읽어아-훨2]핸 3~+고. -어팀;체 :~어 되덧싱>-탁( 읽덧튜-덧.~ :덧라 활덧선*싹 -어핸교우 ?아형[ ((검권4} 1 활덧라아탁( (<교 -리볕+고 묘서리~( 소 _라뒤*아 고+. 지라항_ ! (요명라런 _하명라영타 읽커>*기,3+빚 (검~? 오불아명%규욕아,>적 :~.[싹리+~위 뒤할라천 12,~*리탁.뭐;아내 임덧밥.탁 볕고-~`. ) -라맨~없들-~ (규아탁리지아] (고명모싹거] 엉춘빌아 파_-탁@= 능쿠명 .디미 /.생고,아] [,라-아홍] 3~,-거] (덧(기 3서,싹 3연욕아빚 3리향덧] 5 +싹]서. (나(미 .교릇`서,)]\n",
            "================================================================================\n"
          ]
        },
        {
          "output_type": "stream",
          "name": "stderr",
          "text": [
            " 52%|█████▏    | 52/100 [00:52<01:01,  1.29s/it]"
          ]
        },
        {
          "output_type": "stream",
          "name": "stdout",
          "text": [
            "📄 cosmetics_00251.png OCR 결과:\n",
            "[전성분] 청제수 글라이블; 트 부석 소문홀로라이드 미노글리칸 이트크로스플리머 드 글리세린 코카미도프로필베타인 살구씨가루 향료 우레아 베타인 하이드록라이즈드글라이코사 아크락레이트코플리머 소문라우레스설페이 다이프로필렌 소득하이드록사이드 소득하이알루로네이트 하이드록라이즈드하이알루로늬애씨 소득하이알루로네 하이드록시프로필트라이모눈하이알루로네이트 이알루로]애씨드 소둡아세텔레이터드하이알루로 트 당근추출물 하 핵산다이올 실글리세린; 라즈베리켜톤 카프질질글라이클 파파야열매추출물 프로판다이 벤질글라이클 부딪렌골라이클 1,2 에텔렉\n",
            "================================================================================\n"
          ]
        },
        {
          "output_type": "stream",
          "name": "stderr",
          "text": [
            " 53%|█████▎    | 53/100 [00:53<00:52,  1.11s/it]"
          ]
        },
        {
          "output_type": "stream",
          "name": "stdout",
          "text": [
            "📄 cosmetics_00253.png OCR 결과:\n",
            "전성분 정제수 글리세린 카프렉렉 카프리트라이글리세라이드 다이메티롬; 세달알코올 아이소프로필팔미테이트 폐트록라툼 글리세질라우레이트 스테아람알코올 라놀린 팔미릭애씨드 스테아리애씨드 트라이에란올아민 메팅파라벤 향료, 판계늄 아크증레이트010-30 알길아그럴레이트크로스플리어, 다이스테아랗다이모눕글로라이드 프로필파라벤 알란토인 부딪렌글라이큼 세테야깥알코올 피이지)피피지-2이6다이메티곤 벤작코늄글로라이드 비에이치터: 병풀추출물 소문세테아깥설-이트 소문설폐이트\n",
            "================================================================================\n"
          ]
        },
        {
          "output_type": "stream",
          "name": "stderr",
          "text": [
            " 54%|█████▍    | 54/100 [00:54<00:57,  1.25s/it]"
          ]
        },
        {
          "output_type": "stream",
          "name": "stdout",
          "text": [
            "📄 cosmetics_00258.png OCR 결과:\n",
            "전성분 정제수= 글리세린트 라이드트 다이소둡라우레스설포석시네이트 코코-글루코사이드트 트 소둥메팅올레오일다우레이트 호용해물출 쇠비름주출물: 리돌- 자일리돌 수도일레로모나스발호주출물_ 리애씨드: 소둡파이테이트 향라무목부주출물 베타인; 판계돌 핵실렌글라이클: 소톱시트레이트 다이소문고코밤프다이아세테이트= 1:2-핵산다이올 등소화퍼추출물 자일리)글루코사이드 제주조릿대주출물 단향오일= 소문고코일알라니데이 소둥클로 락토바실러스발 안하이드로자일 글루코오스 시트 불가리스 속오일 전성분 정제주' 알코올 온드오일: 북차수 알지런: 엉카피터씨오일른 '세발에블렉사로에이트 카프렉렉카프리트라이글리세라이뜨 테목- 자일리럴골루코사이트 카라이드컵-4 아제)렉사젠타이드:8: '올리베이트 암모늄아크킬로일다이메달타우레이트브이피코돌리다? 이꼴 카보머 에텔렉실금리세린- 쓸비란스테아리이트 베타인= 부립렌글라이굴- 락토바실러스발요용해물 안하이드로자일리돌 자일리물= 프로로관다이올 소돕파이테이트; 1;2'핵산다이올; 글리세련= '세테아길 취어버터 '스위트아 알란토인- 판 글루코오스 바이오사 '세테아락올리베이트- \"쓸비탕 카프럽렉글리 '토코페물; 서양 서양소악임 줄기주출 밀론주출물 크 배추출물: 다마스크장미꽃수_ 물 세테이트 메륙다이하이드로자스모네이트:_ 오리스뿌리주출물 감마 운데카락톤 맥시카주니퍼오일 제라날이\n",
            "================================================================================\n"
          ]
        },
        {
          "output_type": "stream",
          "name": "stderr",
          "text": [
            " 55%|█████▌    | 55/100 [00:56<00:55,  1.23s/it]"
          ]
        },
        {
          "output_type": "stream",
          "name": "stdout",
          "text": [
            "📄 cosmetics_00270.png OCR 결과:\n",
            "[정원 청제습 면성일되올 @립레플라이활- 병운출렉-8이의질제} 올킬료`락롬 @쿠이텔코_이트5이의의해 병퓨있수출움_ 똑증;출물 홍사볶출물_ 보어치속출물; 충출물_ 매계엎출출물 우롭씨출출물 올라빛오일 #토@)로훨나스발표홀출물_ 고모두신다예움 [데화소-이트의의의교미 무이보스로출물 육화출출물 움무째 세택미이트엔페 음리세람: 눈어물무제육계 터트 레사린- 쓰실문일람 콤레스_물; 폐물-평고산; 물로제계이터물렉실템요일드 예텔회실물리세람 멘롯 레이블_ 제트렉어째물 2에-터 제계에블_ [이소퓨예레퇴어애 펴의지@회여 소물시트 태섬렉렉쾌프렉트리이달랜\n",
            "================================================================================\n"
          ]
        },
        {
          "output_type": "stream",
          "name": "stderr",
          "text": [
            " 56%|█████▌    | 56/100 [00:56<00:41,  1.05it/s]"
          ]
        },
        {
          "output_type": "stream",
          "name": "stdout",
          "text": [
            "📄 cosmetics_00282.png OCR 결과:\n",
            "[전성분 오일 예달화실팔미데이트 스위트이무드오일 올리보오일 토코페랗아세테이트 미키다미아씨오일 호호바오일 에텔하실금리세린 향료 코코넷야자\n",
            "================================================================================\n"
          ]
        },
        {
          "output_type": "stream",
          "name": "stderr",
          "text": [
            " 57%|█████▋    | 57/100 [00:56<00:34,  1.26it/s]"
          ]
        },
        {
          "output_type": "stream",
          "name": "stdout",
          "text": [
            "📄 cosmetics_00283.png OCR 결과:\n",
            "[주요성분) 치오글리골산 전성문 정제수세테야되알코올미데칼오일우레아갈숨하이드록사이드 세야발코올치오권라이몰렉애씨드프로필렌긁라이골포되숨하이 드록사이드리틈하이드록사이드세테야레스--시어버터향료소 둥세테야실설폐이트스아람말코올미리스틱알코올다이소둥이 디티에이해바라기씨오일녹차주출물로즈마리앞추출물비사보록_ 레시린 토코페록글리세렉스데이레이트아스코발팔미테이트글리 세립올리에이트시트리애드\n",
            "================================================================================\n"
          ]
        },
        {
          "output_type": "stream",
          "name": "stderr",
          "text": [
            " 59%|█████▉    | 59/100 [00:57<00:20,  2.00it/s]"
          ]
        },
        {
          "output_type": "stream",
          "name": "stdout",
          "text": [
            "📄 cosmetics_00291.png OCR 결과:\n",
            "[전성분 오일 에텔<실팔미테이트 스위트아존드오일 올리부오일 토코떼랗아세테이트 미키다미아씨오일 호호바씨오일 에텔학실금리세린 코코너야지 향료\n",
            "================================================================================\n",
            "📄 cosmetics_00292.png OCR 결과:\n",
            "[주요성분) 치오글리골산 센성문\n",
            "================================================================================\n"
          ]
        },
        {
          "output_type": "stream",
          "name": "stderr",
          "text": [
            " 60%|██████    | 60/100 [00:57<00:17,  2.25it/s]"
          ]
        },
        {
          "output_type": "stream",
          "name": "stdout",
          "text": [
            "📄 cosmetics_00293.png OCR 결과:\n",
            "성분 폐트록라툼 피마자씨오일 파라편 트라이에람렉사노인 마이크로크리스틱린와스 돌리에력렌 카프럽리/카프리트라이글리세라이드 카프질렉글라이블 글리세실카프렉레이트\n",
            "================================================================================\n"
          ]
        },
        {
          "output_type": "stream",
          "name": "stderr",
          "text": [
            " 61%|██████    | 61/100 [00:58<00:18,  2.07it/s]"
          ]
        },
        {
          "output_type": "stream",
          "name": "stdout",
          "text": [
            "📄 cosmetics_00312.png OCR 결과:\n",
            "[전성분] 정제수 다이프로필런글라이익 글리세린 폐달렌글라이블 12 핵산다이올 코카미도프로필하이드록시설레인 미리스민옥사이드 카프 플립'라이골 에텔회실금리세린 알로에베라임몰리사키라이드 바오밥 나무씨오일 드럭스틱씨오일 알로에베라임주출물 카프증렉카프럴글루 코사이드 데실글루코사이드 소문시트이트 시트리애씨드 디이소둥이 디티에이 부티렌글라이클 말도데스트린 토코때록\n",
            "================================================================================\n"
          ]
        },
        {
          "output_type": "stream",
          "name": "stderr",
          "text": [
            " 62%|██████▏   | 62/100 [00:58<00:18,  2.04it/s]"
          ]
        },
        {
          "output_type": "stream",
          "name": "stdout",
          "text": [
            "📄 cosmetics_00315.png OCR 결과:\n",
            "전성분 정제수 우레아 세테이락알코올 아이소프로필미리스데이트 포타숙티오글라이몰레이트 칼숨하이 드록사이드 글리세린 세테아래스-20 시어버터주출물 코티씨오일 오르키스모리오꽃주출물 연끗렉주출물(0.0029) 해바라기씨오일 프로필렌글라이익 아크립레이트코돌리머 향료 티타늄디욱사이드 주요성분 치오글리코산갈록액(10\n",
            "================================================================================\n"
          ]
        },
        {
          "output_type": "stream",
          "name": "stderr",
          "text": [
            " 63%|██████▎   | 63/100 [00:59<00:24,  1.52it/s]"
          ]
        },
        {
          "output_type": "stream",
          "name": "stdout",
          "text": [
            "📄 cosmetics_00320.png OCR 결과:\n",
            "'전성분] 아이소프로필팔미테이트 풀리 에달렌 어2 15알증센조에이트 비닐다이대 티리데티코실세스키옥세인크로스돌리다 다이메티코 프로필렌털카프렇레이트 티타늄 디오시이드 풀리메탤실세스키으세인 합성뜰 루오르플로고때이트 오조베라이트 알루미늄 쓰이레이트 풀리하이드록시스테야리애씨드 비닐다이메티곤 카프질리카프리트라이금리 세라이드 알루미나 플리금리세질 시다이아 이소스이라이터돌리하이드록시스테아래 이리세바켜이트 트라이에록시카프질질실레 인 바오법나무씨오일 드럭스틱씨오일 알로 에베라임주출물' 포드미리골드꽃주출물 병물 추출물 쓰이리애씨드 토코때록_ 정제수 부 털렌글라이블 팬탤렌글라이익 12 해산다이 올 카프렉질금라이익 데하이드로아세릭애씨 덕005%) 향료\n",
            "================================================================================\n"
          ]
        },
        {
          "output_type": "stream",
          "name": "stderr",
          "text": [
            " 64%|██████▍   | 64/100 [01:00<00:21,  1.65it/s]"
          ]
        },
        {
          "output_type": "stream",
          "name": "stdout",
          "text": [
            "📄 cosmetics_00323.png OCR 결과:\n",
            "[성분명 버베나 오 퍼품 아렬에터 0.69) 리모년 시트럭 다이아이소옥린아디페이트 핵실신남알 정제수 알루미늄홀로로하이드레이트 스테아래스-20 제라니올 시트로)올 리날록 스테아래스-2 피피자-15스템 아이소프로필팔미테이트 향료(버베나량 벤질알코올 벤질벤조에이트\n",
            "================================================================================\n"
          ]
        },
        {
          "output_type": "stream",
          "name": "stderr",
          "text": [
            " 65%|██████▌   | 65/100 [01:01<00:27,  1.26it/s]"
          ]
        },
        {
          "output_type": "stream",
          "name": "stdout",
          "text": [
            "📄 cosmetics_00327.png OCR 결과:\n",
            "'전변병 보,# 무;표 159 정저 프로필행등카프길 레이트 장크옥사이드 부딪런플라0 콜다이카프렉레이트다이카프래이 다이카프길질에터 터되늄다 욕시 1드 플라글리서길-따이이이소스 테아래이터돌리하이드록시스템아 레이트베바켜이트 프로관다이올 글 리서린 실리카 다이-이다이모늄 핵로리이트 메탤때타그럴레이트로로 스플리머 마그러습-이트 알루미늄 하이드록시이드 스테아퀴어씨드 바 오1나무오일 드럽스틱_오일 알 로에베리있주출물 포트미리골드꽃추 출물 병퓨추출물 트라이에특시카프 텔질실레인 12-핵산다이올 돌리글 리세랗-6돌리리시놓리에이트 쓸비 탄카프럽레이트 글리서실기프럽리이 트 에름학실글리서린 토코페록 부 털렌글리이률 팬팅렌글라이블 키프 질립플라이볼 향료\n",
            "================================================================================\n"
          ]
        },
        {
          "output_type": "stream",
          "name": "stderr",
          "text": [
            " 66%|██████▌   | 66/100 [01:03<00:44,  1.30s/it]"
          ]
        },
        {
          "output_type": "stream",
          "name": "stdout",
          "text": [
            "📄 cosmetics_00330.png OCR 결과:\n",
            "[전성분] 정제- 글리세린 글라이블 트 부석 살구씨가루; 향료; 우레야 소문글로라이 베타인; 아크락레이트코플리머 코카미도프로필베타인 소문하이알루로네이트; 다이프로필렌 소문라우레스설폐이 소득하이드록사이드 (드출라이 드플라이코사 하이알루로네 부딪렌긁라 에텔핵 벤질글 도착라이 후로]애씨 프로관다 하이드록시프로필트리 알루로데이트 이알루로]애씨드 미노글리칸 이트크로스돌리머; 드 트 당근추출물; 파파야열매추출물 '카프질기트 핵산다이- 실글리세련; 라즈베리켜톤 [이6큰:-창---]  하+서,; 찌:덧].,;7 스하>+]3 @껴~3물림아명욕|명거 3서엘교북; -하어교 숨데,3 파향뱀,미] (-명 -|다 -..어 -형핸물 되덧_외아*어공 -형_굽 @되어,교뿌~; @현명어-덧.드; 퍽명규|명거손교안 @:덧(0] _;-.; - 멋+긋; 들:멋교@교 만)감미~5; 반체하.하_._ [,~3 위훨치|-덧-형핸 모@.라북 훨뺨4 -쑤컵; 되덧하-할|미고.; 찌:훨-기-3물아높}덧-교줄 어어;국 할검미꽂서 (껴`-오어-센갚대; 성훨웃아-어 꾸*아2샌교|,김 되훨리욕-탁고+@ 항~리>라+서어 뉘덧히뒤*-,].; 지라창~! 묘할라.{ (고갑하 _하명3깥] (꾸하오라깥미 좁고# (멋검아+3 제덧라> 7- 1]컨 :덧어장*) -어핸;나 :/교응 읽훨하규아탁- -하채차고 (고*먼0 샌아아{ 찌훨밥|] 5훨.,. `요라~나 .낭청}.여거} (버(아} (하명쉽거거1 입훨_아` 3.,거거 뚱어명고,.뭐아내 법~시아적서 121~검고.|아내 :고-오이.,) 엉>장~,머;\n",
            "================================================================================\n"
          ]
        },
        {
          "output_type": "stream",
          "name": "stderr",
          "text": [
            " 67%|██████▋   | 67/100 [01:05<00:40,  1.24s/it]"
          ]
        },
        {
          "output_type": "stream",
          "name": "stdout",
          "text": [
            "📄 cosmetics_00350.png OCR 결과:\n",
            "전선분 정제수 스테아레이트 프로관다이올: 씨드 리돌레넉애씨드 이알루로데이트: 피로스템돌 사이클로편터실록세인 세달에렉렉사노에이트 땅콩씨겹질추출물 글리세린 부딪렌글라이클 세테야럽알코올 다이메티롬 트리리프습베리열매주출물 토코페록 '시어버터 스테아리애씨드 올레의애씨드 슬비단스테아레이트 1;2-핵산다이올 방하수 팔미터애씨드 포도씨오일 판계돌 밀써주출물 녹차주출물 글리세칼 리돌레의얘 소문뚱하 너 생열 프로필렌글라이골 에텔학실글리세린 귀노아씨주출물 카프질질금라이롬 밤부사 불가리스주출물 감나무잎추출물 다이소둥이디티에이 알지난 잔단검 카보머; 향료 로홀리추출물: 귀나무싹추출물 돕벤조에이트 사우수레야인블루크라다주출물 카프락리/카프리트라이글리세라이드 스피풀리나 플라렌시스주출물\n",
            "================================================================================\n"
          ]
        },
        {
          "output_type": "stream",
          "name": "stderr",
          "text": [
            " 68%|██████▊   | 68/100 [01:05<00:34,  1.09s/it]"
          ]
        },
        {
          "output_type": "stream",
          "name": "stdout",
          "text": [
            "📄 cosmetics_00354.png OCR 결과:\n",
            "전성분 코-베타인 정제수 포타숨코코일글루다메이트 라우럽글루코사이드 힘버드나무껍질추출물 다이소톱코코암포다이아세테이트 코코-글루코사이드 회화나무뿌리주출물 코 소물글로라이드 복사나무임추출물 글리세되올리에이트 아크립레이트 소톱코코일이세티오 에팅핵 메팅프로관다이올 콜라자껍질추출물 소톱코코일글루타메이트 시트리애씨드 부근렌글라이익 향료 귀리커널오일 핵실렌글라이롬 1,2-핵산다이올 병나무잎주출물 매실주출물 팔추출물 카프락렉글라이볼 (10-30알길아크렇레이트크로스돌리머 네이트 알지다 실금리세린 다이소둥이디티에이\n",
            "================================================================================\n"
          ]
        },
        {
          "output_type": "stream",
          "name": "stderr",
          "text": [
            " 69%|██████▉   | 69/100 [01:06<00:32,  1.06s/it]"
          ]
        },
        {
          "output_type": "stream",
          "name": "stdout",
          "text": [
            "📄 cosmetics_00361.png OCR 결과:\n",
            "최성문 정제적 <말플]-워이올 스] 출물 '힘:다하이움 [사이이쨌쇼@노의휘어목 플렉세렉 [체되어- 무회픽움-물 병물출최 양협름록출물 풍문-하주물움 뼈 메문--지임 하이발로체웨이터물하 @2로교튼 _-국' 올텔품레세쓸;워6- 또물. 레이운 제로렉애세또 _이소되이웨3에야 [털 말웨이의스 -물필하품-용이3해뜨: 깜리 적@애 시도 라튀애 물안 제립교하아도엔페 텔레그렉이골 예립학3국리-럽 해미블록_이제로 제문\n",
            "================================================================================\n"
          ]
        },
        {
          "output_type": "stream",
          "name": "stderr",
          "text": [
            " 70%|███████   | 70/100 [01:07<00:31,  1.04s/it]"
          ]
        },
        {
          "output_type": "stream",
          "name": "stdout",
          "text": [
            "📄 cosmetics_00367.png OCR 결과:\n",
            "전심, 정체숲 현성일유올 골리세심 대권스트 애제목 매이줄이다-트이이 오오관있이올 말로에베리원 울출물 육로품금류로시이@ 일치번 일관로인 육워속출물 체트애씨목 연손 출물 열 오모필런넥이블 메물 포락술하이트홍시이떡 터퇴임오- 편택콜 부옆린]이블 1중회세대이올 향로 높최미)럽 커던지언회로주소물- 매실봉물물 확림애지트 티$하여뜨퉁시실리- 쓰_이림이씨면 끝미타애씨트 자씨물 이되귀트어드 예텔최실긁리저림\n",
            "================================================================================\n"
          ]
        },
        {
          "output_type": "stream",
          "name": "stderr",
          "text": [
            " 71%|███████   | 71/100 [01:08<00:27,  1.07it/s]"
          ]
        },
        {
          "output_type": "stream",
          "name": "stdout",
          "text": [
            "📄 cosmetics_00368.png OCR 결과:\n",
            "전성분 정제수 테늘 다이소둥이디티에이 오논 벤질살리실레이트 이지 [-40하이드로제네이티드키스터오일 다이포타숨글리시리제이트 에단올 글리세린 피피지-26-부레스-26 부팅페닐메텔프로피오날 폐녹시에단올 소득하이일루로네이트크로스돌리머 토코페물 리날률 핵실신남일 제라니올 에텔학실금리세린 베타인 유제늘 카프질실글라이굴 다이프로필렌글라이꼴 쿠마린 리모년 시트로닐올 소문시트레이트 알파-아이소메털아이 팬텔런글라이클 판 향료_ 고 시트럭애씨드\n",
            "================================================================================\n"
          ]
        },
        {
          "output_type": "stream",
          "name": "stderr",
          "text": [
            " 72%|███████▏  | 72/100 [01:09<00:25,  1.10it/s]"
          ]
        },
        {
          "output_type": "stream",
          "name": "stdout",
          "text": [
            "📄 cosmetics_00374.png OCR 결과:\n",
            "'전정요름 정제수 피이지-}하이드로제네이터드키스터오일 예단 향 글리세린 폐{시에란올 에리스리돌 부0메록시다멘조일 메란 더이소돕이다티에이 소문시롭레이트 시트리애씨드 병하 부근렌글라이혹 풀질출물 호장균뿌리주출물 홍금주출들 = 녹차 주출물 스패인감소하리-출픔 마드리카리이꽃증출물 편림렌글 라이블 로즈마리잎주출물 1 2 핵산다이올 카프필킬플라이름 번 질살리실레이트 부발-널메팅프로피오날 시트로-올 핵실신나올 리모년 물\n",
            "================================================================================\n"
          ]
        },
        {
          "output_type": "stream",
          "name": "stderr",
          "text": [
            " 73%|███████▎  | 73/100 [01:10<00:24,  1.10it/s]"
          ]
        },
        {
          "output_type": "stream",
          "name": "stdout",
          "text": [
            "📄 cosmetics_00381.png OCR 결과:\n",
            "[전성분} 정제 단올 향료 글리세린 조일메탕 피이즈 패목시예단올 ~섞이하이드로제네이되드키스터오일 예리스리돌 소톱시트레이트 부리메록시디번트 시트럭애세드 방 항극주출 마트리카리이꽃주출물 카프길길글 시트로백올 리날률 호장근뿌리주출물 1,2-핵산다이올 다이소둥이디리에이 병풀주출물 스페인감소뿌리주출물 수 부발렌글라이올 물 녹차주출물 편탤런글라이블 로즈마리있추출물 라이혹 벤질살리실레이트 핵실신나물 하이드록시시트로벌알 리모년 부렇페날메털프로피오날\n",
            "================================================================================\n"
          ]
        },
        {
          "output_type": "stream",
          "name": "stderr",
          "text": [
            " 74%|███████▍  | 74/100 [01:10<00:21,  1.21it/s]"
          ]
        },
        {
          "output_type": "stream",
          "name": "stdout",
          "text": [
            "📄 cosmetics_00386.png OCR 결과:\n",
            "전성분 정제수 미네활오일 칼숨치오끌러몰레이트 세테아랗알코올 칼숙하이드록 사이드 세테아레스-20 소득하이드록사이드 실리카 합성비조악스 향료 동백오일 프로필렌글라이럽 벤질번조에이트 리모켓 부립대륙프로피오날 리날률: 시트로날올 알파이소메칠이오논 일항일랑퍼추출물 메달파라번 이소프로필파라번_ 토코페록 77497 77492\n",
            "================================================================================\n"
          ]
        },
        {
          "output_type": "stream",
          "name": "stderr",
          "text": [
            " 75%|███████▌  | 75/100 [01:11<00:19,  1.25it/s]"
          ]
        },
        {
          "output_type": "stream",
          "name": "stdout",
          "text": [
            "📄 cosmetics_00390.png OCR 결과:\n",
            "전성분 정제수 시어버터 (109) 글리서린 카프렉리 카프릭드라이금리세라이드 올리브오일 (29) 세테이질 알코올 소문하이알루로네이트 판티늘 세티이렉올리- 베이트 쓸비타올리베이트 시어버터주출물 프로관다 이올 팬텔런글라이익 코코덧야차열매주출물- 나무임주출물 1,2 핵산다이올 카프럽럽글라이볼 카 '보머 알지난 부립레글라이클; 토코퍼록 필리프오런 지겹질오일; '로조미리임오일 센티드저리늄꽃오일\n",
            "================================================================================\n"
          ]
        },
        {
          "output_type": "stream",
          "name": "stderr",
          "text": [
            " 76%|███████▌  | 76/100 [01:12<00:18,  1.31it/s]"
          ]
        },
        {
          "output_type": "stream",
          "name": "stdout",
          "text": [
            "📄 cosmetics_00400.png OCR 결과:\n",
            "전성분 정제수 글리세린 부처린금라이률 카프질리카프리트 라이금리세라이드 세릭에템렉사노에이트 세티아필알코올 슬 비단스테이레이트 하이드로제네이티드돌리0 #올리편 또도 씨오일 스테아리애씨드 글리세질스테이리이트 시어버터 다이 메티롬 올리보오일 카보머 알란로인 진린검 알지난 판계늘 편 배스 토고제랗아세테이트 팔미토일-타편다이드 4 다이소둑 이디타에이 소돕아니세이트 12 회산다이올 향료\n",
            "================================================================================\n"
          ]
        },
        {
          "output_type": "stream",
          "name": "stderr",
          "text": [
            " 77%|███████▋  | 77/100 [01:13<00:20,  1.11it/s]"
          ]
        },
        {
          "output_type": "stream",
          "name": "stdout",
          "text": [
            "📄 cosmetics_00403.png OCR 결과:\n",
            "전적분 피미지비오일 세리액 효마실-트 다_칠마미노하이드록시멘조일렉실변고0미트 메미트 플스하탤런 캐나웨외스 옥수수전분 토코저길이_테이트 (12-히일킬번조에이트 예철학실써투시)나금 합성비즈스 해이도 제니 이되드올브오일_렉감썩 스리립어 피피지 편철어리스리틱 항료 알루미나 티되늄다-드 패놀 피의지편다리 정제수 돌콩스록 권음릭스(리이트 국서증 아스발프테미트 시머리코 메시린 토코롬 올리헤이트 시트리째드 전성문 정제수 싶톱 코권 피-음다플하드록시스다어/에트 소율다 아회만 3뜨또길터3엘_어숙하로거드 {준 답답 전습 원 제목보-드 신 토코결다트 말체오입 이스코프닮-트 카프킬로일국신 (0@드라국있 편블코올 소되기트 품속미터 (염율 미그습-미로 찌스다물 3시련 떠피미드  소유날드록어다\n",
            "================================================================================\n"
          ]
        },
        {
          "output_type": "stream",
          "name": "stderr",
          "text": [
            " 78%|███████▊  | 78/100 [01:14<00:17,  1.23it/s]"
          ]
        },
        {
          "output_type": "stream",
          "name": "stdout",
          "text": [
            "📄 cosmetics_00406.png OCR 결과:\n",
            "전성분 정제수 프로관다이올 부딪렌글라이롬 다이프로필렉글라0 콜 1 2-핵사다이올 소득하이알루로네이트 빛나무열매주출물 힘버드 나무껍질추출물 회화나무뿌리주출물 복사나무잎주출물 매실주출물 판터늘 세라마이드에피 사과수 숙임주출물 쌀추출물 (72-14피러 스-12 트로메타민 아크렇레이트/(70-30알길아그립레이트크로스 풀리머 카보머 에립핵실글리세린 다이소둥이디티에이 향료\n",
            "================================================================================\n"
          ]
        },
        {
          "output_type": "stream",
          "name": "stderr",
          "text": [
            " 79%|███████▉  | 79/100 [01:14<00:15,  1.34it/s]"
          ]
        },
        {
          "output_type": "stream",
          "name": "stdout",
          "text": [
            "📄 cosmetics_00409.png OCR 결과:\n",
            "전성분 피마지씨오일 세리일비 혹시멘조일렉실벤조에이트 에칠렉실메록시신니메이트 아세테이트 에리스리캠에터 하이드로제네이티드올리브오일스테야림에스터 피피지-5페타에리스리터에터 토코떼로 아스발팔미테이트 향료 (12-히일킬번조에이트 합성비즈자스 풀리에터권 알루미나 정제수 티타늄다옥사이드 카나워악스 호모살레이트 돌콩스데물 옥수수전분 팬놀 피이지-5페타 시메티곤 레시퇴 디에칠이미노 하이드 토코페길 시트리애씨드 글리세릭스테이레이트 글리세플올리에이트\n",
            "================================================================================\n"
          ]
        },
        {
          "output_type": "stream",
          "name": "stderr",
          "text": [
            " 80%|████████  | 80/100 [01:15<00:14,  1.41it/s]"
          ]
        },
        {
          "output_type": "stream",
          "name": "stdout",
          "text": [
            "📄 cosmetics_00411.png OCR 결과:\n",
            "전성분 정제수 해비라기씨오일 비즈와스 에단올 리플린 스위트이본드오일 플리글리세칼-3돌리리시놀리에이트 권리세리 리모네* 삼새저비골주출물 하이드록라이프비즈와스 쓸단울리베이트 향료 마르리키리이꽃주출물 징조설폐이트 로직리임주출물 알지다 프트미리골드꽃주출물 리날록* 구미리* 천연 어센설 오일 유 제라니올* 시트칼* 식학처 고시 7 원료 중 천연함워비움 10096/유기농함위울28.31%\n",
            "================================================================================\n"
          ]
        },
        {
          "output_type": "stream",
          "name": "stderr",
          "text": [
            " 81%|████████  | 81/100 [01:16<00:13,  1.42it/s]"
          ]
        },
        {
          "output_type": "stream",
          "name": "stdout",
          "text": [
            "📄 cosmetics_00415.png OCR 결과:\n",
            "전성분: 정저수 해바라기씨오일 글리세린 에단올 글리세렉_이레이트시트이트 비즈와스 키카오씨버터 세테이렉알코올 시어버터 리모예 삼색제비끌주출물 카라기난 리놀린 향료 글리세질카프림레이트 로즈미리임주출물 진단검 마드리키리이꽃주출물 포트미리골드꽃주출물 릭스애씨드 리날풀 9 저리니올 천연어센설오일유 시트락 식약처 고시 기준 원료 중 천연함워움 10096/유기농하위울38.91% 인증기관 (기-아,+아- (가켜끈/ 인증기준스7:응성\n",
            "================================================================================\n"
          ]
        },
        {
          "output_type": "stream",
          "name": "stderr",
          "text": [
            " 82%|████████▏ | 82/100 [01:16<00:12,  1.39it/s]"
          ]
        },
        {
          "output_type": "stream",
          "name": "stdout",
          "text": [
            "📄 cosmetics_00416.png OCR 결과:\n",
            "전성분: 정제수 알루미늄글로로하이드레이트 [카프리트라이금리세라이드 세테이렉스-20 향료 세테아레스-12 세테아필알코올 갈플글로라이드 락토오스(01%) 아보카도오일 아이소메털아이오논 오리지늘 제라니올 테이트 만니돌 알지난 세린 리날률 수크로오스 다이카프길에터 카프길리 글리세린 글리세렉스터이레이트 세달팔미테이트 트라이소둥이디티에이 소문락테이트 벤질알코올 알파 소문아스코발포스데이트 토코페랗아세 피씨에이 시트물린 글라이코젠 트레오니 글루타막애씨드 라이신에이치씨엘 히스티단에이씨엘 알라신\n",
            "================================================================================\n"
          ]
        },
        {
          "output_type": "stream",
          "name": "stderr",
          "text": [
            " 83%|████████▎ | 83/100 [01:17<00:12,  1.41it/s]"
          ]
        },
        {
          "output_type": "stream",
          "name": "stdout",
          "text": [
            "📄 cosmetics_00418.png OCR 결과:\n",
            "전성분 정제수 알루미늄글로로하이드레이트 글리세린 카프길리/ 카프릭트라이금리세라이드 스테이레스-2 스테이레스-21 향료 트라이 소둥이디티에이 칼습판로테네이트 탁토오스01% 욕립도데칸올 아보카도오일 소문락테이트 벤질알코올 알파-아이소메달아이오논 제라니올 소문아스빌포스폐이트 토코페랗아세테이트 만니틀 알지난 세린; 수크로오스 피싸에이 시트록린 플라이코젠 히스티단에이치씨엘 쓰인감소뿌리주출물 알리신 트레오니 글루타막애찌드 라이신에이치씨엘\n",
            "================================================================================\n"
          ]
        },
        {
          "output_type": "stream",
          "name": "stderr",
          "text": [
            " 84%|████████▍ | 84/100 [01:18<00:10,  1.52it/s]"
          ]
        },
        {
          "output_type": "stream",
          "name": "stdout",
          "text": [
            "📄 cosmetics_00422.png OCR 결과:\n",
            "전성분- 살구씨오일 호도비씨오일 밀내아오일 료 민주자식나무임주출물) 359) 리모네+ 부처스 브충뿌리주출물 로춧미리임주출물 리닐물' 시트 제라니물 시트락' '천연 예센설 오일 우래 식약처 고시 기준 원로 중 천언씌유비율 103/ 우기능화워비율20 519 인증기관 설--)7이 찌루바 인증기주 시:-\"\n",
            "================================================================================\n"
          ]
        },
        {
          "output_type": "stream",
          "name": "stderr",
          "text": [
            " 85%|████████▌ | 85/100 [01:18<00:08,  1.72it/s]"
          ]
        },
        {
          "output_type": "stream",
          "name": "stdout",
          "text": [
            "📄 cosmetics_00424.png OCR 결과:\n",
            "전성분_ (0엎0만) 칭로' 리오네' 스스트이모드오일 최깨오잎 라베디오임 구미리' 제리나움' 처디 예센설 오웬 유기놓리우비움49 59 식학점 기초 원료중 선연앉유비8|0%\n",
            "================================================================================\n"
          ]
        },
        {
          "output_type": "stream",
          "name": "stderr",
          "text": [
            " 86%|████████▌ | 86/100 [01:19<00:09,  1.45it/s]"
          ]
        },
        {
          "output_type": "stream",
          "name": "stdout",
          "text": [
            "📄 cosmetics_00428.png OCR 결과:\n",
            "초로중위 텍-테의이한 탤회최_묶적-? 훌렉부품  콤월3- ;다 마류훨_워심  품출국이 불드보밤-어봄 볶부표 외뇨}둥임표 물쳐 험 이표글 밤다중출 도물 @에회로고적 열다 젊-콤으다-출판 대적중화-화 다롭시판회] 국;하다-- \" 하: 울발렉리력록별 #오3실품이체트 @ 달훨매지~ 칠립오 '실산끝철다-@[ 의품출 -깨부훨페자철편력 되아소둥이터테에버든 [회질다로록 닭 떡선_ 애규 초겨내3매사노} 표균?스콤는 [꽤도품; (그싶{) )훨세릭레록 중엉출0 대움\n",
            "================================================================================\n"
          ]
        },
        {
          "output_type": "stream",
          "name": "stderr",
          "text": [
            " 87%|████████▋ | 87/100 [01:20<00:09,  1.34it/s]"
          ]
        },
        {
          "output_type": "stream",
          "name": "stdout",
          "text": [
            "📄 cosmetics_00438.png OCR 결과:\n",
            "[성볕 정제속 병퓨출출물-8이9먼 )= 변성일코올 부그런플렉이블 고오렉산대이올 마데라소 이트의의먼} 슬루렉하락지 아둘야티코이트650먼3히) 똑사주출물 흥체축출물 병풀렉주출물 보이 #출물 루미로스주출물 콤회쪽출물 울뭐 축물 올리브오일 미테잎주출물 슈도일리로로나발발요:출물 우홍주출물 세라미이드엔때 콤리세웬 하이드로제네이티드 피이지:60하이 소문시트 패로스광교신 멘물 예립렉실금리세린 콤레스회록 쓰문일랜 으로제네이티므스터오일 리의린 레이블 세라이목 지트리애씨문 티이스문이리티에이 세어버터 리훨리라프리트라이글러\n",
            "================================================================================\n"
          ]
        },
        {
          "output_type": "stream",
          "name": "stderr",
          "text": [
            " 88%|████████▊ | 88/100 [01:20<00:08,  1.43it/s]"
          ]
        },
        {
          "output_type": "stream",
          "name": "stdout",
          "text": [
            "📄 cosmetics_00447.png OCR 결과:\n",
            "서중- 병제중 밝리세티 세계이터일,-; 세텔계레감- 예결레체- 떼트록리지 내회락해씨력 멘물 손흉세례이킬설폐의트; 기플되럽등플렉이록 테플회스트에웨타에예 떼목세에올 향원 퇴드립립레체적 스그설폐이물 비립흉림실외키프로-오-록 77';\n",
            "================================================================================\n"
          ]
        },
        {
          "output_type": "stream",
          "name": "stderr",
          "text": [
            " 89%|████████▉ | 89/100 [01:21<00:06,  1.69it/s]"
          ]
        },
        {
          "output_type": "stream",
          "name": "stdout",
          "text": [
            "📄 cosmetics_00452.png OCR 결과:\n",
            "넷 (3,6@0/하 리로번 지트칼; 해바라기씨오일 유갈립투스잎오일 제라니올 레온그라스잎오일 스위트아꾸드오일 숫가루 대나무목초액 라우리애씨드 스테아락\n",
            "================================================================================\n"
          ]
        },
        {
          "output_type": "stream",
          "name": "stderr",
          "text": [
            " 90%|█████████ | 90/100 [01:21<00:06,  1.56it/s]"
          ]
        },
        {
          "output_type": "stream",
          "name": "stdout",
          "text": [
            "📄 cosmetics_00458.png OCR 결과:\n",
            "전성분 소톱팔메이트 소염잠커엘레이트 정제수_ 글리세린 팔씨드 비에이치터 리모예 부렇페날레털프로피오날 리날률 레온주출물 사과주출물 오렌지주출물 포도주출물 울무씨가루 콩가루584 [ ) 쌀가루768 [아늑 판커빛애씨드 소문물홀로라이드 태트라소문이디티에이 티타늄디옥사이드 라임추출물 부딪렌글라이클 태트라소-에되드로데이트 알루미늄하이드록사이드 실리카 (584 [ 늑) 적색5어호 흉색호 녹색3호 에티드로니애씨드 향로 시트로렉올 메탤글루세스-20 데실금루코이드 팔가루1752 [  ) 녹두가루1752 [  )\n",
            "================================================================================\n"
          ]
        },
        {
          "output_type": "stream",
          "name": "stderr",
          "text": [
            " 91%|█████████ | 91/100 [01:24<00:10,  1.13s/it]"
          ]
        },
        {
          "output_type": "stream",
          "name": "stdout",
          "text": [
            "📄 cosmetics_00462.png OCR 결과:\n",
            "조문메히다 ((:8*)) 전성뷰 소물프페이부 (@.78)) 글리치런트 예티프로파오말 국화숙물 139) 소둥홀로라이드 정제\"-트 곧없빛이씨드 홍보 티브늄디-시이드 렉터품6중 에티럽로(애씨드 핸실심남알 탈햄로빗올 예름횟실물리세권 부`페품 드리늄소도이디터에야 데드리튼 에올 부말렌글라-이쪽굴 전정문 (주]리 글리세린트 올리나오입트 스세에컨올 소텔없엘레이슬 전체쁨 팔로씩이씨다 양료 1383 타이초발요요안-라-이어세테이트 소물:로리이드 티티늄디올사이트 돌리붕터늄6 외말록 힘실쇠씩일 쨌로로렉올 에티므관어씨움 핸부발페블 테트죽언둥이디리에이켜 예단올 비짜라 부)렉금라이혹 예텔/실금리세린 전성분 흘리세컨드 소원-심레이트= {8히) 태이소톱중문임준[ 이7이제리이록 올리브요일 힘실신씩일 리별결드 정제  관걀델애씨뜨 향요 소돕들로리이목 되티늄다욕시이드 플리루터블증관 에티므로있애씨므 콤탕페일 테튼라소묶이데타에이 텍트리트 -볶-에람용 트로필올 예텔렉실글리제린 세란올 분질렌금라이출튼 전심문 (유보리르 (어워 9)) 국리세리 초물끊늄텔레이료 전제9 껍-훨애지의 중:요 {테대하 소물물로라이드 타늄녀옥사이뜨 '물리릭터심3 흰실문-= 어르로포원 폐문_에트움 예티프로심의이제드 부페닐 테듬리소문이디리에이 이래월 메월렉실국국림제심 불플달라이롬등 테무튼\n",
            "================================================================================\n"
          ]
        },
        {
          "output_type": "stream",
          "name": "stderr",
          "text": [
            " 92%|█████████▏| 92/100 [01:26<00:12,  1.61s/it]"
          ]
        },
        {
          "output_type": "stream",
          "name": "stdout",
          "text": [
            "📄 cosmetics_00474.png OCR 결과:\n",
            "전성분 소들팔데이트 소뚱,커널리이트 늑어씨드 향로 킬설프쇠시네이트 오월018) 리날치 프로피오날 어리드르네이트 하이르시시트로빌알 시어버터 청색  흐 흙색_등 코카미도프로필베타인 벤질번조에이트 에티드로늬애_드 태트라소둥이디티에이 소근콤로라이드 폐트록리틈 희실신남일 되트라소트 시트로널올 리모년 등색205호 아르간러널오일 코코멋 저제수: 다이소문라우 극리서리 올리브 부)페날데털 '팔기 아자오일 벤조에이트 해비라기씨오일 토코페틀 호호바씨오일 소거 전성분 소들팔메이트 넷애씨드 향료 킬설포석시네이트 오일01976) 리날록 프로피오날 태트라소둥이디티에이 에티드로네이트 에티드로니애씨드 하이드록시시드로델일 벤질벤조에이트 시어버터 코카미도프로필베타인 '소중팔커엘레이트 소물홀로라이드 폐트록라툼 회실신남일 정제수수' 팔카 다이소둥라우 물리서린 올리 부발페날메블 테트라소문 시트로날올 리모예 등색205호 청색이호 홍색2이3 야자오일 해바라기씨오일 벤조에이트 토코퍼롭 아르간귀널오일 코코봇 호중바씨오일 소문 전성분 소톱질베이트 빌애씨드 향료 킬설모석시네이트 오놈0196) 리날물 소톱홀로라이드 폐즈물리롬 핵실신남일 (뜨로피오날 에티드-이트 소톱낌커엘레이트 글리세린 테트라소문이디티에이 에티드로니애씨드 정제수 판구 다이 |소톱라우 올리부 부렇페닐메블 테트라소움톱 시트로닐올 싸( 하이트록시시트로예알 시어버터 정의4어호 아차오잎 멘조에이트 코카미도프로필베타인 형식어호 아르?거넷오일 헤바라기씨오일 토코째움 벤질번조에이트 리모예 등색205호 코코넷 호호바씨오임 소톱 전성분 소소질페이트 넷애씨드 향료 킬설포석시네이트 오일0.1996) 리날률 프로피오날 테트라소둥이디티에이 에티드로네이트 에티드로니애씨드 하이드록시시트로빛알  벤질멘조에이트 시어버터 코카미도프로필베타인 '청색서어호  홍식2 04호 아르간거널오일 야자오일_ 해바라기씨오일 벤조에이트 토료페롭 소둥-커엘레이트\" 정제수 괜컨 소톱콤로라이드 다이소톱화우 폐트록리툼 글리세린 올리부 핵실신남알 부립페닐메블 테트라소든 시트로웨올 리모년 등색205호 코코넷 호호바씨오일 소문\n",
            "================================================================================\n"
          ]
        },
        {
          "output_type": "stream",
          "name": "stderr",
          "text": [
            " 93%|█████████▎| 93/100 [01:27<00:09,  1.31s/it]"
          ]
        },
        {
          "output_type": "stream",
          "name": "stdout",
          "text": [
            "📄 cosmetics_00481.png OCR 결과:\n",
            "전성분- 소&팔메이트 소염픽커엘레이트 정제수 향료 구마권트 리모멘 유제놀 핵실신남말 부립페닐데털프로피오날 리날록 판애씨드 글리세린 팔커빛애씨드 소문글로라이드 테트라소둥이디티에이 티드로님애씨드 비에이치터 트라이소득엔티에이 소문하이드록사이드 테트라소문에티므로네이트 적색504호 형색4호 홍색2023(1)\n",
            "================================================================================\n"
          ]
        },
        {
          "output_type": "stream",
          "name": "stderr",
          "text": [
            " 94%|█████████▍| 94/100 [01:30<00:10,  1.74s/it]"
          ]
        },
        {
          "output_type": "stream",
          "name": "stdout",
          "text": [
            "📄 cosmetics_00486.png OCR 결과:\n",
            "전성분 소톱팔메이트 소문잠커엘레이트 정제습 판국 텔애씨드 향료트 다이 [소문라-킬설로적지네이똑 소문홀로라이드 부탤페렉레렉프로피오날 글리세린: 날물 치트로올 하이드록시시트 로델일- 테플소돕이데트에이름 테트라소톱에 티드로네이트 에티드로님애찌드 적색산회철 벤질렌초에이트 부립렌글라이볼: 라센터꽃 초출닭-7하9) 요카비도프로필베터인 아르간 어델오일 러고덧야차오일트 해바라기씨오일: 올리브오일 호호바찌호일트 폐-에란올 에센 흰실금리세린트 소톱벤초에이트 전성분 소`팔레이트 소듭잠커엘레이트 정제수금 깜러 텔애씨트 향료_ 테이소문라-킬철철철지네이트' 소톱클로라이: 부)페밀레렉프로피오날봉 글리세린 리달록등 시트로델올 하이드록시트 로델일 테트라소퉁이데티에이 테트라소문어 티브로네이트 에티무로렉애찌드 적색산화철출 벤질벤조에이트 부딪렌글라이블 라번터꽃 초출닭다하9) 코카미도프로필베타인 아르간 커널오일트 코덧야자오일 해바라기씨오일 올리브오일들 호호바씨오일 폐복시에란올 에름 핵실금리세린 소문벤초에이트 전성심 소톱팔메이트: 소%컴커엘레이트 정제수 컴커 훨애씨드 향료_ .이소문관-우킬설포석시네이드 소둥글로라이트 부발페일레뱃프로피오날' 글리세린: 리날록 시트로델올 '하이드물시서트 '로럭일 테트라소퉁이디티에이: 테드라소동에 티드로네이트 에티드로의이씨드 '적색산화철: 벤질멘조에이트 부발렌글라이올: '라수더국 둘수하 = 코카미도프로3베티인= 아르간 커쁨오일 코코덧야자오입; '해바라기씨오일 올리부오일= 호호바씨오입 폐육시이란율 '이월 핸실금리제린트 소문뇨조에이트 전성분 소톱팔메이트들 소문광커엘리이트= '정제수_ 판커 훨애씨드 '향료_ 다이소문라우럽설포석시네이트 소톱홀로라이드= 부킬페일메타프로피오날; 글리세린 '리날물; 기트로널올 하이드록시시트 로빛할 테트라소문이디티에이 테트라소-에 티드로네이트트 에티드로의애씨드 최색산회철_ 벤질멘초에이트- 부립레글라이돌 라볍터국 주출건다7 ) 코키미도프로필베다인 아르간 '커델오일: '코코너야자오일: 해바라기씨오입: '올리브오일 '호-바씨오임 패행시에단올 에텔 회실금리세리 '소톱수조에이트\n",
            "================================================================================\n"
          ]
        },
        {
          "output_type": "stream",
          "name": "stderr",
          "text": [
            " 95%|█████████▌| 95/100 [01:31<00:07,  1.59s/it]"
          ]
        },
        {
          "output_type": "stream",
          "name": "stdout",
          "text": [
            "📄 cosmetics_00497.png OCR 결과:\n",
            "성분명 소건-트 소제니붙렉이트 정제숲 깜3 끝국*_드 캠린 대스쩐로임프-이페렉미터 어러터 레치늄 [)하미목 이프력해지롭 소'웨미말로되미터 얼_밥퀴미신물편뤄이트 토넷지입 모-지도임물물 모션출물 묘억출물 대슷정뜻- @닭) 카`록 세터렉너다물출물 탤질출물 탤제미롬 탤플록 {2-물되올 실물언이베벽지트앞크리켜 목문3분다 콤스데출실트 이리리베지트원 폐늑서째로록 소문취 드 어플렉싶넥_린 테중전도굶 어제 테워도어리로-이트 적임교화 동생 (효 (근움욕미리버교예 ) 짓쾌교물 회니말 기지굴 벤질핸주이터\n",
            "================================================================================\n"
          ]
        },
        {
          "output_type": "stream",
          "name": "stderr",
          "text": [
            " 96%|█████████▌| 96/100 [01:32<00:05,  1.49s/it]"
          ]
        },
        {
          "output_type": "stream",
          "name": "stdout",
          "text": [
            "📄 cosmetics_00502.png OCR 결과:\n",
            "성분명 소폐이록 %퀴텔렉이록 쨌숲 깜해트 중임-이이제없이트 시어표리 제리늄 이쓸웨확해트 소망이엎웨이트 열지넷리이진물-렉이목 모기켓몰양출물 모스력출출물 @이롯출물 토권물 세깜터플나다록출출물 물랜스빗출출물 햄실권스이록 [ 2취세-이움 질물@이키스트분리테이물 얘 )키의페이물물렉 폐플세로올 쇠렉해옮 예름회실렉세린 몰탤되늄- 에의 쨌둘어탤회예이트 직임롭애호 홍색이0튼 제라릭올 힘실선씩말 리닐물 벤질렉이트 팔버-_트 최제랜 (의신회미미트 요듯이지-- [티피스긍정미송-이; (@ 기 플탤망스이{ 콤플플렉실뒤 테르회전도이트터 테콤늄티칭이띄어7 -9로\n",
            "================================================================================\n"
          ]
        },
        {
          "output_type": "stream",
          "name": "stderr",
          "text": [
            " 97%|█████████▋| 97/100 [01:33<00:03,  1.14s/it]"
          ]
        },
        {
          "output_type": "stream",
          "name": "stdout",
          "text": [
            "📄 cosmetics_00507.png OCR 결과:\n",
            "유호성분 피마자유 피이자 8 향료 알루미늄글로로하이드레이트액50이 하드록시에팅설물로오스 기타철가제_ 2 올립도데카올 변성알코올돌리옥시에탤렌경화 시트로산 정제수\n",
            "================================================================================\n"
          ]
        },
        {
          "output_type": "stream",
          "name": "stderr",
          "text": [
            " 99%|█████████▉| 99/100 [01:35<00:01,  1.18s/it]"
          ]
        },
        {
          "output_type": "stream",
          "name": "stdout",
          "text": [
            "📄 cosmetics_00519.png OCR 결과:\n",
            "전성분 소톱질매이트 소둥잠러엘레이터 정제수 깜국 다이소문라우 소톱홀로라이드; 향료 날애씨드 킬설포석시네이틈 폐트출라툼_ 글리세린 '올리브 부)페닐에털 테꼬소문 핵실신남일 리날록: 오일019 6) 프로피오날 테트라소문이디티에이; 시슬로렉올 에티드로의애씨드 에티드로데이트 하이드록시시튿로빛알 벤질딩조에이트 리모년트 등세205호 '코카미도-로필베타인 '시어버터 청색4이호: 형색_0호- 아르간거널오일 코코봇 소움 '호호바씨오일 해바라기씨오일 아자오일= 벤조에이트느 토고제물 전성문 소톱팔메이튿_ 선원-커엘레이트 '정제속 깜래 다이소문라-우 소톱렉화이드 넷애씨드 킬설포적시네이트 폐트물화툼_ '글리세린 '올 부처페닐메달 시트로날올 '오일0790) 리날물 '핵실신남알 프로피오날 테트라소움이디티에이_ 에티드로님애씨드 에티드로데이트 하이드록시시트로델알 벤질벤조에이트트 시어버터= '코카미도프로필베타인; 청쓰_어호 확색2이호= 아르간러널오일트 코코대 소염 '호호바씨오일 '해바라-씨오일; 야자오일 벤조에이트 '토코페록 전성분 '문질레이끝 소컴커엘레이트 '청제수 깜켜 디이소움문라우 소톱물바라이드 향료 텔애 드: 텍설요_시데이트= 폐투물리늄: '글리세린: 올리브 '부립페닐레들 '핵실신남말 리날출 오왜019 6) 흐중피오날 테트리소문이디리에이  테@소든 지슬로렉올극 얘티드로니애씨드_ 메티트로네이트 [톤 헤미트록: [묻 벤집멘초에이트 리모예= 등색2053' 코카미도;로편에타인 '세어리터 청쓰_어호; 침색히로 아르간거넷오임: 코코넷 소문 호호바]오임 해바라기씨오입= 야자회임 반조에이블 '토조때터 전성분 소톱필헤이트 소문전커엘레이트 다이소문라우 소톱홀로라이드; 향료- 텔애치트 킬설프로시네이트 폐트물리롬 글리서리 울리다 '부탤페닐메트 힘실신남알 리날물 오101976) 프로피오날 테트라소둥이디티에이 테트소둠 시트로닐움 리모번 벤집반초에이트 에티드로니애씨드 에티드로데이트 히이등록시시트로할 십어버터: 코카미로프로필베타인 청쓰스어초 형색 호 아르간거널오일 코코봇 등색205호_ 야자호일 해바라기씨호일 호호바씨오임 소톱 '토코페답 멘초에이트\n",
            "================================================================================\n",
            "📄 cosmetics_00523.png OCR 결과:\n",
            "주요성년_ 치오금리국 산라브-액11,331\n",
            "================================================================================\n"
          ]
        },
        {
          "output_type": "stream",
          "name": "stderr",
          "text": [
            "100%|██████████| 100/100 [01:36<00:00,  1.04it/s]"
          ]
        },
        {
          "output_type": "stream",
          "name": "stdout",
          "text": [
            "📄 cosmetics_00524.png OCR 결과:\n",
            "전성분 세테아길일코올 이드 아이소프로필미리스테이트 코돌리머 양산딸기주출{25마가) 세테아레스-20 우리이59) 치오글리롬산갈흉액(71.39) [가악) 리키이트 도록사이드 조한황료 (버스티베리스 해바라기씨오일 아크렇레이트코`리머 비치스트로배리주출물(259가럼) 마그네숨알루미늄실 정제수 갈숨하이드록사 글리세질스테아레이트 브이피/에이코신 라즈배리주출국25 포다운하이 16077+ 셋제 티타늄디오사이드 0496(씨아이 77891) 최\n",
            "================================================================================\n",
            "\n",
            "✅ 완료! 시각화 이미지는 /content/ocr_visualized 폴더에 순서대로 저장됨.\n"
          ]
        },
        {
          "output_type": "stream",
          "name": "stderr",
          "text": [
            "\n"
          ]
        }
      ]
    },
    {
      "cell_type": "code",
      "source": [
        "import pandas as pd\n",
        "\n",
        "# ==============================\n",
        "# 💾 OCR 결과 CSV 저장 (파일별로 즉시 기록)\n",
        "# ==============================\n",
        "ocr_results = []\n",
        "\n",
        "for file in tqdm(json_files):\n",
        "    json_path = os.path.join(json_dir, file)\n",
        "    with open(json_path, \"r\", encoding=\"utf-8\") as f:\n",
        "        data = json.load(f)\n",
        "\n",
        "    img_name = data.get(\"name\") or file.replace(\".json\", \".jpg\")\n",
        "    base_name = os.path.splitext(img_name)[0]\n",
        "\n",
        "    # 원본 이미지 경로 탐색\n",
        "    for ext in [\".jpg\", \".jpeg\", \".png\"]:\n",
        "        img_path = os.path.join(image_dir, base_name + ext)\n",
        "        if os.path.exists(img_path):\n",
        "            break\n",
        "    else:\n",
        "        continue\n",
        "\n",
        "    img = cv2.imread(img_path)\n",
        "    if img is None:\n",
        "        continue\n",
        "\n",
        "    ocr_texts = []  # ✅ 여기서 새로 초기화 (파일마다 독립적으로)\n",
        "    vis_img = img.copy()\n",
        "\n",
        "    # type=2 OCR 수행\n",
        "    for ann in data.get(\"annotations\", []):\n",
        "        for poly in ann.get(\"polygons\", []):\n",
        "            if str(poly.get(\"type\")) != \"2\" or \"points\" not in poly:\n",
        "                continue\n",
        "\n",
        "            points = np.array(poly[\"points\"], np.int32)\n",
        "            x_min, y_min = np.min(points[:, 0]), np.min(points[:, 1])\n",
        "            x_max, y_max = np.max(points[:, 0]), np.max(points[:, 1])\n",
        "            crop = img[y_min:y_max, x_min:x_max]\n",
        "\n",
        "            try:\n",
        "                results = reader.readtext(crop, detail=0, paragraph=True)\n",
        "                text = \" \".join(results)\n",
        "                if text.strip():\n",
        "                    ocr_texts.append(text)\n",
        "            except Exception as e:\n",
        "                print(f\"⚠️ OCR 오류: {file} → {e}\")\n",
        "                continue\n",
        "\n",
        "            cv2.polylines(vis_img, [points], isClosed=True, color=(0, 0, 255), thickness=2)\n",
        "\n",
        "    # 💾 OCR 결과 저장 (각 파일마다 즉시 기록)\n",
        "    combined_text = \" \".join(ocr_texts).strip()\n",
        "    ocr_results.append({\n",
        "        \"filename\": f\"{base_name}_vis.png\",\n",
        "        \"ocr_text\": combined_text\n",
        "    })\n",
        "\n",
        "# ✅ 모든 결과를 CSV로 저장\n",
        "df = pd.DataFrame(ocr_results)\n",
        "df.to_csv(\"/content/ocr_texts.csv\", index=False, encoding=\"utf-8-sig\")\n",
        "\n",
        "print(\"✅ OCR 결과 CSV 저장 완료: /content/ocr_texts.csv\")\n",
        "display(df.head(15))"
      ],
      "metadata": {
        "colab": {
          "base_uri": "https://localhost:8080/",
          "height": 836
        },
        "id": "P37y0kMeCH58",
        "outputId": "ade1323e-a22c-4bcb-8abe-27dad6810726"
      },
      "execution_count": 5,
      "outputs": [
        {
          "output_type": "stream",
          "name": "stderr",
          "text": [
            "100%|██████████| 100/100 [01:28<00:00,  1.13it/s]"
          ]
        },
        {
          "output_type": "stream",
          "name": "stdout",
          "text": [
            "✅ OCR 결과 CSV 저장 완료: /content/ocr_texts.csv\n"
          ]
        },
        {
          "output_type": "stream",
          "name": "stderr",
          "text": [
            "\n"
          ]
        },
        {
          "output_type": "display_data",
          "data": {
            "text/plain": [
              "                   filename                                           ocr_text\n",
              "0   cosmetics_00007_vis.png  전성분 정제수 1,2-핵산다이올 프로관다이올 부딪렌들라이클 소문하이알루로네이트 복시...\n",
              "1   cosmetics_00022_vis.png  전성뿐 스테아레이트_ 씨드 이알루로데이트 리돌레나애씨드 정제수 프로관다이올 피로스데...\n",
              "2   cosmetics_00025_vis.png  전성분 소흉메이트 벤질트조에이트 리모넷 비에이치터 소문팔커엘레이트 정제수 유차나무싸...\n",
              "3   cosmetics_00026_vis.png  [선성 청제운 병운출출물숙8이의[) 변성말되올 불문질도락롬: 분플렌스렉이블 매테라소...\n",
              "4   cosmetics_00031_vis.png  딱심문 청체문 에컨올 부립레플라이골 해술 훨릭애지운 소둘시트레이트 카체염매주출움 배...\n",
              "5   cosmetics_00039_vis.png  전성분 정제수 석시네이트 필라이트 트 라우킬금루코사이드 다이소둡고코앉포다이아세테이트...\n",
              "6   cosmetics_00041_vis.png  며신- 비심 더_어하세'이터 귀| :::출다다; 음}출국목 라컴플베키없 조육바라로활...\n",
              "7   cosmetics_00045_vis.png  [주요성분) 치오글리록산 전성뷰 정제수 세테야람말코올 미네활오일 우아 갈습하이드록사...\n",
              "8   cosmetics_00047_vis.png  [전성뷰) 에달렉실팔미테이트 오일 스위드이모드오일 올리브오일 토`페랗아서테이트 미키...\n",
              "9   cosmetics_00049_vis.png  전성분 록사이드 호호바씨오일 칠이오든: 제라리올 정제수 세테아래스-20 카카오씨드버...\n",
              "10  cosmetics_00053_vis.png  전성분 코코더야자오일 정제속 해바라기오일 표도씨오일 알로데비라주출물 벤질렌초에이트-...\n",
              "11  cosmetics_00064_vis.png  [선성볕 최제중 글라세관 위도결-쓸나 무임속울물 임도말 나금품워 출물 똑러]침임:출...\n",
              "12  cosmetics_00068_vis.png  전성분) 정제수 글리세린 아크림레이트코플리머 다이프로필렌 글라이올 코카미도프로필베타...\n",
              "13  cosmetics_00071_vis.png  [성분명듣 버베나 데오 퍼품 리모년; 시트럭 정제수 핵실신남알  제라니올 상담실어 ...\n",
              "14  cosmetics_00081_vis.png  성분명 정제수 '소둡라우레스설폐이트- 이트 피이지;45팔커널금리세라이즈 이클 포타숨..."
            ],
            "text/html": [
              "\n",
              "  <div id=\"df-b98f3ba8-b643-4f8b-b1aa-82765488a519\" class=\"colab-df-container\">\n",
              "    <div>\n",
              "<style scoped>\n",
              "    .dataframe tbody tr th:only-of-type {\n",
              "        vertical-align: middle;\n",
              "    }\n",
              "\n",
              "    .dataframe tbody tr th {\n",
              "        vertical-align: top;\n",
              "    }\n",
              "\n",
              "    .dataframe thead th {\n",
              "        text-align: right;\n",
              "    }\n",
              "</style>\n",
              "<table border=\"1\" class=\"dataframe\">\n",
              "  <thead>\n",
              "    <tr style=\"text-align: right;\">\n",
              "      <th></th>\n",
              "      <th>filename</th>\n",
              "      <th>ocr_text</th>\n",
              "    </tr>\n",
              "  </thead>\n",
              "  <tbody>\n",
              "    <tr>\n",
              "      <th>0</th>\n",
              "      <td>cosmetics_00007_vis.png</td>\n",
              "      <td>전성분 정제수 1,2-핵산다이올 프로관다이올 부딪렌들라이클 소문하이알루로네이트 복시...</td>\n",
              "    </tr>\n",
              "    <tr>\n",
              "      <th>1</th>\n",
              "      <td>cosmetics_00022_vis.png</td>\n",
              "      <td>전성뿐 스테아레이트_ 씨드 이알루로데이트 리돌레나애씨드 정제수 프로관다이올 피로스데...</td>\n",
              "    </tr>\n",
              "    <tr>\n",
              "      <th>2</th>\n",
              "      <td>cosmetics_00025_vis.png</td>\n",
              "      <td>전성분 소흉메이트 벤질트조에이트 리모넷 비에이치터 소문팔커엘레이트 정제수 유차나무싸...</td>\n",
              "    </tr>\n",
              "    <tr>\n",
              "      <th>3</th>\n",
              "      <td>cosmetics_00026_vis.png</td>\n",
              "      <td>[선성 청제운 병운출출물숙8이의[) 변성말되올 불문질도락롬: 분플렌스렉이블 매테라소...</td>\n",
              "    </tr>\n",
              "    <tr>\n",
              "      <th>4</th>\n",
              "      <td>cosmetics_00031_vis.png</td>\n",
              "      <td>딱심문 청체문 에컨올 부립레플라이골 해술 훨릭애지운 소둘시트레이트 카체염매주출움 배...</td>\n",
              "    </tr>\n",
              "    <tr>\n",
              "      <th>5</th>\n",
              "      <td>cosmetics_00039_vis.png</td>\n",
              "      <td>전성분 정제수 석시네이트 필라이트 트 라우킬금루코사이드 다이소둡고코앉포다이아세테이트...</td>\n",
              "    </tr>\n",
              "    <tr>\n",
              "      <th>6</th>\n",
              "      <td>cosmetics_00041_vis.png</td>\n",
              "      <td>며신- 비심 더_어하세'이터 귀| :::출다다; 음}출국목 라컴플베키없 조육바라로활...</td>\n",
              "    </tr>\n",
              "    <tr>\n",
              "      <th>7</th>\n",
              "      <td>cosmetics_00045_vis.png</td>\n",
              "      <td>[주요성분) 치오글리록산 전성뷰 정제수 세테야람말코올 미네활오일 우아 갈습하이드록사...</td>\n",
              "    </tr>\n",
              "    <tr>\n",
              "      <th>8</th>\n",
              "      <td>cosmetics_00047_vis.png</td>\n",
              "      <td>[전성뷰) 에달렉실팔미테이트 오일 스위드이모드오일 올리브오일 토`페랗아서테이트 미키...</td>\n",
              "    </tr>\n",
              "    <tr>\n",
              "      <th>9</th>\n",
              "      <td>cosmetics_00049_vis.png</td>\n",
              "      <td>전성분 록사이드 호호바씨오일 칠이오든: 제라리올 정제수 세테아래스-20 카카오씨드버...</td>\n",
              "    </tr>\n",
              "    <tr>\n",
              "      <th>10</th>\n",
              "      <td>cosmetics_00053_vis.png</td>\n",
              "      <td>전성분 코코더야자오일 정제속 해바라기오일 표도씨오일 알로데비라주출물 벤질렌초에이트-...</td>\n",
              "    </tr>\n",
              "    <tr>\n",
              "      <th>11</th>\n",
              "      <td>cosmetics_00064_vis.png</td>\n",
              "      <td>[선성볕 최제중 글라세관 위도결-쓸나 무임속울물 임도말 나금품워 출물 똑러]침임:출...</td>\n",
              "    </tr>\n",
              "    <tr>\n",
              "      <th>12</th>\n",
              "      <td>cosmetics_00068_vis.png</td>\n",
              "      <td>전성분) 정제수 글리세린 아크림레이트코플리머 다이프로필렌 글라이올 코카미도프로필베타...</td>\n",
              "    </tr>\n",
              "    <tr>\n",
              "      <th>13</th>\n",
              "      <td>cosmetics_00071_vis.png</td>\n",
              "      <td>[성분명듣 버베나 데오 퍼품 리모년; 시트럭 정제수 핵실신남알  제라니올 상담실어 ...</td>\n",
              "    </tr>\n",
              "    <tr>\n",
              "      <th>14</th>\n",
              "      <td>cosmetics_00081_vis.png</td>\n",
              "      <td>성분명 정제수 '소둡라우레스설폐이트- 이트 피이지;45팔커널금리세라이즈 이클 포타숨...</td>\n",
              "    </tr>\n",
              "  </tbody>\n",
              "</table>\n",
              "</div>\n",
              "    <div class=\"colab-df-buttons\">\n",
              "\n",
              "  <div class=\"colab-df-container\">\n",
              "    <button class=\"colab-df-convert\" onclick=\"convertToInteractive('df-b98f3ba8-b643-4f8b-b1aa-82765488a519')\"\n",
              "            title=\"Convert this dataframe to an interactive table.\"\n",
              "            style=\"display:none;\">\n",
              "\n",
              "  <svg xmlns=\"http://www.w3.org/2000/svg\" height=\"24px\" viewBox=\"0 -960 960 960\">\n",
              "    <path d=\"M120-120v-720h720v720H120Zm60-500h600v-160H180v160Zm220 220h160v-160H400v160Zm0 220h160v-160H400v160ZM180-400h160v-160H180v160Zm440 0h160v-160H620v160ZM180-180h160v-160H180v160Zm440 0h160v-160H620v160Z\"/>\n",
              "  </svg>\n",
              "    </button>\n",
              "\n",
              "  <style>\n",
              "    .colab-df-container {\n",
              "      display:flex;\n",
              "      gap: 12px;\n",
              "    }\n",
              "\n",
              "    .colab-df-convert {\n",
              "      background-color: #E8F0FE;\n",
              "      border: none;\n",
              "      border-radius: 50%;\n",
              "      cursor: pointer;\n",
              "      display: none;\n",
              "      fill: #1967D2;\n",
              "      height: 32px;\n",
              "      padding: 0 0 0 0;\n",
              "      width: 32px;\n",
              "    }\n",
              "\n",
              "    .colab-df-convert:hover {\n",
              "      background-color: #E2EBFA;\n",
              "      box-shadow: 0px 1px 2px rgba(60, 64, 67, 0.3), 0px 1px 3px 1px rgba(60, 64, 67, 0.15);\n",
              "      fill: #174EA6;\n",
              "    }\n",
              "\n",
              "    .colab-df-buttons div {\n",
              "      margin-bottom: 4px;\n",
              "    }\n",
              "\n",
              "    [theme=dark] .colab-df-convert {\n",
              "      background-color: #3B4455;\n",
              "      fill: #D2E3FC;\n",
              "    }\n",
              "\n",
              "    [theme=dark] .colab-df-convert:hover {\n",
              "      background-color: #434B5C;\n",
              "      box-shadow: 0px 1px 3px 1px rgba(0, 0, 0, 0.15);\n",
              "      filter: drop-shadow(0px 1px 2px rgba(0, 0, 0, 0.3));\n",
              "      fill: #FFFFFF;\n",
              "    }\n",
              "  </style>\n",
              "\n",
              "    <script>\n",
              "      const buttonEl =\n",
              "        document.querySelector('#df-b98f3ba8-b643-4f8b-b1aa-82765488a519 button.colab-df-convert');\n",
              "      buttonEl.style.display =\n",
              "        google.colab.kernel.accessAllowed ? 'block' : 'none';\n",
              "\n",
              "      async function convertToInteractive(key) {\n",
              "        const element = document.querySelector('#df-b98f3ba8-b643-4f8b-b1aa-82765488a519');\n",
              "        const dataTable =\n",
              "          await google.colab.kernel.invokeFunction('convertToInteractive',\n",
              "                                                    [key], {});\n",
              "        if (!dataTable) return;\n",
              "\n",
              "        const docLinkHtml = 'Like what you see? Visit the ' +\n",
              "          '<a target=\"_blank\" href=https://colab.research.google.com/notebooks/data_table.ipynb>data table notebook</a>'\n",
              "          + ' to learn more about interactive tables.';\n",
              "        element.innerHTML = '';\n",
              "        dataTable['output_type'] = 'display_data';\n",
              "        await google.colab.output.renderOutput(dataTable, element);\n",
              "        const docLink = document.createElement('div');\n",
              "        docLink.innerHTML = docLinkHtml;\n",
              "        element.appendChild(docLink);\n",
              "      }\n",
              "    </script>\n",
              "  </div>\n",
              "\n",
              "\n",
              "    <div id=\"df-84611002-6e1d-4195-bffd-c660cb8959bc\">\n",
              "      <button class=\"colab-df-quickchart\" onclick=\"quickchart('df-84611002-6e1d-4195-bffd-c660cb8959bc')\"\n",
              "                title=\"Suggest charts\"\n",
              "                style=\"display:none;\">\n",
              "\n",
              "<svg xmlns=\"http://www.w3.org/2000/svg\" height=\"24px\"viewBox=\"0 0 24 24\"\n",
              "     width=\"24px\">\n",
              "    <g>\n",
              "        <path d=\"M19 3H5c-1.1 0-2 .9-2 2v14c0 1.1.9 2 2 2h14c1.1 0 2-.9 2-2V5c0-1.1-.9-2-2-2zM9 17H7v-7h2v7zm4 0h-2V7h2v10zm4 0h-2v-4h2v4z\"/>\n",
              "    </g>\n",
              "</svg>\n",
              "      </button>\n",
              "\n",
              "<style>\n",
              "  .colab-df-quickchart {\n",
              "      --bg-color: #E8F0FE;\n",
              "      --fill-color: #1967D2;\n",
              "      --hover-bg-color: #E2EBFA;\n",
              "      --hover-fill-color: #174EA6;\n",
              "      --disabled-fill-color: #AAA;\n",
              "      --disabled-bg-color: #DDD;\n",
              "  }\n",
              "\n",
              "  [theme=dark] .colab-df-quickchart {\n",
              "      --bg-color: #3B4455;\n",
              "      --fill-color: #D2E3FC;\n",
              "      --hover-bg-color: #434B5C;\n",
              "      --hover-fill-color: #FFFFFF;\n",
              "      --disabled-bg-color: #3B4455;\n",
              "      --disabled-fill-color: #666;\n",
              "  }\n",
              "\n",
              "  .colab-df-quickchart {\n",
              "    background-color: var(--bg-color);\n",
              "    border: none;\n",
              "    border-radius: 50%;\n",
              "    cursor: pointer;\n",
              "    display: none;\n",
              "    fill: var(--fill-color);\n",
              "    height: 32px;\n",
              "    padding: 0;\n",
              "    width: 32px;\n",
              "  }\n",
              "\n",
              "  .colab-df-quickchart:hover {\n",
              "    background-color: var(--hover-bg-color);\n",
              "    box-shadow: 0 1px 2px rgba(60, 64, 67, 0.3), 0 1px 3px 1px rgba(60, 64, 67, 0.15);\n",
              "    fill: var(--button-hover-fill-color);\n",
              "  }\n",
              "\n",
              "  .colab-df-quickchart-complete:disabled,\n",
              "  .colab-df-quickchart-complete:disabled:hover {\n",
              "    background-color: var(--disabled-bg-color);\n",
              "    fill: var(--disabled-fill-color);\n",
              "    box-shadow: none;\n",
              "  }\n",
              "\n",
              "  .colab-df-spinner {\n",
              "    border: 2px solid var(--fill-color);\n",
              "    border-color: transparent;\n",
              "    border-bottom-color: var(--fill-color);\n",
              "    animation:\n",
              "      spin 1s steps(1) infinite;\n",
              "  }\n",
              "\n",
              "  @keyframes spin {\n",
              "    0% {\n",
              "      border-color: transparent;\n",
              "      border-bottom-color: var(--fill-color);\n",
              "      border-left-color: var(--fill-color);\n",
              "    }\n",
              "    20% {\n",
              "      border-color: transparent;\n",
              "      border-left-color: var(--fill-color);\n",
              "      border-top-color: var(--fill-color);\n",
              "    }\n",
              "    30% {\n",
              "      border-color: transparent;\n",
              "      border-left-color: var(--fill-color);\n",
              "      border-top-color: var(--fill-color);\n",
              "      border-right-color: var(--fill-color);\n",
              "    }\n",
              "    40% {\n",
              "      border-color: transparent;\n",
              "      border-right-color: var(--fill-color);\n",
              "      border-top-color: var(--fill-color);\n",
              "    }\n",
              "    60% {\n",
              "      border-color: transparent;\n",
              "      border-right-color: var(--fill-color);\n",
              "    }\n",
              "    80% {\n",
              "      border-color: transparent;\n",
              "      border-right-color: var(--fill-color);\n",
              "      border-bottom-color: var(--fill-color);\n",
              "    }\n",
              "    90% {\n",
              "      border-color: transparent;\n",
              "      border-bottom-color: var(--fill-color);\n",
              "    }\n",
              "  }\n",
              "</style>\n",
              "\n",
              "      <script>\n",
              "        async function quickchart(key) {\n",
              "          const quickchartButtonEl =\n",
              "            document.querySelector('#' + key + ' button');\n",
              "          quickchartButtonEl.disabled = true;  // To prevent multiple clicks.\n",
              "          quickchartButtonEl.classList.add('colab-df-spinner');\n",
              "          try {\n",
              "            const charts = await google.colab.kernel.invokeFunction(\n",
              "                'suggestCharts', [key], {});\n",
              "          } catch (error) {\n",
              "            console.error('Error during call to suggestCharts:', error);\n",
              "          }\n",
              "          quickchartButtonEl.classList.remove('colab-df-spinner');\n",
              "          quickchartButtonEl.classList.add('colab-df-quickchart-complete');\n",
              "        }\n",
              "        (() => {\n",
              "          let quickchartButtonEl =\n",
              "            document.querySelector('#df-84611002-6e1d-4195-bffd-c660cb8959bc button');\n",
              "          quickchartButtonEl.style.display =\n",
              "            google.colab.kernel.accessAllowed ? 'block' : 'none';\n",
              "        })();\n",
              "      </script>\n",
              "    </div>\n",
              "\n",
              "    </div>\n",
              "  </div>\n"
            ],
            "application/vnd.google.colaboratory.intrinsic+json": {
              "type": "dataframe",
              "summary": "{\n  \"name\": \"display(df\",\n  \"rows\": 15,\n  \"fields\": [\n    {\n      \"column\": \"filename\",\n      \"properties\": {\n        \"dtype\": \"string\",\n        \"num_unique_values\": 15,\n        \"samples\": [\n          \"cosmetics_00049_vis.png\",\n          \"cosmetics_00064_vis.png\",\n          \"cosmetics_00007_vis.png\"\n        ],\n        \"semantic_type\": \"\",\n        \"description\": \"\"\n      }\n    },\n    {\n      \"column\": \"ocr_text\",\n      \"properties\": {\n        \"dtype\": \"string\",\n        \"num_unique_values\": 15,\n        \"samples\": [\n          \"\\uc804\\uc131\\ubd84 \\ub85d\\uc0ac\\uc774\\ub4dc \\ud638\\ud638\\ubc14\\uc528\\uc624\\uc77c \\uce60\\uc774\\uc624\\ub4e0: \\uc81c\\ub77c\\ub9ac\\uc62c \\uc815\\uc81c\\uc218 \\uc138\\ud14c\\uc544\\ub798\\uc2a4-20 \\uce74\\uce74\\uc624\\uc528\\ub4dc\\ubc84\\ud130 \\ubbf8\\ub124\\ub2d0\\uc624\\uc77c \\uc18c\\ubb38\\ud558\\uc774\\ub4dc\\ub85d\\uc0ac\\uc774\\ub4dc \\uce7c\\uc228\\uce58\\uc624\\uae00\\ub9ac\\ubab0\\ub808\\uc774\\ud2b8 \\ud5a5\\ub8cc \\uc138\\ud14c\\uc544\\ub77d\\uc54c\\ucf54\\uc62c \\uc2e4\\ub9ac\\uce74 \\uce7c\\uc2b5\\ud558\\uc774\\ub4dc \\uc544\\ub974\\uac04\\ud2b8\\ub9ac\\ucee4\\ub110\\uc624\\uc77c \\uc54c\\ud30c\\uc774\\uc18c\\uba54 \\ubd80\\ubc1c\\ud398\\ub2d0\\uba54\\ucca0\\ud504\\ub85c\\ud53c\\uc624\\ub0a0 \\uc544\\ubc00\\uc2e0\\ub0a8\\uadf8\",\n          \"[\\uc120\\uc131\\ubcd5 \\ucd5c\\uc81c\\uc911 \\uae00\\ub77c\\uc138\\uad00 \\uc704\\ub3c4\\uacb0-\\uc4f8\\ub098 \\ubb34\\uc784\\uc18d\\uc6b8\\ubb3c \\uc784\\ub3c4\\ub9d0 \\ub098\\uae08\\ud488\\uc6cc \\ucd9c\\ubb3c \\ub611\\ub7ec]\\uce68\\uc784:\\ucd9c\\ubb3c- \\uce68\\uc0b0\\ud638\\ub9d0\\uc8fc\\ucd9c\\ubb3c \\ubb38\\ub974\\uc4f0\\ud2f1\\uc528\\uc694\\uc77c \\uc2a4\\ud604\\ub9ac \\uc8fc\\ucd9c\\ubb3c \\uc81c\\ube44\\ub85c\\uc8fc\\ucd9c\\uc6c0 \\ubcd1\\ud4e8\\uc8fc\\ucd9c\\ubb3c \\uc5d0\\ubc24\\ud2f0\\uc57c 3\\ub85c\\uc18c\\uc62c\\ub9c8 1\\ud6e8\\uc2e0\\ub825\\uc774\\uc62c \\uc0b4\\ub9ac\\uc2e4\\ud718\\uc5b4\\uc528\\ud2b8 \\uce74\\ud504\\ud544\\ub85c\\uc77c\\uc0b4\\ub9ac\\uc2e4\\ub9b0\\uc560\\uc528\\ub825 \\ub610\\ud2f0/\\ucf54 \\uc624\\ub808\\uac78\\ud488\\uc2a4\\ud3d0\\uc774\\ud130 \\ub77c\\uc6b0\\ub9bd\\ud558\\ud558\\uc6b4\\ub85d\\ud398 \\uc124\\uacc4\\uc778\\ub974 \\uc774\\ud558\\ub9ac\\uad50\\uc73c\\uc5f4\\ub9e4\\uc8fc\\ucd9c\\ubb3c \\uc54c\\ub85c\\uc5d0\\ubca0\\ud130@\\uc8fc\\ucd9c\\ubb3c \\ubd88\\ub85c\\ub809\\ud130\\uc6c0\\uc9c8\\uc8fc\\ucd9c\\ubb3c \\ub1cc\\ud504\\ud0ac\\ub9bd\\ub809\\ub9ac\\uc774\\uc62c \\ubc15\\uc774\\uc5b4\\uc138\\uc544\\ub9c8\\uc774\\ubaa8 \\ub9c8\\ub370\\ud130\\uc18c\\uc11c\\ub07c\\uc774\\ube14 \\ubd80\\ud6e8\\ub808\\ub298\\ub418-\\uc774\\ube14 \\uceec\\ub7ec\\uc9c0\\uaecd_\\uc9c8\\ud53d\\ucd9c\\ubb3c \\uc694\\ubc15\\uae30\\uc9c0\\uc8fc \\ub77c\\uc9c0\\ud50c\\ub9e4\\ubcbc\\ucd9c\\ubb3c \\uc6b8\\uc068\\ub9ac\\ub2e4\\ucd9c\\ub85d \\ucde8\\ud53c\\ub9ac\\uc8fc\\ucd9c\\ubb3c @\\uc11c\\ubbf8\\ucda9\\ucd9c\\ubb3c \\ub4b7\\uce74\\ub4e4 \\ub098\\ubb34 \\uc774\\ud06c\\ub77d\\ub808\\uc774\\ud2b8\\uc774(#5\\uc774\\uc77c\\uae38\\uc774\\ub418\\ub9bd\\ub370\\uc774` #\\ud50c\\uc2ac\\ubb38\\uad50\\ucd08\\uc774\\ub4dc' \\uc18c\\ubb38:\\ub85c\\uc77c\\uc5b4\\uc138\\ub9ac\\uc624\\ub370\\uc774\\ub2e4 \\uc62c\\uc6e8\\uc774\\uc804\\ub9ac\\uc560\\uc9f8\\ud2b8 \\uc544\\uc9c0\\ud558\\ub514\\ubb18\\uc0ac\\uc774\\ub2e5 \\uc544\\uc138\\uc774\\ubd09\\uc5b4\\uc528\\ubb34 \\ub9c8\\ub370\\uce74\\uc50c\\ud574\\uc528\\ub2e4 \\ub2e4\\uc774\\uc18c\\ub3c4\\uc774\\ub514\\ud130\\uc5d0\\uc57c \\uace7\\ub85c [\\ud558\\uc3d8\\ud6153 \\ud615\\ud558\\ud6c8.7\\ub9db]\\ub9ac\\uc8040) ^\\uc694\\ud558\\uc5b4$\\ubd84+]\\uc120\\ud615' \\uc0b0+\\uc2f9[\\ucc0c@ 7\\uc2dc\\ud7883\\uc5b4\\ud558\\uc190 1\\ud6153{ \\uc11c\\uc539]\\ud574 \\uc0c8\\ub9ac\\ub3d9 [\\uba85\\ud574( '+\\ub4f1\\ud788\\ub7ec\\ub4dc \\ud558\\uadf8\\ucc9c \\ub098|\\ubbf8|8 @\\ubc18>\\ub9ac\\uad6c \\ubb38\\ud788\\ud558+ \\uc2b5\\ud751\\uc4f8\\uc5b4 @\\ud558\\ub9ac? \\ub9d8\\uc5b4\\uace4\\ud558\\ud558\\ud558## :3\\ud558\\ubb34{; @\\ubc84\\ucc0c\\uc5b4] @\\ud558]\\uac00\\uc190 \\uc624\\ub9ac))3\\uc8048 /3+ '\\ub9ac\\ud558\\uc5b4-\\ubfcc\\ud68c;\\ub17c \\ud0d1\\uc5b4\\ub77c \\uc2dd\\ubc1d\\uc5b4 \\uc5b4\\ub9ac-\\ub418\\uc220\\ub9ac|\\ud5cc (\\ud45c\\ud788\\uc758\\ud558\\ub9ac0) \\ub274\\uc774}\\uadf9 @\\ubc84\\uc9d3\\uc704; 5376+\\ubc84\\uae08; [\\ubc84-\\ud558 &\\uc694\\ud788\\uc5b4 \\ud30e\\uc138\\ud558\\ud558\\uae30\\ub0ab\\ubc1d\\uc8fc6 \\ubf51\\ud788; \\uc694-\\uae30|\\uc55e \\uac10`\\uc190 @\\uc5b4\\uc5b4\\uc5b4\\ucc0c\\uce68 (,\\ud558\\uc5b4? \\uae08 \\uc2e4\\uc4f0\\uc6ec\\uc5b4\\uc624 @\\ub0d0\\ub2c8\\ub791\\ud130 \\uc774\\uc544 0\\ub0d0\\uc5b4>- \\ud751\\uc704#\\uaed1 \\uc5b4\\uc5b4.\\uc804\\uc2206 @\\ud558\\ud30c3\\uc2a4 836 0  \\uc9c4\\uc774\\uc804| ,6\\ucd1d [\\uc11c \\ubc29 [.3{7\\ud558\\uc694\\ub4e0 \\uc2dd\\uc694{\\ud788\\uc5b4\\uc720 \\ud788\\ud138\\uc5b4\\uc775 \\uc0c8\\ub9ac\\uaddc\\ud558\\ub7ec\\ud558\\uc0b0\\ud6c8\\ud574\\uc601  \\ub450\\uc5d0\\uadf9 @\\ubc94\\uc5b45377\\ud574 \\uad6c\\ub0a0 3\\uafb8\\ub4ef \\uc7ac\\uc11c\\ub3c46\\ub3c4 {-#\\uc2ac]]\\ubbf8\\ubc15\\ud558\\ud558\\uc220 8\\uc2dc\\uc5b4\\ube446 \\ub538\\uc5b4\\ud788 \\ubb3c\\uc544\\ud558. @\\uc228\\ub367\\uc758\\uac70 -\\uc138\\uc5b4\\ubd84 \\ub77d4:\\ub369\\ud788 4\\uc5b4> \\uc81c<\\ubc1d\\ud558#\\ucd5c\\ub3c4 |\\ud558 -\\ucc0c))'- [\\uc11c\\ub9ac\\uc5b4\\ub17c [+:? [\\ubd48\\ubc40\\uce68(\\uc6b1 (#9+? 3371\\ucc98? \\uc5ec\\ub791\\uc5c7\\ub108\\uae0b3--\\uc774:3@ \\uc138 ~]\\ub77c+[ @\\uae30\\uccad\\ubc84\\ubc84 @]\\ud5a5} 6\\uc751 @\\uc5b4\\ud788@3\\uce58\\ud0c0 \\uc0ac:\\uc5b4\\ub9ac\\ubb3c]3 [(\\uc5b4\\ub118-\\ub7ec\\ud6155 [\\uc11c \\uc5b4 ['\\ud615\\uc0b0\\uc5b4\\uc774\\uc57c@7 [/\\ube44\\ud5583\\uc774 \\uc9c0\\ud55801 \\ub3c4\\uc694\\uc11c\\uc5b4 \\uc7a5\\ud558\\ub77c\\ud558\\ucc44  @\\uc6ec\\uc5b433\\uc81c\\uc5b4-*\\uc785. ~\\ud558\\ud558.\\ud558 @\\uc5b46\\uc5b4\\ud130 \\uae30\\uc990\\uc5c6\\ud788 :\\ud558\\ud558 \\uce58\\ud1a4'~@3 43\\ud55846 \\uc2b5\\uc5b4\\ud788 (3|\\uc5b43\\ud30c\\ud5586 4\\uc5b4\\ud788 \\ub290\\ub514:,\\ud6c4 [#\\ub9ac@\\uc379]\\uad50(.\\uc784\\ud0c0;\\ubbf8\\ud558\",\n          \"\\uc804\\uc131\\ubd84 \\uc815\\uc81c\\uc218 1,2-\\ud575\\uc0b0\\ub2e4\\uc774\\uc62c \\ud504\\ub85c\\uad00\\ub2e4\\uc774\\uc62c \\ubd80\\ub52a\\ub80c\\ub4e4\\ub77c\\uc774\\ud074 \\uc18c\\ubb38\\ud558\\uc774\\uc54c\\ub8e8\\ub85c\\ub124\\uc774\\ud2b8 \\ubcf5\\uc2dc\\ub098\\ubb34\\uc78e\\ucd94\\ucd9c\\ubb3c \\uc0ac\\uacfc\\uc218 \\uc18c\\uc784\\uc8fc\\ucd9c\\ubb3c \\uc300\\ucd94\\ucd9c\\ubb3c \\ub2e4\\uc774\\ud504\\ub85c\\ud544\\ub80c\\uae00\\ub77c\\uc774\\ud074 \\ubcd1\\ub098\\ubb34\\uc78e\\ucd94\\ucd9c\\ubb3c \\ud798\\ubc84\\ub4dc\\ub098\\ubb34 \\ub9e4\\uc2e4\\uc8fc\\ucd9c\\ubb3c \\ud310\\ud130\\ub298 \\ud2b8\\ub85c\\uba54\\ud0c0\\ubbfc \\uc544\\ud06c\\ub807\\ub808 \\uaecd\\uc9c8\\ucd94\\ucd9c\\ubb3c \\ud68c\\ud654\\ub098\\ub098\\ubb34\\ubfcc\\ub9ac\\uc8fc\\ucd9c\\ubb3c \\uc138\\ub77c\\ub9c8\\uc774\\ub4dc\\uc5d4\\ud53c \\uc774\\uc62c (12-14\\ud53c\\ub809\\uc2a4-12 \\uc774\\ud2b8010-30\\uc54c\\uae38\\uc544\\ud06c\\ub77d\\ub808\\uc774\\ud2b8\\ud06c\\ub85c\\uc2a4\\ud50c\\ub9ac\\uba38 \\uc608\\ud154\\ud575\\uc2e4\\uae01\\ub9ac\\uc138\\ub9b0 \\ub2e4\\uc774\\uc18c\\ub465\\uc774\\ub514\\ud2f0\\uc5d0\\uc774 \\ud5a5\\ub8cc \\uce74\\ubcf4\\uba38 \\uba54\\ub7b5\\ud504\\ub85c\\uad00\\ub2e4\"\n        ],\n        \"semantic_type\": \"\",\n        \"description\": \"\"\n      }\n    }\n  ]\n}"
            }
          },
          "metadata": {}
        }
      ]
    },
    {
      "cell_type": "code",
      "source": [
        "import pandas as pd\n",
        "import editdistance\n",
        "from tqdm import tqdm\n",
        "import re\n",
        "\n",
        "# ==============================\n",
        "# 📁 파일 경로\n",
        "# ==============================\n",
        "gt_csv = \"/content/ground_truth.csv\"\n",
        "ocr_csv = \"/content/ocr_texts.csv\"\n",
        "output_csv = \"/content/ocr_eval_results.csv\"\n",
        "\n",
        "# ==============================\n",
        "# 🧩 파일 불러오기\n",
        "# ==============================\n",
        "gt_df = pd.read_csv(gt_csv)\n",
        "ocr_df = pd.read_csv(ocr_csv)\n",
        "\n",
        "# 파일명 정리 (base 기준으로 merge)\n",
        "gt_df['base'] = gt_df['filename'].str.replace('.json', '', regex=False)\n",
        "ocr_df['base'] = ocr_df['filename'].str.replace('_vis.png', '', regex=False)\n",
        "\n",
        "merged = pd.merge(gt_df, ocr_df, on='base', how='inner')\n",
        "print(f\"🔗 매칭된 파일 수: {len(merged)}개\\n\")\n",
        "\n",
        "# ==============================\n",
        "# 📏 평가 함수 정의\n",
        "# ==============================\n",
        "def cer(ref, hyp):\n",
        "    ref, hyp = ref.replace(\" \", \"\"), hyp.replace(\" \", \"\")\n",
        "    return editdistance.eval(ref, hyp) / max(1, len(ref))\n",
        "\n",
        "def wer(ref, hyp):\n",
        "    ref_words, hyp_words = ref.split(), hyp.split()\n",
        "    return editdistance.eval(ref_words, hyp_words) / max(1, len(ref_words))\n",
        "\n",
        "def precision_recall(gt, pred):\n",
        "    # 단어 단위로 비교 (대소문자 무시)\n",
        "    gt_tokens = set(re.findall(r\"[가-힣A-Za-z0-9]+\", gt.lower()))\n",
        "    pred_tokens = set(re.findall(r\"[가-힣A-Za-z0-9]+\", pred.lower()))\n",
        "\n",
        "    if not gt_tokens:\n",
        "        return 0, 0, 0\n",
        "\n",
        "    tp = len(gt_tokens & pred_tokens)\n",
        "    fp = len(pred_tokens - gt_tokens)\n",
        "    fn = len(gt_tokens - pred_tokens)\n",
        "\n",
        "    precision = tp / (tp + fp) if (tp + fp) > 0 else 0\n",
        "    recall = tp / (tp + fn) if (tp + fn) > 0 else 0\n",
        "    f1 = (2 * precision * recall) / (precision + recall) if (precision + recall) > 0 else 0\n",
        "\n",
        "    return precision, recall, f1\n",
        "\n",
        "# ==============================\n",
        "# 📊 파일별 성능 계산\n",
        "# ==============================\n",
        "results = []\n",
        "for _, row in tqdm(merged.iterrows(), total=len(merged)):\n",
        "    gt_text = str(row['GT_text']).strip()\n",
        "    ocr_text = str(row['ocr_text']).strip()\n",
        "\n",
        "    c = cer(gt_text, ocr_text)\n",
        "    w = wer(gt_text, ocr_text)\n",
        "    p, r, f1 = precision_recall(gt_text, ocr_text)\n",
        "\n",
        "    results.append({\n",
        "        \"filename\": row['filename_x'],\n",
        "        \"CER\": c,\n",
        "        \"WER\": w,\n",
        "        \"Precision\": p,\n",
        "        \"Recall\": r,\n",
        "        \"F1-Score\": f1\n",
        "    })\n",
        "\n",
        "df_eval = pd.DataFrame(results)\n",
        "df_eval.to_csv(output_csv, index=False, encoding=\"utf-8-sig\")\n",
        "\n",
        "# ==============================\n",
        "# 📈 평균값 출력\n",
        "# ==============================\n",
        "print(\"\\n📊 성능 요약 (평균)\")\n",
        "print(f\"✅ 평균 CER: {df_eval['CER'].mean():.4f}\")\n",
        "print(f\"✅ 평균 WER: {df_eval['WER'].mean():.4f}\")\n",
        "print(f\"✅ 평균 Precision: {df_eval['Precision'].mean():.4f}\")\n",
        "print(f\"✅ 평균 Recall: {df_eval['Recall'].mean():.4f}\")\n",
        "print(f\"✅ 평균 F1-Score: {df_eval['F1-Score'].mean():.4f}\")\n",
        "\n",
        "display(df_eval.head(10))"
      ],
      "metadata": {
        "colab": {
          "base_uri": "https://localhost:8080/",
          "height": 585
        },
        "id": "ELOI54gp_pZx",
        "outputId": "21fb6246-abbf-4023-a35f-d8e1ec3f2814"
      },
      "execution_count": 6,
      "outputs": [
        {
          "output_type": "stream",
          "name": "stdout",
          "text": [
            "🔗 매칭된 파일 수: 100개\n",
            "\n"
          ]
        },
        {
          "output_type": "stream",
          "name": "stderr",
          "text": [
            "100%|██████████| 100/100 [00:00<00:00, 2724.55it/s]"
          ]
        },
        {
          "output_type": "stream",
          "name": "stdout",
          "text": [
            "\n",
            "📊 성능 요약 (평균)\n",
            "✅ 평균 CER: 0.4175\n",
            "✅ 평균 WER: 0.9761\n",
            "✅ 평균 Precision: 0.2338\n",
            "✅ 평균 Recall: 0.2481\n",
            "✅ 평균 F1-Score: 0.2374\n"
          ]
        },
        {
          "output_type": "stream",
          "name": "stderr",
          "text": [
            "\n"
          ]
        },
        {
          "output_type": "display_data",
          "data": {
            "text/plain": [
              "               filename       CER       WER  Precision    Recall  F1-Score\n",
              "0  cosmetics_00007.json  0.283654  0.933333   0.406250  0.382353  0.393939\n",
              "1  cosmetics_00022.json  0.310056  0.943396   0.259259  0.250000  0.254545\n",
              "2  cosmetics_00025.json  0.364641  1.000000   0.185185  0.178571  0.181818\n",
              "3  cosmetics_00026.json  0.703448  1.000000   0.000000  0.000000  0.000000\n",
              "4  cosmetics_00031.json  0.594937  1.000000   0.102041  0.102041  0.102041\n",
              "5  cosmetics_00039.json  0.291188  0.972973   0.256410  0.243902  0.250000\n",
              "6  cosmetics_00041.json  0.896679  1.000000   0.000000  0.000000  0.000000\n",
              "7  cosmetics_00045.json  0.369369  1.000000   0.171429  0.171429  0.171429\n",
              "8  cosmetics_00047.json  0.373333  0.909091   0.333333  0.363636  0.347826\n",
              "9  cosmetics_00049.json  0.222222  0.894737   0.500000  0.500000  0.500000"
            ],
            "text/html": [
              "\n",
              "  <div id=\"df-5a62f3dc-f73e-4974-85f0-c7e244773d52\" class=\"colab-df-container\">\n",
              "    <div>\n",
              "<style scoped>\n",
              "    .dataframe tbody tr th:only-of-type {\n",
              "        vertical-align: middle;\n",
              "    }\n",
              "\n",
              "    .dataframe tbody tr th {\n",
              "        vertical-align: top;\n",
              "    }\n",
              "\n",
              "    .dataframe thead th {\n",
              "        text-align: right;\n",
              "    }\n",
              "</style>\n",
              "<table border=\"1\" class=\"dataframe\">\n",
              "  <thead>\n",
              "    <tr style=\"text-align: right;\">\n",
              "      <th></th>\n",
              "      <th>filename</th>\n",
              "      <th>CER</th>\n",
              "      <th>WER</th>\n",
              "      <th>Precision</th>\n",
              "      <th>Recall</th>\n",
              "      <th>F1-Score</th>\n",
              "    </tr>\n",
              "  </thead>\n",
              "  <tbody>\n",
              "    <tr>\n",
              "      <th>0</th>\n",
              "      <td>cosmetics_00007.json</td>\n",
              "      <td>0.283654</td>\n",
              "      <td>0.933333</td>\n",
              "      <td>0.406250</td>\n",
              "      <td>0.382353</td>\n",
              "      <td>0.393939</td>\n",
              "    </tr>\n",
              "    <tr>\n",
              "      <th>1</th>\n",
              "      <td>cosmetics_00022.json</td>\n",
              "      <td>0.310056</td>\n",
              "      <td>0.943396</td>\n",
              "      <td>0.259259</td>\n",
              "      <td>0.250000</td>\n",
              "      <td>0.254545</td>\n",
              "    </tr>\n",
              "    <tr>\n",
              "      <th>2</th>\n",
              "      <td>cosmetics_00025.json</td>\n",
              "      <td>0.364641</td>\n",
              "      <td>1.000000</td>\n",
              "      <td>0.185185</td>\n",
              "      <td>0.178571</td>\n",
              "      <td>0.181818</td>\n",
              "    </tr>\n",
              "    <tr>\n",
              "      <th>3</th>\n",
              "      <td>cosmetics_00026.json</td>\n",
              "      <td>0.703448</td>\n",
              "      <td>1.000000</td>\n",
              "      <td>0.000000</td>\n",
              "      <td>0.000000</td>\n",
              "      <td>0.000000</td>\n",
              "    </tr>\n",
              "    <tr>\n",
              "      <th>4</th>\n",
              "      <td>cosmetics_00031.json</td>\n",
              "      <td>0.594937</td>\n",
              "      <td>1.000000</td>\n",
              "      <td>0.102041</td>\n",
              "      <td>0.102041</td>\n",
              "      <td>0.102041</td>\n",
              "    </tr>\n",
              "    <tr>\n",
              "      <th>5</th>\n",
              "      <td>cosmetics_00039.json</td>\n",
              "      <td>0.291188</td>\n",
              "      <td>0.972973</td>\n",
              "      <td>0.256410</td>\n",
              "      <td>0.243902</td>\n",
              "      <td>0.250000</td>\n",
              "    </tr>\n",
              "    <tr>\n",
              "      <th>6</th>\n",
              "      <td>cosmetics_00041.json</td>\n",
              "      <td>0.896679</td>\n",
              "      <td>1.000000</td>\n",
              "      <td>0.000000</td>\n",
              "      <td>0.000000</td>\n",
              "      <td>0.000000</td>\n",
              "    </tr>\n",
              "    <tr>\n",
              "      <th>7</th>\n",
              "      <td>cosmetics_00045.json</td>\n",
              "      <td>0.369369</td>\n",
              "      <td>1.000000</td>\n",
              "      <td>0.171429</td>\n",
              "      <td>0.171429</td>\n",
              "      <td>0.171429</td>\n",
              "    </tr>\n",
              "    <tr>\n",
              "      <th>8</th>\n",
              "      <td>cosmetics_00047.json</td>\n",
              "      <td>0.373333</td>\n",
              "      <td>0.909091</td>\n",
              "      <td>0.333333</td>\n",
              "      <td>0.363636</td>\n",
              "      <td>0.347826</td>\n",
              "    </tr>\n",
              "    <tr>\n",
              "      <th>9</th>\n",
              "      <td>cosmetics_00049.json</td>\n",
              "      <td>0.222222</td>\n",
              "      <td>0.894737</td>\n",
              "      <td>0.500000</td>\n",
              "      <td>0.500000</td>\n",
              "      <td>0.500000</td>\n",
              "    </tr>\n",
              "  </tbody>\n",
              "</table>\n",
              "</div>\n",
              "    <div class=\"colab-df-buttons\">\n",
              "\n",
              "  <div class=\"colab-df-container\">\n",
              "    <button class=\"colab-df-convert\" onclick=\"convertToInteractive('df-5a62f3dc-f73e-4974-85f0-c7e244773d52')\"\n",
              "            title=\"Convert this dataframe to an interactive table.\"\n",
              "            style=\"display:none;\">\n",
              "\n",
              "  <svg xmlns=\"http://www.w3.org/2000/svg\" height=\"24px\" viewBox=\"0 -960 960 960\">\n",
              "    <path d=\"M120-120v-720h720v720H120Zm60-500h600v-160H180v160Zm220 220h160v-160H400v160Zm0 220h160v-160H400v160ZM180-400h160v-160H180v160Zm440 0h160v-160H620v160ZM180-180h160v-160H180v160Zm440 0h160v-160H620v160Z\"/>\n",
              "  </svg>\n",
              "    </button>\n",
              "\n",
              "  <style>\n",
              "    .colab-df-container {\n",
              "      display:flex;\n",
              "      gap: 12px;\n",
              "    }\n",
              "\n",
              "    .colab-df-convert {\n",
              "      background-color: #E8F0FE;\n",
              "      border: none;\n",
              "      border-radius: 50%;\n",
              "      cursor: pointer;\n",
              "      display: none;\n",
              "      fill: #1967D2;\n",
              "      height: 32px;\n",
              "      padding: 0 0 0 0;\n",
              "      width: 32px;\n",
              "    }\n",
              "\n",
              "    .colab-df-convert:hover {\n",
              "      background-color: #E2EBFA;\n",
              "      box-shadow: 0px 1px 2px rgba(60, 64, 67, 0.3), 0px 1px 3px 1px rgba(60, 64, 67, 0.15);\n",
              "      fill: #174EA6;\n",
              "    }\n",
              "\n",
              "    .colab-df-buttons div {\n",
              "      margin-bottom: 4px;\n",
              "    }\n",
              "\n",
              "    [theme=dark] .colab-df-convert {\n",
              "      background-color: #3B4455;\n",
              "      fill: #D2E3FC;\n",
              "    }\n",
              "\n",
              "    [theme=dark] .colab-df-convert:hover {\n",
              "      background-color: #434B5C;\n",
              "      box-shadow: 0px 1px 3px 1px rgba(0, 0, 0, 0.15);\n",
              "      filter: drop-shadow(0px 1px 2px rgba(0, 0, 0, 0.3));\n",
              "      fill: #FFFFFF;\n",
              "    }\n",
              "  </style>\n",
              "\n",
              "    <script>\n",
              "      const buttonEl =\n",
              "        document.querySelector('#df-5a62f3dc-f73e-4974-85f0-c7e244773d52 button.colab-df-convert');\n",
              "      buttonEl.style.display =\n",
              "        google.colab.kernel.accessAllowed ? 'block' : 'none';\n",
              "\n",
              "      async function convertToInteractive(key) {\n",
              "        const element = document.querySelector('#df-5a62f3dc-f73e-4974-85f0-c7e244773d52');\n",
              "        const dataTable =\n",
              "          await google.colab.kernel.invokeFunction('convertToInteractive',\n",
              "                                                    [key], {});\n",
              "        if (!dataTable) return;\n",
              "\n",
              "        const docLinkHtml = 'Like what you see? Visit the ' +\n",
              "          '<a target=\"_blank\" href=https://colab.research.google.com/notebooks/data_table.ipynb>data table notebook</a>'\n",
              "          + ' to learn more about interactive tables.';\n",
              "        element.innerHTML = '';\n",
              "        dataTable['output_type'] = 'display_data';\n",
              "        await google.colab.output.renderOutput(dataTable, element);\n",
              "        const docLink = document.createElement('div');\n",
              "        docLink.innerHTML = docLinkHtml;\n",
              "        element.appendChild(docLink);\n",
              "      }\n",
              "    </script>\n",
              "  </div>\n",
              "\n",
              "\n",
              "    <div id=\"df-00af77bd-8d34-4b6e-9d30-1dae85109314\">\n",
              "      <button class=\"colab-df-quickchart\" onclick=\"quickchart('df-00af77bd-8d34-4b6e-9d30-1dae85109314')\"\n",
              "                title=\"Suggest charts\"\n",
              "                style=\"display:none;\">\n",
              "\n",
              "<svg xmlns=\"http://www.w3.org/2000/svg\" height=\"24px\"viewBox=\"0 0 24 24\"\n",
              "     width=\"24px\">\n",
              "    <g>\n",
              "        <path d=\"M19 3H5c-1.1 0-2 .9-2 2v14c0 1.1.9 2 2 2h14c1.1 0 2-.9 2-2V5c0-1.1-.9-2-2-2zM9 17H7v-7h2v7zm4 0h-2V7h2v10zm4 0h-2v-4h2v4z\"/>\n",
              "    </g>\n",
              "</svg>\n",
              "      </button>\n",
              "\n",
              "<style>\n",
              "  .colab-df-quickchart {\n",
              "      --bg-color: #E8F0FE;\n",
              "      --fill-color: #1967D2;\n",
              "      --hover-bg-color: #E2EBFA;\n",
              "      --hover-fill-color: #174EA6;\n",
              "      --disabled-fill-color: #AAA;\n",
              "      --disabled-bg-color: #DDD;\n",
              "  }\n",
              "\n",
              "  [theme=dark] .colab-df-quickchart {\n",
              "      --bg-color: #3B4455;\n",
              "      --fill-color: #D2E3FC;\n",
              "      --hover-bg-color: #434B5C;\n",
              "      --hover-fill-color: #FFFFFF;\n",
              "      --disabled-bg-color: #3B4455;\n",
              "      --disabled-fill-color: #666;\n",
              "  }\n",
              "\n",
              "  .colab-df-quickchart {\n",
              "    background-color: var(--bg-color);\n",
              "    border: none;\n",
              "    border-radius: 50%;\n",
              "    cursor: pointer;\n",
              "    display: none;\n",
              "    fill: var(--fill-color);\n",
              "    height: 32px;\n",
              "    padding: 0;\n",
              "    width: 32px;\n",
              "  }\n",
              "\n",
              "  .colab-df-quickchart:hover {\n",
              "    background-color: var(--hover-bg-color);\n",
              "    box-shadow: 0 1px 2px rgba(60, 64, 67, 0.3), 0 1px 3px 1px rgba(60, 64, 67, 0.15);\n",
              "    fill: var(--button-hover-fill-color);\n",
              "  }\n",
              "\n",
              "  .colab-df-quickchart-complete:disabled,\n",
              "  .colab-df-quickchart-complete:disabled:hover {\n",
              "    background-color: var(--disabled-bg-color);\n",
              "    fill: var(--disabled-fill-color);\n",
              "    box-shadow: none;\n",
              "  }\n",
              "\n",
              "  .colab-df-spinner {\n",
              "    border: 2px solid var(--fill-color);\n",
              "    border-color: transparent;\n",
              "    border-bottom-color: var(--fill-color);\n",
              "    animation:\n",
              "      spin 1s steps(1) infinite;\n",
              "  }\n",
              "\n",
              "  @keyframes spin {\n",
              "    0% {\n",
              "      border-color: transparent;\n",
              "      border-bottom-color: var(--fill-color);\n",
              "      border-left-color: var(--fill-color);\n",
              "    }\n",
              "    20% {\n",
              "      border-color: transparent;\n",
              "      border-left-color: var(--fill-color);\n",
              "      border-top-color: var(--fill-color);\n",
              "    }\n",
              "    30% {\n",
              "      border-color: transparent;\n",
              "      border-left-color: var(--fill-color);\n",
              "      border-top-color: var(--fill-color);\n",
              "      border-right-color: var(--fill-color);\n",
              "    }\n",
              "    40% {\n",
              "      border-color: transparent;\n",
              "      border-right-color: var(--fill-color);\n",
              "      border-top-color: var(--fill-color);\n",
              "    }\n",
              "    60% {\n",
              "      border-color: transparent;\n",
              "      border-right-color: var(--fill-color);\n",
              "    }\n",
              "    80% {\n",
              "      border-color: transparent;\n",
              "      border-right-color: var(--fill-color);\n",
              "      border-bottom-color: var(--fill-color);\n",
              "    }\n",
              "    90% {\n",
              "      border-color: transparent;\n",
              "      border-bottom-color: var(--fill-color);\n",
              "    }\n",
              "  }\n",
              "</style>\n",
              "\n",
              "      <script>\n",
              "        async function quickchart(key) {\n",
              "          const quickchartButtonEl =\n",
              "            document.querySelector('#' + key + ' button');\n",
              "          quickchartButtonEl.disabled = true;  // To prevent multiple clicks.\n",
              "          quickchartButtonEl.classList.add('colab-df-spinner');\n",
              "          try {\n",
              "            const charts = await google.colab.kernel.invokeFunction(\n",
              "                'suggestCharts', [key], {});\n",
              "          } catch (error) {\n",
              "            console.error('Error during call to suggestCharts:', error);\n",
              "          }\n",
              "          quickchartButtonEl.classList.remove('colab-df-spinner');\n",
              "          quickchartButtonEl.classList.add('colab-df-quickchart-complete');\n",
              "        }\n",
              "        (() => {\n",
              "          let quickchartButtonEl =\n",
              "            document.querySelector('#df-00af77bd-8d34-4b6e-9d30-1dae85109314 button');\n",
              "          quickchartButtonEl.style.display =\n",
              "            google.colab.kernel.accessAllowed ? 'block' : 'none';\n",
              "        })();\n",
              "      </script>\n",
              "    </div>\n",
              "\n",
              "    </div>\n",
              "  </div>\n"
            ],
            "application/vnd.google.colaboratory.intrinsic+json": {
              "type": "dataframe",
              "summary": "{\n  \"name\": \"display(df_eval\",\n  \"rows\": 10,\n  \"fields\": [\n    {\n      \"column\": \"filename\",\n      \"properties\": {\n        \"dtype\": \"string\",\n        \"num_unique_values\": 10,\n        \"samples\": [\n          \"cosmetics_00047.json\",\n          \"cosmetics_00022.json\",\n          \"cosmetics_00039.json\"\n        ],\n        \"semantic_type\": \"\",\n        \"description\": \"\"\n      }\n    },\n    {\n      \"column\": \"CER\",\n      \"properties\": {\n        \"dtype\": \"number\",\n        \"std\": 0.2180649632353664,\n        \"min\": 0.2222222222222222,\n        \"max\": 0.8966789667896679,\n        \"num_unique_values\": 10,\n        \"samples\": [\n          0.37333333333333335,\n          0.3100558659217877,\n          0.29118773946360155\n        ],\n        \"semantic_type\": \"\",\n        \"description\": \"\"\n      }\n    },\n    {\n      \"column\": \"WER\",\n      \"properties\": {\n        \"dtype\": \"number\",\n        \"std\": 0.04179255731464535,\n        \"min\": 0.8947368421052632,\n        \"max\": 1.0,\n        \"num_unique_values\": 6,\n        \"samples\": [\n          0.9333333333333333,\n          0.9433962264150944,\n          0.8947368421052632\n        ],\n        \"semantic_type\": \"\",\n        \"description\": \"\"\n      }\n    },\n    {\n      \"column\": \"Precision\",\n      \"properties\": {\n        \"dtype\": \"number\",\n        \"std\": 0.16433934591176166,\n        \"min\": 0.0,\n        \"max\": 0.5,\n        \"num_unique_values\": 9,\n        \"samples\": [\n          0.3333333333333333,\n          0.25925925925925924,\n          0.2564102564102564\n        ],\n        \"semantic_type\": \"\",\n        \"description\": \"\"\n      }\n    },\n    {\n      \"column\": \"Recall\",\n      \"properties\": {\n        \"dtype\": \"number\",\n        \"std\": 0.16385785842786108,\n        \"min\": 0.0,\n        \"max\": 0.5,\n        \"num_unique_values\": 9,\n        \"samples\": [\n          0.36363636363636365,\n          0.25,\n          0.24390243902439024\n        ],\n        \"semantic_type\": \"\",\n        \"description\": \"\"\n      }\n    },\n    {\n      \"column\": \"F1-Score\",\n      \"properties\": {\n        \"dtype\": \"number\",\n        \"std\": 0.16384917119262593,\n        \"min\": 0.0,\n        \"max\": 0.5,\n        \"num_unique_values\": 9,\n        \"samples\": [\n          0.34782608695652173,\n          0.2545454545454545,\n          0.25\n        ],\n        \"semantic_type\": \"\",\n        \"description\": \"\"\n      }\n    }\n  ]\n}"
            }
          },
          "metadata": {}
        }
      ]
    },
    {
      "cell_type": "code",
      "source": [],
      "metadata": {
        "id": "BUurzKwMK5hY"
      },
      "execution_count": null,
      "outputs": []
    }
  ]
}